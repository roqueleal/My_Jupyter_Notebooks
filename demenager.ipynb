{
 "cells": [
  {
   "cell_type": "markdown",
   "metadata": {},
   "source": [
    "![title](https://i.ytimg.com/vi/Cgu5y-6VWfo/maxresdefault.jpg)"
   ]
  },
  {
   "cell_type": "markdown",
   "metadata": {},
   "source": [
    "# Une étude de cas d’intelligence de localisation pour compare locations entre Paris et Lyon\n",
    "\n",
    " <center> <a href=\"http://www.roqueleal.me\">Roque Leal</a> </center>\n",
    "\n",
    "Déménager dans une autre ville est toujours excitant mais implique également de nombreuses décisions. L'une des plus grandes décisions est: où dois-je vivre?\n",
    "Le quartier dans lequel vous vivez peut avoir un impact considérable sur votre première impression de la nouvelle ville, sans oublier que c'est une décision que vous DEVEZ prendre avant de déménager!\n",
    "Certaines personnes vivaient dans des endroits très fréquentés et aimeraient changer de rythme lorsqu'elles bougent. D'autres voudraient la même énergie qu'ils vivaient dans leur vieille ville! Ce projet vise à comparer certains quartiers entre deux villes (dans ce cas, Chicago et Seattle) et à voir quelles zones sont similaires et lesquelles pourraient être complètement opposées.\n",
    "\n",
    "Après quelques recherches de quartier, nous comparerons le quartier à déménager dans Paris, Lyon oú Marselle.\n",
    "\n",
    "Les données que nous utiliserons seront des données de lieu de Foursquare. Les lieux que nous rassemblerons concerneront de nombreuses choses qu'une personne rechercherait lorsqu'elle vivrait, par exemple:\n",
    "    - Épiceries\n",
    "    - Abordabilité de ces lieux\n",
    "    - Restaurants\n",
    "    - Centres commerciaux\n",
    "...et plus!\n",
    "  \n",
    "Voyons voir si nous pouvons les aider à décider."
   ]
  },
  {
   "cell_type": "code",
   "execution_count": 5,
   "metadata": {},
   "outputs": [
    {
     "name": "stdout",
     "output_type": "stream",
     "text": [
      "Bibliothèques importées.\n"
     ]
    }
   ],
   "source": [
    "import numpy as np\n",
    "import pandas as pd\n",
    "pd.set_option('display.max_columns', None)\n",
    "pd.set_option('display.max_rows', None)\n",
    "\n",
    "import json\n",
    "\n",
    "from geopy.geocoders import Nominatim # latitude/longitude converter\n",
    "\n",
    "import requests\n",
    "from pandas.io.json import json_normalize #json files to pandas dataframe\n",
    "\n",
    "import matplotlib.cm as cm\n",
    "import matplotlib.colors as colors\n",
    "\n",
    "import folium\n",
    "\n",
    "print('Bibliothèques importées.')"
   ]
  },
  {
   "cell_type": "markdown",
   "metadata": {},
   "source": [
    "### Configurer l'API´s"
   ]
  },
  {
   "cell_type": "code",
   "execution_count": 1,
   "metadata": {},
   "outputs": [
    {
     "name": "stdout",
     "output_type": "stream",
     "text": [
      "Client ID: xxxxxx\n",
      "Client Secret: xxxxxx\n",
      "Version: xxxxxx\n"
     ]
    }
   ],
   "source": [
    "CLIENT_ID = 'xxxxxx'\n",
    "CLIENT_SECRET = 'xxxxxx'\n",
    "VERSION = 'xxxxxx'\n",
    "\n",
    "print('Client ID: ' + CLIENT_ID)\n",
    "print('Client Secret: ' + CLIENT_SECRET)\n",
    "print('Version: '+ VERSION)"
   ]
  },
  {
   "cell_type": "markdown",
   "metadata": {},
   "source": [
    "# Méthodologie"
   ]
  },
  {
   "cell_type": "markdown",
   "metadata": {},
   "source": [
    "### Adresse Principale: importez à Paris les données de l'API Foursquare et créez DataFrame"
   ]
  },
  {
   "cell_type": "code",
   "execution_count": 6,
   "metadata": {},
   "outputs": [
    {
     "name": "stdout",
     "output_type": "stream",
     "text": [
      "13 Rue de Poissy, 75005 Paris, Francia, coordinates:  48.8489808 2.3525466\n"
     ]
    }
   ],
   "source": [
    "c_address = '13 Rue de Poissy, 75005 Paris, Francia'\n",
    "\n",
    "c_geolocator = Nominatim(user_agent='foursquare_agent')\n",
    "c_location = c_geolocator.geocode(c_address)\n",
    "c_latitude = c_location.latitude\n",
    "c_longitude = c_location.longitude\n",
    "print('13 Rue de Poissy, 75005 Paris, Francia, coordinates: ', c_latitude, c_longitude)"
   ]
  },
  {
   "cell_type": "code",
   "execution_count": 8,
   "metadata": {},
   "outputs": [
    {
     "name": "stdout",
     "output_type": "stream",
     "text": [
      "xxxxxx\n"
     ]
    }
   ],
   "source": [
    "radius = 500\n",
    "LIMIT = 100000\n",
    "\n",
    "c_url = 'xxxxxx'.format(\n",
    "        CLIENT_ID,\n",
    "        CLIENT_SECRET,\n",
    "        c_latitude,\n",
    "        c_longitude,\n",
    "        VERSION,\n",
    "        radius,\n",
    "        LIMIT\n",
    "        )\n",
    "\n",
    "print(c_url)"
   ]
  },
  {
   "cell_type": "code",
   "execution_count": 95,
   "metadata": {},
   "outputs": [],
   "source": [
    "results = requests.get(c_url).json()"
   ]
  },
  {
   "cell_type": "code",
   "execution_count": 96,
   "metadata": {},
   "outputs": [],
   "source": [
    "def get_category_type(row):\n",
    "    try:\n",
    "        category_list = row['categories']\n",
    "    except:\n",
    "        category_list = row['venue.categories']\n",
    "    \n",
    "    if len(category_list) == 0:\n",
    "        return None\n",
    "    else:\n",
    "        return category_list[0]['name']"
   ]
  },
  {
   "cell_type": "code",
   "execution_count": 97,
   "metadata": {},
   "outputs": [],
   "source": [
    "venues = results['response']['groups'][0]['items']\n",
    "\n",
    "nearby_venues = json_normalize(venues) #flattens JSON\n",
    "\n",
    "filtered_columns = ['venue.name', 'venue.id', 'venue.categories', 'venue.location.lat', 'venue.location.lng']\n",
    "nearby_venues = nearby_venues.loc[:, filtered_columns]\n",
    "\n",
    "nearby_venues['venue.categories'] = nearby_venues.apply(get_category_type, axis = 1)"
   ]
  },
  {
   "cell_type": "code",
   "execution_count": 98,
   "metadata": {},
   "outputs": [
    {
     "data": {
      "text/html": [
       "<div>\n",
       "<style scoped>\n",
       "    .dataframe tbody tr th:only-of-type {\n",
       "        vertical-align: middle;\n",
       "    }\n",
       "\n",
       "    .dataframe tbody tr th {\n",
       "        vertical-align: top;\n",
       "    }\n",
       "\n",
       "    .dataframe thead th {\n",
       "        text-align: right;\n",
       "    }\n",
       "</style>\n",
       "<table border=\"1\" class=\"dataframe\">\n",
       "  <thead>\n",
       "    <tr style=\"text-align: right;\">\n",
       "      <th></th>\n",
       "      <th>venue.name</th>\n",
       "      <th>venue.id</th>\n",
       "      <th>venue.categories</th>\n",
       "      <th>venue.location.lat</th>\n",
       "      <th>venue.location.lng</th>\n",
       "    </tr>\n",
       "  </thead>\n",
       "  <tbody>\n",
       "    <tr>\n",
       "      <th>0</th>\n",
       "      <td>La Tour d'Argent</td>\n",
       "      <td>4adcda11f964a520da3521e3</td>\n",
       "      <td>French Restaurant</td>\n",
       "      <td>48.849791</td>\n",
       "      <td>2.354950</td>\n",
       "    </tr>\n",
       "    <tr>\n",
       "      <th>1</th>\n",
       "      <td>Restaurant AT</td>\n",
       "      <td>5342fcff498e1d32177cc21b</td>\n",
       "      <td>Japanese Restaurant</td>\n",
       "      <td>48.849628</td>\n",
       "      <td>2.354654</td>\n",
       "    </tr>\n",
       "    <tr>\n",
       "      <th>2</th>\n",
       "      <td>Au Moulin à Vent</td>\n",
       "      <td>4d3898babb0d721ea09c55e3</td>\n",
       "      <td>French Restaurant</td>\n",
       "      <td>48.848504</td>\n",
       "      <td>2.354937</td>\n",
       "    </tr>\n",
       "    <tr>\n",
       "      <th>3</th>\n",
       "      <td>Grand Action</td>\n",
       "      <td>4b8a75d1f964a520a96d32e3</td>\n",
       "      <td>Indie Movie Theater</td>\n",
       "      <td>48.847614</td>\n",
       "      <td>2.352291</td>\n",
       "    </tr>\n",
       "    <tr>\n",
       "      <th>4</th>\n",
       "      <td>5ème Cru</td>\n",
       "      <td>4b5474d4f964a520e9bb27e3</td>\n",
       "      <td>Wine Bar</td>\n",
       "      <td>48.849066</td>\n",
       "      <td>2.354118</td>\n",
       "    </tr>\n",
       "    <tr>\n",
       "      <th>5</th>\n",
       "      <td>Boulangerie La Parisienne</td>\n",
       "      <td>4e58cf2bd164da2b275956ff</td>\n",
       "      <td>Bakery</td>\n",
       "      <td>48.849949</td>\n",
       "      <td>2.349760</td>\n",
       "    </tr>\n",
       "    <tr>\n",
       "      <th>6</th>\n",
       "      <td>Bonvivant</td>\n",
       "      <td>5530cc1f498ea6903c33a3da</td>\n",
       "      <td>Wine Bar</td>\n",
       "      <td>48.847551</td>\n",
       "      <td>2.351969</td>\n",
       "    </tr>\n",
       "    <tr>\n",
       "      <th>7</th>\n",
       "      <td>Anahuacalli</td>\n",
       "      <td>4adcda14f964a520fe3621e3</td>\n",
       "      <td>Mexican Restaurant</td>\n",
       "      <td>48.849907</td>\n",
       "      <td>2.350409</td>\n",
       "    </tr>\n",
       "    <tr>\n",
       "      <th>8</th>\n",
       "      <td>Diptyque</td>\n",
       "      <td>4adcda21f964a520b93921e3</td>\n",
       "      <td>Miscellaneous Shop</td>\n",
       "      <td>48.849589</td>\n",
       "      <td>2.351653</td>\n",
       "    </tr>\n",
       "    <tr>\n",
       "      <th>9</th>\n",
       "      <td>Strada Café</td>\n",
       "      <td>54842e01498ee191fa3c80e8</td>\n",
       "      <td>Café</td>\n",
       "      <td>48.847038</td>\n",
       "      <td>2.351278</td>\n",
       "    </tr>\n",
       "  </tbody>\n",
       "</table>\n",
       "</div>"
      ],
      "text/plain": [
       "                  venue.name                  venue.id     venue.categories  \\\n",
       "0           La Tour d'Argent  4adcda11f964a520da3521e3    French Restaurant   \n",
       "1              Restaurant AT  5342fcff498e1d32177cc21b  Japanese Restaurant   \n",
       "2           Au Moulin à Vent  4d3898babb0d721ea09c55e3    French Restaurant   \n",
       "3               Grand Action  4b8a75d1f964a520a96d32e3  Indie Movie Theater   \n",
       "4                   5ème Cru  4b5474d4f964a520e9bb27e3             Wine Bar   \n",
       "5  Boulangerie La Parisienne  4e58cf2bd164da2b275956ff               Bakery   \n",
       "6                  Bonvivant  5530cc1f498ea6903c33a3da             Wine Bar   \n",
       "7                Anahuacalli  4adcda14f964a520fe3621e3   Mexican Restaurant   \n",
       "8                   Diptyque  4adcda21f964a520b93921e3   Miscellaneous Shop   \n",
       "9                Strada Café  54842e01498ee191fa3c80e8                 Café   \n",
       "\n",
       "   venue.location.lat  venue.location.lng  \n",
       "0           48.849791            2.354950  \n",
       "1           48.849628            2.354654  \n",
       "2           48.848504            2.354937  \n",
       "3           48.847614            2.352291  \n",
       "4           48.849066            2.354118  \n",
       "5           48.849949            2.349760  \n",
       "6           48.847551            2.351969  \n",
       "7           48.849907            2.350409  \n",
       "8           48.849589            2.351653  \n",
       "9           48.847038            2.351278  "
      ]
     },
     "execution_count": 98,
     "metadata": {},
     "output_type": "execute_result"
    }
   ],
   "source": [
    "nearby_venues.head(10)"
   ]
  },
  {
   "cell_type": "code",
   "execution_count": 99,
   "metadata": {},
   "outputs": [
    {
     "name": "stdout",
     "output_type": "stream",
     "text": [
      "<class 'pandas.core.frame.DataFrame'>\n",
      "RangeIndex: 94 entries, 0 to 93\n",
      "Data columns (total 5 columns):\n",
      "venue.name            94 non-null object\n",
      "venue.id              94 non-null object\n",
      "venue.categories      94 non-null object\n",
      "venue.location.lat    94 non-null float64\n",
      "venue.location.lng    94 non-null float64\n",
      "dtypes: float64(2), object(3)\n",
      "memory usage: 3.8+ KB\n"
     ]
    }
   ],
   "source": [
    "nearby_venues.info()"
   ]
  },
  {
   "cell_type": "markdown",
   "metadata": {},
   "source": [
    "94 \"venues\" sont revenus dans les résultats du 13 rue de Poissy."
   ]
  },
  {
   "cell_type": "markdown",
   "metadata": {},
   "source": [
    "Juste en regardant quelques endroits sur la liste, nous pouvons voir qu'il y a pas mal de variations."
   ]
  },
  {
   "cell_type": "code",
   "execution_count": 100,
   "metadata": {},
   "outputs": [],
   "source": [
    "nearby_venues.columns = [col.split('.')[-1] for col in nearby_venues.columns]"
   ]
  },
  {
   "cell_type": "code",
   "execution_count": 101,
   "metadata": {
    "scrolled": true
   },
   "outputs": [],
   "source": [
    "nearby_venues_map = nearby_venues[0:51]"
   ]
  },
  {
   "cell_type": "code",
   "execution_count": 146,
   "metadata": {},
   "outputs": [
    {
     "data": {
      "text/html": [
       "<div style=\"width:100%;\"><div style=\"position:relative;width:100%;height:0;padding-bottom:60%;\"><iframe src=\"data:text/html;charset=utf-8;base64,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\" style=\"position:absolute;width:100%;height:100%;left:0;top:0;border:none !important;\" allowfullscreen webkitallowfullscreen mozallowfullscreen></iframe></div></div>"
      ],
      "text/plain": [
       "<folium.folium.Map at 0x2773ad37c88>"
      ]
     },
     "execution_count": 146,
     "metadata": {},
     "output_type": "execute_result"
    }
   ],
   "source": [
    "tileset = r'xxxxxx'\n",
    "attribution = (r'Map data © <a href=\"http://openstreetmap.org\">OpenStreetMap</a>'\n",
    "                ' contributors, Imagery © <a href=\"http://mapbox.com\">MapBox</a>')\n",
    "\n",
    "wp_venues_map = folium.Map(location=[c_latitude, c_longitude], zoom_start=16, tiles=tileset, attr=attribution)\n",
    "\n",
    "#red marker added for main location\n",
    "folium.CircleMarker(\n",
    "    [c_latitude,c_longitude],\n",
    "    radius=10,\n",
    "    color='red',\n",
    "    popup='Adresse principale',\n",
    "    fill=True,\n",
    "    fill_color= 'red',\n",
    "    fill_opacity = 0.6\n",
    ").add_to(wp_venues_map)\n",
    "\n",
    "#blue markers for search results\n",
    "for lat, lng, label in zip(nearby_venues_map.lat, nearby_venues_map.lng, nearby_venues_map.categories):\n",
    "    folium.CircleMarker(\n",
    "        [lat, lng],\n",
    "        radius = 5,\n",
    "        color='blue',\n",
    "        popup=label,\n",
    "        fill=True,\n",
    "        fill_color='blue',\n",
    "        fill_opacity=0.6\n",
    "    ).add_to(wp_venues_map)\n",
    "    \n",
    "wp_venues_map"
   ]
  },
  {
   "cell_type": "markdown",
   "metadata": {},
   "source": [
    "### Découverte de l'adresseur principal: 13 Rue de Poissy, 75005 Paris"
   ]
  },
  {
   "cell_type": "code",
   "execution_count": 105,
   "metadata": {},
   "outputs": [
    {
     "data": {
      "text/plain": [
       "name          94\n",
       "id            94\n",
       "categories    94\n",
       "lat           94\n",
       "lng           94\n",
       "dtype: int64"
      ]
     },
     "execution_count": 105,
     "metadata": {},
     "output_type": "execute_result"
    }
   ],
   "source": [
    "nearby_venues.count()"
   ]
  },
  {
   "cell_type": "markdown",
   "metadata": {},
   "source": [
    "Il y a 94 venues dans un rayon de 500 mètres du centre de 13 Rue de Poissy, 75005 Paris."
   ]
  },
  {
   "cell_type": "code",
   "execution_count": 106,
   "metadata": {},
   "outputs": [
    {
     "data": {
      "text/plain": [
       "44"
      ]
     },
     "execution_count": 106,
     "metadata": {},
     "output_type": "execute_result"
    }
   ],
   "source": [
    "wp_unique = nearby_venues['categories'].unique()\n",
    "nearby_venues['categories'].nunique()"
   ]
  },
  {
   "cell_type": "markdown",
   "metadata": {},
   "source": [
    "Il existe 44 types de lieux différents dans le quartier."
   ]
  },
  {
   "cell_type": "code",
   "execution_count": 107,
   "metadata": {},
   "outputs": [
    {
     "data": {
      "text/plain": [
       "categories\n",
       "French Restaurant      22\n",
       "Café                    5\n",
       "Bar                     4\n",
       "Bistro                  4\n",
       "Hotel                   4\n",
       "Pub                     4\n",
       "Bakery                  3\n",
       "Japanese Restaurant     3\n",
       "Ice Cream Shop          3\n",
       "Coffee Shop             3\n",
       "Name: name, dtype: int64"
      ]
     },
     "execution_count": 107,
     "metadata": {},
     "output_type": "execute_result"
    }
   ],
   "source": [
    "top_categories = nearby_venues.groupby('categories').count()['name'].sort_values(ascending=False).head(10)\n",
    "top_categories"
   ]
  },
  {
   "cell_type": "markdown",
   "metadata": {},
   "source": [
    "La catégorie avec le plus de lieux autour sont les French Restaurants, suivie par les Cafés."
   ]
  },
  {
   "cell_type": "markdown",
   "metadata": {},
   "source": [
    "### 13 Rue de Poissy, tarifs et likes"
   ]
  },
  {
   "cell_type": "markdown",
   "metadata": {},
   "source": [
    "Jetons un coup d'œil à 15 venues sites et à son prix et likes avoir pour une idée del quartier."
   ]
  },
  {
   "cell_type": "code",
   "execution_count": 127,
   "metadata": {},
   "outputs": [],
   "source": [
    "def get_venue_info(dataframe_col):\n",
    "    venue_info = []\n",
    "    for venue_id in dataframe_col[0:15]:\n",
    "        v_url = 'https://api.foursquare.com/v2/venues/{}?client_id={}&client_secret={}&v={}'.format(venue_id, CLIENT_ID, CLIENT_SECRET, VERSION)\n",
    "        v_results = requests.get(v_url).json()\n",
    "        try:\n",
    "            venue_name = v_results['response']['venue']['name']\n",
    "        except:\n",
    "            venue_name = 'Not Available'\n",
    "        try:\n",
    "            venue_price = v_results['response']['venue']['price']\n",
    "        except:\n",
    "            venue_price = 'Not Available'\n",
    "        try:\n",
    "            venue_likes = v_results['response']['venue']['likes']['count']\n",
    "        except:\n",
    "            venue_likes = 'Not Available'\n",
    "        venue_info.append([venue_name, venue_price, venue_likes])\n",
    "    return venue_info"
   ]
  },
  {
   "cell_type": "code",
   "execution_count": 132,
   "metadata": {},
   "outputs": [
    {
     "name": "stdout",
     "output_type": "stream",
     "text": [
      "[[\"La Tour d'Argent\", {'tier': 3, 'message': 'Expensive', 'currency': '€'}, 120], ['Restaurant AT', {'tier': 2, 'message': 'Moderate', 'currency': '€'}, 50], ['Au Moulin à Vent', {'tier': 3, 'message': 'Expensive', 'currency': '€'}, 16], ['Grand Action', 'Not Available', 41], ['5ème Cru', {'tier': 2, 'message': 'Moderate', 'currency': '€'}, 27], ['Boulangerie La Parisienne', {'tier': 1, 'message': 'Cheap', 'currency': '€'}, 125], ['Bonvivant', {'tier': 2, 'message': 'Moderate', 'currency': '€'}, 41], ['Anahuacalli', {'tier': 1, 'message': 'Cheap', 'currency': '€'}, 97], ['Diptyque', 'Not Available', 25], ['Strada Café', {'tier': 1, 'message': 'Cheap', 'currency': '€'}, 287], ['Aux Merveilleux de Fred', 'Not Available', 24], ['Collège des Bernardins', 'Not Available', 34], ['Bar à Iode', {'tier': 3, 'message': 'Expensive', 'currency': '€'}, 21], ['Le Buisson Ardent', {'tier': 3, 'message': 'Expensive', 'currency': '€'}, 36], [\"La Maison d'Isabelle\", {'tier': 1, 'message': 'Cheap', 'currency': '€'}, 29]]\n"
     ]
    }
   ],
   "source": [
    "paris_venue_info = get_venue_info(nearby_venues['id'])\n",
    "print(wicker_venue_info)"
   ]
  },
  {
   "cell_type": "code",
   "execution_count": 133,
   "metadata": {},
   "outputs": [
    {
     "data": {
      "text/html": [
       "<div>\n",
       "<style scoped>\n",
       "    .dataframe tbody tr th:only-of-type {\n",
       "        vertical-align: middle;\n",
       "    }\n",
       "\n",
       "    .dataframe tbody tr th {\n",
       "        vertical-align: top;\n",
       "    }\n",
       "\n",
       "    .dataframe thead th {\n",
       "        text-align: right;\n",
       "    }\n",
       "</style>\n",
       "<table border=\"1\" class=\"dataframe\">\n",
       "  <thead>\n",
       "    <tr style=\"text-align: right;\">\n",
       "      <th></th>\n",
       "      <th>name</th>\n",
       "      <th>price_tier</th>\n",
       "      <th>likes</th>\n",
       "    </tr>\n",
       "  </thead>\n",
       "  <tbody>\n",
       "    <tr>\n",
       "      <th>0</th>\n",
       "      <td>La Tour d'Argent</td>\n",
       "      <td>{'tier': 3, 'message': 'Expensive', 'currency'...</td>\n",
       "      <td>120</td>\n",
       "    </tr>\n",
       "    <tr>\n",
       "      <th>1</th>\n",
       "      <td>Restaurant AT</td>\n",
       "      <td>{'tier': 2, 'message': 'Moderate', 'currency':...</td>\n",
       "      <td>50</td>\n",
       "    </tr>\n",
       "    <tr>\n",
       "      <th>2</th>\n",
       "      <td>Au Moulin à Vent</td>\n",
       "      <td>{'tier': 3, 'message': 'Expensive', 'currency'...</td>\n",
       "      <td>16</td>\n",
       "    </tr>\n",
       "    <tr>\n",
       "      <th>3</th>\n",
       "      <td>Grand Action</td>\n",
       "      <td>Not Available</td>\n",
       "      <td>41</td>\n",
       "    </tr>\n",
       "    <tr>\n",
       "      <th>4</th>\n",
       "      <td>5ème Cru</td>\n",
       "      <td>{'tier': 2, 'message': 'Moderate', 'currency':...</td>\n",
       "      <td>27</td>\n",
       "    </tr>\n",
       "    <tr>\n",
       "      <th>5</th>\n",
       "      <td>Boulangerie La Parisienne</td>\n",
       "      <td>{'tier': 1, 'message': 'Cheap', 'currency': '€'}</td>\n",
       "      <td>125</td>\n",
       "    </tr>\n",
       "    <tr>\n",
       "      <th>6</th>\n",
       "      <td>Bonvivant</td>\n",
       "      <td>{'tier': 2, 'message': 'Moderate', 'currency':...</td>\n",
       "      <td>41</td>\n",
       "    </tr>\n",
       "    <tr>\n",
       "      <th>7</th>\n",
       "      <td>Anahuacalli</td>\n",
       "      <td>{'tier': 1, 'message': 'Cheap', 'currency': '€'}</td>\n",
       "      <td>97</td>\n",
       "    </tr>\n",
       "    <tr>\n",
       "      <th>8</th>\n",
       "      <td>Diptyque</td>\n",
       "      <td>Not Available</td>\n",
       "      <td>25</td>\n",
       "    </tr>\n",
       "    <tr>\n",
       "      <th>9</th>\n",
       "      <td>Strada Café</td>\n",
       "      <td>{'tier': 1, 'message': 'Cheap', 'currency': '€'}</td>\n",
       "      <td>287</td>\n",
       "    </tr>\n",
       "    <tr>\n",
       "      <th>10</th>\n",
       "      <td>Aux Merveilleux de Fred</td>\n",
       "      <td>Not Available</td>\n",
       "      <td>24</td>\n",
       "    </tr>\n",
       "    <tr>\n",
       "      <th>11</th>\n",
       "      <td>Collège des Bernardins</td>\n",
       "      <td>Not Available</td>\n",
       "      <td>34</td>\n",
       "    </tr>\n",
       "    <tr>\n",
       "      <th>12</th>\n",
       "      <td>Bar à Iode</td>\n",
       "      <td>{'tier': 3, 'message': 'Expensive', 'currency'...</td>\n",
       "      <td>21</td>\n",
       "    </tr>\n",
       "    <tr>\n",
       "      <th>13</th>\n",
       "      <td>Le Buisson Ardent</td>\n",
       "      <td>{'tier': 3, 'message': 'Expensive', 'currency'...</td>\n",
       "      <td>36</td>\n",
       "    </tr>\n",
       "    <tr>\n",
       "      <th>14</th>\n",
       "      <td>La Maison d'Isabelle</td>\n",
       "      <td>{'tier': 1, 'message': 'Cheap', 'currency': '€'}</td>\n",
       "      <td>29</td>\n",
       "    </tr>\n",
       "  </tbody>\n",
       "</table>\n",
       "</div>"
      ],
      "text/plain": [
       "                         name  \\\n",
       "0            La Tour d'Argent   \n",
       "1               Restaurant AT   \n",
       "2            Au Moulin à Vent   \n",
       "3                Grand Action   \n",
       "4                    5ème Cru   \n",
       "5   Boulangerie La Parisienne   \n",
       "6                   Bonvivant   \n",
       "7                 Anahuacalli   \n",
       "8                    Diptyque   \n",
       "9                 Strada Café   \n",
       "10    Aux Merveilleux de Fred   \n",
       "11     Collège des Bernardins   \n",
       "12                 Bar à Iode   \n",
       "13          Le Buisson Ardent   \n",
       "14       La Maison d'Isabelle   \n",
       "\n",
       "                                           price_tier  likes  \n",
       "0   {'tier': 3, 'message': 'Expensive', 'currency'...    120  \n",
       "1   {'tier': 2, 'message': 'Moderate', 'currency':...     50  \n",
       "2   {'tier': 3, 'message': 'Expensive', 'currency'...     16  \n",
       "3                                       Not Available     41  \n",
       "4   {'tier': 2, 'message': 'Moderate', 'currency':...     27  \n",
       "5    {'tier': 1, 'message': 'Cheap', 'currency': '€'}    125  \n",
       "6   {'tier': 2, 'message': 'Moderate', 'currency':...     41  \n",
       "7    {'tier': 1, 'message': 'Cheap', 'currency': '€'}     97  \n",
       "8                                       Not Available     25  \n",
       "9    {'tier': 1, 'message': 'Cheap', 'currency': '€'}    287  \n",
       "10                                      Not Available     24  \n",
       "11                                      Not Available     34  \n",
       "12  {'tier': 3, 'message': 'Expensive', 'currency'...     21  \n",
       "13  {'tier': 3, 'message': 'Expensive', 'currency'...     36  \n",
       "14   {'tier': 1, 'message': 'Cheap', 'currency': '€'}     29  "
      ]
     },
     "execution_count": 133,
     "metadata": {},
     "output_type": "execute_result"
    }
   ],
   "source": [
    "paris_df = pd.DataFrame(wicker_venue_info, columns=['name', 'price_tier', 'likes'])\n",
    "paris_df"
   ]
  },
  {
   "cell_type": "code",
   "execution_count": 135,
   "metadata": {},
   "outputs": [],
   "source": [
    "def get_price_tier(df):\n",
    "    price_tier = df['price_tier']\n",
    "    \n",
    "    if len(price_tier) == 0:\n",
    "        return None\n",
    "    elif price_tier == 'Not Available':\n",
    "        return None\n",
    "    else:\n",
    "        return price_tier['message']"
   ]
  },
  {
   "cell_type": "code",
   "execution_count": 136,
   "metadata": {},
   "outputs": [],
   "source": [
    "paris_df['price_tier'] = wicker_df.apply(get_price_tier, axis=1)"
   ]
  },
  {
   "cell_type": "code",
   "execution_count": 137,
   "metadata": {},
   "outputs": [
    {
     "data": {
      "text/html": [
       "<div>\n",
       "<style scoped>\n",
       "    .dataframe tbody tr th:only-of-type {\n",
       "        vertical-align: middle;\n",
       "    }\n",
       "\n",
       "    .dataframe tbody tr th {\n",
       "        vertical-align: top;\n",
       "    }\n",
       "\n",
       "    .dataframe thead th {\n",
       "        text-align: right;\n",
       "    }\n",
       "</style>\n",
       "<table border=\"1\" class=\"dataframe\">\n",
       "  <thead>\n",
       "    <tr style=\"text-align: right;\">\n",
       "      <th></th>\n",
       "      <th>name</th>\n",
       "      <th>price_tier</th>\n",
       "      <th>likes</th>\n",
       "    </tr>\n",
       "  </thead>\n",
       "  <tbody>\n",
       "    <tr>\n",
       "      <th>9</th>\n",
       "      <td>Strada Café</td>\n",
       "      <td>Cheap</td>\n",
       "      <td>287</td>\n",
       "    </tr>\n",
       "    <tr>\n",
       "      <th>5</th>\n",
       "      <td>Boulangerie La Parisienne</td>\n",
       "      <td>Cheap</td>\n",
       "      <td>125</td>\n",
       "    </tr>\n",
       "    <tr>\n",
       "      <th>0</th>\n",
       "      <td>La Tour d'Argent</td>\n",
       "      <td>Expensive</td>\n",
       "      <td>120</td>\n",
       "    </tr>\n",
       "    <tr>\n",
       "      <th>7</th>\n",
       "      <td>Anahuacalli</td>\n",
       "      <td>Cheap</td>\n",
       "      <td>97</td>\n",
       "    </tr>\n",
       "    <tr>\n",
       "      <th>1</th>\n",
       "      <td>Restaurant AT</td>\n",
       "      <td>Moderate</td>\n",
       "      <td>50</td>\n",
       "    </tr>\n",
       "    <tr>\n",
       "      <th>3</th>\n",
       "      <td>Grand Action</td>\n",
       "      <td>None</td>\n",
       "      <td>41</td>\n",
       "    </tr>\n",
       "    <tr>\n",
       "      <th>6</th>\n",
       "      <td>Bonvivant</td>\n",
       "      <td>Moderate</td>\n",
       "      <td>41</td>\n",
       "    </tr>\n",
       "    <tr>\n",
       "      <th>13</th>\n",
       "      <td>Le Buisson Ardent</td>\n",
       "      <td>Expensive</td>\n",
       "      <td>36</td>\n",
       "    </tr>\n",
       "    <tr>\n",
       "      <th>11</th>\n",
       "      <td>Collège des Bernardins</td>\n",
       "      <td>None</td>\n",
       "      <td>34</td>\n",
       "    </tr>\n",
       "    <tr>\n",
       "      <th>14</th>\n",
       "      <td>La Maison d'Isabelle</td>\n",
       "      <td>Cheap</td>\n",
       "      <td>29</td>\n",
       "    </tr>\n",
       "    <tr>\n",
       "      <th>4</th>\n",
       "      <td>5ème Cru</td>\n",
       "      <td>Moderate</td>\n",
       "      <td>27</td>\n",
       "    </tr>\n",
       "    <tr>\n",
       "      <th>8</th>\n",
       "      <td>Diptyque</td>\n",
       "      <td>None</td>\n",
       "      <td>25</td>\n",
       "    </tr>\n",
       "    <tr>\n",
       "      <th>10</th>\n",
       "      <td>Aux Merveilleux de Fred</td>\n",
       "      <td>None</td>\n",
       "      <td>24</td>\n",
       "    </tr>\n",
       "    <tr>\n",
       "      <th>12</th>\n",
       "      <td>Bar à Iode</td>\n",
       "      <td>Expensive</td>\n",
       "      <td>21</td>\n",
       "    </tr>\n",
       "    <tr>\n",
       "      <th>2</th>\n",
       "      <td>Au Moulin à Vent</td>\n",
       "      <td>Expensive</td>\n",
       "      <td>16</td>\n",
       "    </tr>\n",
       "  </tbody>\n",
       "</table>\n",
       "</div>"
      ],
      "text/plain": [
       "                         name price_tier  likes\n",
       "9                 Strada Café      Cheap    287\n",
       "5   Boulangerie La Parisienne      Cheap    125\n",
       "0            La Tour d'Argent  Expensive    120\n",
       "7                 Anahuacalli      Cheap     97\n",
       "1               Restaurant AT   Moderate     50\n",
       "3                Grand Action       None     41\n",
       "6                   Bonvivant   Moderate     41\n",
       "13          Le Buisson Ardent  Expensive     36\n",
       "11     Collège des Bernardins       None     34\n",
       "14       La Maison d'Isabelle      Cheap     29\n",
       "4                    5ème Cru   Moderate     27\n",
       "8                    Diptyque       None     25\n",
       "10    Aux Merveilleux de Fred       None     24\n",
       "12                 Bar à Iode  Expensive     21\n",
       "2            Au Moulin à Vent  Expensive     16"
      ]
     },
     "execution_count": 137,
     "metadata": {},
     "output_type": "execute_result"
    }
   ],
   "source": [
    "paris_df.sort_values('likes', ascending=False)"
   ]
  },
  {
   "cell_type": "markdown",
   "metadata": {},
   "source": [
    "De ces 15 \"venues\", il semblerait que le prix moyen d'un magasin autour du 13 rue de Poissy soit dans la fourchette modérée-bon marché. Sur les 15, quatre seulement sont considérés comme chers. Le nombre de «Likes» pour ces lieux n'est pas trop faible, ce qui suggère qu'ils ne sont pas mal notés non plus."
   ]
  },
  {
   "cell_type": "markdown",
   "metadata": {},
   "source": [
    "###  Importer les données de localisation de Lyon depuis l'API Foursquare"
   ]
  },
  {
   "cell_type": "code",
   "execution_count": 13,
   "metadata": {},
   "outputs": [
    {
     "name": "stdout",
     "output_type": "stream",
     "text": [
      "6 Rue Gasparin, 69002 Lyon, France:  45.7598522 4.8333555\n"
     ]
    }
   ],
   "source": [
    "qa_address = '6 Rue Gasparin, 69002 Lyon, France'\n",
    "\n",
    "qa_geolocator = Nominatim(user_agent='foursquare_agent')\n",
    "qa_location = qa_geolocator.geocode(qa_address)\n",
    "qa_lat = qa_location.latitude\n",
    "qa_lng = qa_location.longitude\n",
    "\n",
    "print('6 Rue Gasparin, 69002 Lyon, France: ', qa_lat, qa_lng)"
   ]
  },
  {
   "cell_type": "code",
   "execution_count": 14,
   "metadata": {},
   "outputs": [
    {
     "name": "stdout",
     "output_type": "stream",
     "text": [
      "xxxxxx\n"
     ]
    }
   ],
   "source": [
    "qa_url = 'xxxxxx'.format(\n",
    "        CLIENT_ID,\n",
    "        CLIENT_SECRET,\n",
    "        qa_lat,\n",
    "        qa_lng,\n",
    "        VERSION,\n",
    "        radius,\n",
    "        LIMIT\n",
    "        )\n",
    "\n",
    "print(qa_url)"
   ]
  },
  {
   "cell_type": "code",
   "execution_count": 141,
   "metadata": {},
   "outputs": [],
   "source": [
    "qa_results = requests.get(qa_url).json()"
   ]
  },
  {
   "cell_type": "code",
   "execution_count": 142,
   "metadata": {},
   "outputs": [],
   "source": [
    "qa_venues = qa_results['response']['groups'][0]['items']\n",
    "\n",
    "qa_nearby_venues = json_normalize(qa_venues)\n",
    "\n",
    "qa_nearby_venues = qa_nearby_venues.loc[:, filtered_columns]"
   ]
  },
  {
   "cell_type": "code",
   "execution_count": 143,
   "metadata": {
    "scrolled": true
   },
   "outputs": [
    {
     "data": {
      "text/html": [
       "<div>\n",
       "<style scoped>\n",
       "    .dataframe tbody tr th:only-of-type {\n",
       "        vertical-align: middle;\n",
       "    }\n",
       "\n",
       "    .dataframe tbody tr th {\n",
       "        vertical-align: top;\n",
       "    }\n",
       "\n",
       "    .dataframe thead th {\n",
       "        text-align: right;\n",
       "    }\n",
       "</style>\n",
       "<table border=\"1\" class=\"dataframe\">\n",
       "  <thead>\n",
       "    <tr style=\"text-align: right;\">\n",
       "      <th></th>\n",
       "      <th>name</th>\n",
       "      <th>id</th>\n",
       "      <th>categories</th>\n",
       "      <th>lat</th>\n",
       "      <th>lng</th>\n",
       "    </tr>\n",
       "  </thead>\n",
       "  <tbody>\n",
       "    <tr>\n",
       "      <th>0</th>\n",
       "      <td>Place des Jacobins</td>\n",
       "      <td>4b61baf8f964a520361f2ae3</td>\n",
       "      <td>Plaza</td>\n",
       "      <td>45.760489</td>\n",
       "      <td>4.833636</td>\n",
       "    </tr>\n",
       "    <tr>\n",
       "      <th>1</th>\n",
       "      <td>Place des Célestins</td>\n",
       "      <td>4b61bb38f964a5203f1f2ae3</td>\n",
       "      <td>Plaza</td>\n",
       "      <td>45.759804</td>\n",
       "      <td>4.831842</td>\n",
       "    </tr>\n",
       "    <tr>\n",
       "      <th>2</th>\n",
       "      <td>Place de la République</td>\n",
       "      <td>4cbfe494021ca1438bf15e0c</td>\n",
       "      <td>Plaza</td>\n",
       "      <td>45.760347</td>\n",
       "      <td>4.835635</td>\n",
       "    </tr>\n",
       "    <tr>\n",
       "      <th>3</th>\n",
       "      <td>Slake Coffee House</td>\n",
       "      <td>5602838f498e9111e2522df3</td>\n",
       "      <td>Café</td>\n",
       "      <td>45.760922</td>\n",
       "      <td>4.832910</td>\n",
       "    </tr>\n",
       "    <tr>\n",
       "      <th>4</th>\n",
       "      <td>Marché Saint-Antoine</td>\n",
       "      <td>4c304d6a66e40f470f65c38b</td>\n",
       "      <td>Farmers Market</td>\n",
       "      <td>45.761756</td>\n",
       "      <td>4.831853</td>\n",
       "    </tr>\n",
       "    <tr>\n",
       "      <th>5</th>\n",
       "      <td>Mozzato - Comptoir à Mozzarella</td>\n",
       "      <td>526038cd11d2d0efdb9f407f</td>\n",
       "      <td>Italian Restaurant</td>\n",
       "      <td>45.761697</td>\n",
       "      <td>4.832963</td>\n",
       "    </tr>\n",
       "    <tr>\n",
       "      <th>6</th>\n",
       "      <td>Place Bellecour</td>\n",
       "      <td>4b5e0a3df964a520817a29e3</td>\n",
       "      <td>Plaza</td>\n",
       "      <td>45.757523</td>\n",
       "      <td>4.832397</td>\n",
       "    </tr>\n",
       "    <tr>\n",
       "      <th>7</th>\n",
       "      <td>Théâtre des Célestins</td>\n",
       "      <td>4b8a84caf964a520567032e3</td>\n",
       "      <td>Theater</td>\n",
       "      <td>45.759769</td>\n",
       "      <td>4.831996</td>\n",
       "    </tr>\n",
       "    <tr>\n",
       "      <th>8</th>\n",
       "      <td>L'Épicerie - Bistrot à Tartines</td>\n",
       "      <td>4b6ef616f964a52068d32ce3</td>\n",
       "      <td>Restaurant</td>\n",
       "      <td>45.761931</td>\n",
       "      <td>4.832668</td>\n",
       "    </tr>\n",
       "    <tr>\n",
       "      <th>9</th>\n",
       "      <td>Pignol Patissier &amp; Restaurant</td>\n",
       "      <td>5066b98416482fabcf2082b4</td>\n",
       "      <td>Dessert Shop</td>\n",
       "      <td>45.758589</td>\n",
       "      <td>4.832523</td>\n",
       "    </tr>\n",
       "  </tbody>\n",
       "</table>\n",
       "</div>"
      ],
      "text/plain": [
       "                              name                        id  \\\n",
       "0               Place des Jacobins  4b61baf8f964a520361f2ae3   \n",
       "1              Place des Célestins  4b61bb38f964a5203f1f2ae3   \n",
       "2           Place de la République  4cbfe494021ca1438bf15e0c   \n",
       "3               Slake Coffee House  5602838f498e9111e2522df3   \n",
       "4             Marché Saint-Antoine  4c304d6a66e40f470f65c38b   \n",
       "5  Mozzato - Comptoir à Mozzarella  526038cd11d2d0efdb9f407f   \n",
       "6                  Place Bellecour  4b5e0a3df964a520817a29e3   \n",
       "7            Théâtre des Célestins  4b8a84caf964a520567032e3   \n",
       "8  L'Épicerie - Bistrot à Tartines  4b6ef616f964a52068d32ce3   \n",
       "9    Pignol Patissier & Restaurant  5066b98416482fabcf2082b4   \n",
       "\n",
       "           categories        lat       lng  \n",
       "0               Plaza  45.760489  4.833636  \n",
       "1               Plaza  45.759804  4.831842  \n",
       "2               Plaza  45.760347  4.835635  \n",
       "3                Café  45.760922  4.832910  \n",
       "4      Farmers Market  45.761756  4.831853  \n",
       "5  Italian Restaurant  45.761697  4.832963  \n",
       "6               Plaza  45.757523  4.832397  \n",
       "7             Theater  45.759769  4.831996  \n",
       "8          Restaurant  45.761931  4.832668  \n",
       "9        Dessert Shop  45.758589  4.832523  "
      ]
     },
     "execution_count": 143,
     "metadata": {},
     "output_type": "execute_result"
    }
   ],
   "source": [
    "qa_nearby_venues['venue.categories'] = qa_nearby_venues.apply(get_category_type, axis=1)\n",
    "qa_nearby_venues.columns = [col.split('.')[-1] for col in qa_nearby_venues.columns]\n",
    "\n",
    "qa_nearby_venues.head(10)"
   ]
  },
  {
   "cell_type": "code",
   "execution_count": 144,
   "metadata": {},
   "outputs": [
    {
     "name": "stdout",
     "output_type": "stream",
     "text": [
      "<class 'pandas.core.frame.DataFrame'>\n",
      "RangeIndex: 65 entries, 0 to 64\n",
      "Data columns (total 5 columns):\n",
      "name          65 non-null object\n",
      "id            65 non-null object\n",
      "categories    65 non-null object\n",
      "lat           65 non-null float64\n",
      "lng           65 non-null float64\n",
      "dtypes: float64(2), object(3)\n",
      "memory usage: 2.6+ KB\n"
     ]
    }
   ],
   "source": [
    "qa_nearby_venues.info()"
   ]
  },
  {
   "cell_type": "markdown",
   "metadata": {},
   "source": [
    "65 \"venues\" sont revenus dans les résultats du Rue Gasparin, 69002 Lyon."
   ]
  },
  {
   "cell_type": "code",
   "execution_count": 204,
   "metadata": {},
   "outputs": [
    {
     "data": {
      "text/html": [
       "<div style=\"width:100%;\"><div style=\"position:relative;width:100%;height:0;padding-bottom:60%;\"><iframe src=\"data:text/html;charset=utf-8;base64,PCFET0NUWVBFIGh0bWw+CjxoZWFkPiAgICAKICAgIDxtZXRhIGh0dHAtZXF1aXY9ImNvbnRlbnQtdHlwZSIgY29udGVudD0idGV4dC9odG1sOyBjaGFyc2V0PVVURi04IiAvPgogICAgPHNjcmlwdD5MX1BSRUZFUl9DQU5WQVM9ZmFsc2U7IExfTk9fVE9VQ0g9ZmFsc2U7IExfRElTQUJMRV8zRD1mYWxzZTs8L3NjcmlwdD4KICAgIDxzY3JpcHQgc3JjPSJodHRwczovL2Nkbi5qc2RlbGl2ci5uZXQvbnBtL2xlYWZsZXRAMS40LjAvZGlzdC9sZWFmbGV0LmpzIj48L3NjcmlwdD4KICAgIDxzY3JpcHQgc3JjPSJodHRwczovL2NvZGUuanF1ZXJ5LmNvbS9qcXVlcnktMS4xMi40Lm1pbi5qcyI+PC9zY3JpcHQ+CiAgICA8c2NyaXB0IHNyYz0iaHR0cHM6Ly9tYXhjZG4uYm9vdHN0cmFwY2RuLmNvbS9ib290c3RyYXAvMy4yLjAvanMvYm9vdHN0cmFwLm1pbi5qcyI+PC9zY3JpcHQ+CiAgICA8c2NyaXB0IHNyYz0iaHR0cHM6Ly9jZG5qcy5jbG91ZGZsYXJlLmNvbS9hamF4L2xpYnMvTGVhZmxldC5hd2Vzb21lLW1hcmtlcnMvMi4wLjIvbGVhZmxldC5hd2Vzb21lLW1hcmtlcnMuanMiPjwvc2NyaXB0PgogICAgPGxpbmsgcmVsPSJzdHlsZXNoZWV0IiBocmVmPSJodHRwczovL2Nkbi5qc2RlbGl2ci5uZXQvbnBtL2xlYWZsZXRAMS40LjAvZGlzdC9sZWFmbGV0LmNzcyIvPgogICAgPGxpbmsgcmVsPSJzdHlsZXNoZWV0IiBocmVmPSJodHRwczovL21heGNkbi5ib290c3RyYXBjZG4uY29tL2Jvb3RzdHJhcC8zLjIuMC9jc3MvYm9vdHN0cmFwLm1pbi5jc3MiLz4KICAgIDxsaW5rIHJlbD0ic3R5bGVzaGVldCIgaHJlZj0iaHR0cHM6Ly9tYXhjZG4uYm9vdHN0cmFwY2RuLmNvbS9ib290c3RyYXAvMy4yLjAvY3NzL2Jvb3RzdHJhcC10aGVtZS5taW4uY3NzIi8+CiAgICA8bGluayByZWw9InN0eWxlc2hlZXQiIGhyZWY9Imh0dHBzOi8vbWF4Y2RuLmJvb3RzdHJhcGNkbi5jb20vZm9udC1hd2Vzb21lLzQuNi4zL2Nzcy9mb250LWF3ZXNvbWUubWluLmNzcyIvPgogICAgPGxpbmsgcmVsPSJzdHlsZXNoZWV0IiBocmVmPSJodHRwczovL2NkbmpzLmNsb3VkZmxhcmUuY29tL2FqYXgvbGlicy9MZWFmbGV0LmF3ZXNvbWUtbWFya2Vycy8yLjAuMi9sZWFmbGV0LmF3ZXNvbWUtbWFya2Vycy5jc3MiLz4KICAgIDxsaW5rIHJlbD0ic3R5bGVzaGVldCIgaHJlZj0iaHR0cHM6Ly9yYXdjZG4uZ2l0aGFjay5jb20vcHl0aG9uLXZpc3VhbGl6YXRpb24vZm9saXVtL21hc3Rlci9mb2xpdW0vdGVtcGxhdGVzL2xlYWZsZXQuYXdlc29tZS5yb3RhdGUuY3NzIi8+CiAgICA8c3R5bGU+aHRtbCwgYm9keSB7d2lkdGg6IDEwMCU7aGVpZ2h0OiAxMDAlO21hcmdpbjogMDtwYWRkaW5nOiAwO308L3N0eWxlPgogICAgPHN0eWxlPiNtYXAge3Bvc2l0aW9uOmFic29sdXRlO3RvcDowO2JvdHRvbTowO3JpZ2h0OjA7bGVmdDowO308L3N0eWxlPgogICAgCiAgICA8bWV0YSBuYW1lPSJ2aWV3cG9ydCIgY29udGVudD0id2lkdGg9ZGV2aWNlLXdpZHRoLAogICAgICAgIGluaXRpYWwtc2NhbGU9MS4wLCBtYXhpbXVtLXNjYWxlPTEuMCwgdXNlci1zY2FsYWJsZT1ubyIgLz4KICAgIDxzdHlsZT4jbWFwXzVkYTllNzM4MzFhMTQxMmViMjliODI0NmYyMDYzMTJmIHsKICAgICAgICBwb3NpdGlvbjogcmVsYXRpdmU7CiAgICAgICAgd2lkdGg6IDEwMC4wJTsKICAgICAgICBoZWlnaHQ6IDEwMC4wJTsKICAgICAgICBsZWZ0OiAwLjAlOwogICAgICAgIHRvcDogMC4wJTsKICAgICAgICB9CiAgICA8L3N0eWxlPgo8L2hlYWQ+Cjxib2R5PiAgICAKICAgIAogICAgPGRpdiBjbGFzcz0iZm9saXVtLW1hcCIgaWQ9Im1hcF81ZGE5ZTczODMxYTE0MTJlYjI5YjgyNDZmMjA2MzEyZiIgPjwvZGl2Pgo8L2JvZHk+CjxzY3JpcHQ+ICAgIAogICAgCiAgICAKICAgICAgICB2YXIgYm91bmRzID0gbnVsbDsKICAgIAoKICAgIHZhciBtYXBfNWRhOWU3MzgzMWExNDEyZWIyOWI4MjQ2ZjIwNjMxMmYgPSBMLm1hcCgKICAgICAgICAnbWFwXzVkYTllNzM4MzFhMTQxMmViMjliODI0NmYyMDYzMTJmJywgewogICAgICAgIGNlbnRlcjogWzQ1Ljc1OTg1MjIsIDQuODMzMzU1NV0sCiAgICAgICAgem9vbTogMTYsCiAgICAgICAgbWF4Qm91bmRzOiBib3VuZHMsCiAgICAgICAgbGF5ZXJzOiBbXSwKICAgICAgICB3b3JsZENvcHlKdW1wOiBmYWxzZSwKICAgICAgICBjcnM6IEwuQ1JTLkVQU0czODU3LAogICAgICAgIHpvb21Db250cm9sOiB0cnVlLAogICAgICAgIH0pOwoKCiAgICAKICAgIHZhciB0aWxlX2xheWVyXzY4MjRhMTcyMWJlYjQ5NGViMzIzN2JjNDM3ZTlkNmIyID0gTC50aWxlTGF5ZXIoCiAgICAgICAgJ2h0dHBzOi8vYXBpLm1hcGJveC5jb20vc3R5bGVzL3YxL3JvcXVlbGVhbDA4L2NqeWFleTg0ZDA3enExY3J6ZTVyMDh5ZzEvdGlsZXMvMjU2L3t6fS97eH0ve3l9QDJ4P2FjY2Vzc190b2tlbj1way5leUoxSWpvaWNtOXhkV1ZzWldGc01EZ2lMQ0poSWpvaVkycHBaemw1TldvMk1UVm1NVE5yY0dVMGVuUjBaVFUyTXlKOS40WldZZHpVbHF2SVF3d1NJUjUweFpBJywKICAgICAgICB7CiAgICAgICAgImF0dHJpYnV0aW9uIjogIk1hcCBkYXRhIFx1MDBhOSA8YSBocmVmPVwiaHR0cDovL29wZW5zdHJlZXRtYXAub3JnXCI+T3BlblN0cmVldE1hcDwvYT4gY29udHJpYnV0b3JzLCBJbWFnZXJ5IFx1MDBhOSA8YSBocmVmPVwiaHR0cDovL21hcGJveC5jb21cIj5NYXBCb3g8L2E+IiwKICAgICAgICAiZGV0ZWN0UmV0aW5hIjogZmFsc2UsCiAgICAgICAgIm1heE5hdGl2ZVpvb20iOiAxOCwKICAgICAgICAibWF4Wm9vbSI6IDE4LAogICAgICAgICJtaW5ab29tIjogMCwKICAgICAgICAibm9XcmFwIjogZmFsc2UsCiAgICAgICAgIm9wYWNpdHkiOiAxLAogICAgICAgICJzdWJkb21haW5zIjogImFiYyIsCiAgICAgICAgInRtcyI6IGZhbHNlCn0pLmFkZFRvKG1hcF81ZGE5ZTczODMxYTE0MTJlYjI5YjgyNDZmMjA2MzEyZik7CiAgICAKICAgICAgICAgICAgdmFyIGNpcmNsZV9tYXJrZXJfMDljMGMwZWQzMTczNDM1ODlkNmNhZWM5MDE2YWIyY2MgPSBMLmNpcmNsZU1hcmtlcigKICAgICAgICAgICAgICAgIFs0NS43NTk4NTIyLCA0LjgzMzM1NTVdLAogICAgICAgICAgICAgICAgewogICJidWJibGluZ01vdXNlRXZlbnRzIjogdHJ1ZSwKICAiY29sb3IiOiAicmVkIiwKICAiZGFzaEFycmF5IjogbnVsbCwKICAiZGFzaE9mZnNldCI6IG51bGwsCiAgImZpbGwiOiB0cnVlLAogICJmaWxsQ29sb3IiOiAicmVkIiwKICAiZmlsbE9wYWNpdHkiOiAwLjYsCiAgImZpbGxSdWxlIjogImV2ZW5vZGQiLAogICJsaW5lQ2FwIjogInJvdW5kIiwKICAibGluZUpvaW4iOiAicm91bmQiLAogICJvcGFjaXR5IjogMS4wLAogICJyYWRpdXMiOiAxMCwKICAic3Ryb2tlIjogdHJ1ZSwKICAid2VpZ2h0IjogMwp9CiAgICAgICAgICAgICAgICApCiAgICAgICAgICAgICAgICAuYWRkVG8obWFwXzVkYTllNzM4MzFhMTQxMmViMjliODI0NmYyMDYzMTJmKTsKICAgICAgICAgICAgCiAgICAKICAgICAgICAgICAgdmFyIHBvcHVwXzJjMTU2MDMyZTdmZDRmMTFhMWRkZGZjNWY0MjgwMTE4ID0gTC5wb3B1cCh7bWF4V2lkdGg6ICcxMDAlJwogICAgICAgICAgICAKICAgICAgICAgICAgfSk7CgogICAgICAgICAgICAKICAgICAgICAgICAgICAgIHZhciBodG1sXzU3OTI4NDUwNDQ4MDRkNjc4ZTg1ZWQ2MjFjNTBkN2NlID0gJChgPGRpdiBpZD0iaHRtbF81NzkyODQ1MDQ0ODA0ZDY3OGU4NWVkNjIxYzUwZDdjZSIgc3R5bGU9IndpZHRoOiAxMDAuMCU7IGhlaWdodDogMTAwLjAlOyI+UnVlIEdhc3BhcmluPC9kaXY+YClbMF07CiAgICAgICAgICAgICAgICBwb3B1cF8yYzE1NjAzMmU3ZmQ0ZjExYTFkZGRmYzVmNDI4MDExOC5zZXRDb250ZW50KGh0bWxfNTc5Mjg0NTA0NDgwNGQ2NzhlODVlZDYyMWM1MGQ3Y2UpOwogICAgICAgICAgICAKCiAgICAgICAgICAgIGNpcmNsZV9tYXJrZXJfMDljMGMwZWQzMTczNDM1ODlkNmNhZWM5MDE2YWIyY2MuYmluZFBvcHVwKHBvcHVwXzJjMTU2MDMyZTdmZDRmMTFhMWRkZGZjNWY0MjgwMTE4KQogICAgICAgICAgICA7CgogICAgICAgICAgICAKICAgICAgICAKICAgIAogICAgICAgICAgICB2YXIgY2lyY2xlX21hcmtlcl84NWY5YWQ0YTdmMWQ0NzVjODI2MmFiZjMzYjg0ZThhYSA9IEwuY2lyY2xlTWFya2VyKAogICAgICAgICAgICAgICAgWzQ1Ljc2MDQ4ODY2Mjk4NzI2NCwgNC44MzM2MzU3MjA4NTEzODRdLAogICAgICAgICAgICAgICAgewogICJidWJibGluZ01vdXNlRXZlbnRzIjogdHJ1ZSwKICAiY29sb3IiOiAiYmx1ZSIsCiAgImRhc2hBcnJheSI6IG51bGwsCiAgImRhc2hPZmZzZXQiOiBudWxsLAogICJmaWxsIjogdHJ1ZSwKICAiZmlsbENvbG9yIjogImJsdWUiLAogICJmaWxsT3BhY2l0eSI6IDAuNiwKICAiZmlsbFJ1bGUiOiAiZXZlbm9kZCIsCiAgImxpbmVDYXAiOiAicm91bmQiLAogICJsaW5lSm9pbiI6ICJyb3VuZCIsCiAgIm9wYWNpdHkiOiAxLjAsCiAgInJhZGl1cyI6IDUsCiAgInN0cm9rZSI6IHRydWUsCiAgIndlaWdodCI6IDMKfQogICAgICAgICAgICAgICAgKQogICAgICAgICAgICAgICAgLmFkZFRvKG1hcF81ZGE5ZTczODMxYTE0MTJlYjI5YjgyNDZmMjA2MzEyZik7CiAgICAgICAgICAgIAogICAgCiAgICAgICAgICAgIHZhciBwb3B1cF9mYTE5YmM1MjhiNzk0NzhlODk3MDk0NGRlNGZmMzRlNCA9IEwucG9wdXAoe21heFdpZHRoOiAnMTAwJScKICAgICAgICAgICAgCiAgICAgICAgICAgIH0pOwoKICAgICAgICAgICAgCiAgICAgICAgICAgICAgICB2YXIgaHRtbF84YzQ2ZDhkYTMyMDc0YTRkODU3Yzg1M2MwODJlY2NjNSA9ICQoYDxkaXYgaWQ9Imh0bWxfOGM0NmQ4ZGEzMjA3NGE0ZDg1N2M4NTNjMDgyZWNjYzUiIHN0eWxlPSJ3aWR0aDogMTAwLjAlOyBoZWlnaHQ6IDEwMC4wJTsiPlBsYXphPC9kaXY+YClbMF07CiAgICAgICAgICAgICAgICBwb3B1cF9mYTE5YmM1MjhiNzk0NzhlODk3MDk0NGRlNGZmMzRlNC5zZXRDb250ZW50KGh0bWxfOGM0NmQ4ZGEzMjA3NGE0ZDg1N2M4NTNjMDgyZWNjYzUpOwogICAgICAgICAgICAKCiAgICAgICAgICAgIGNpcmNsZV9tYXJrZXJfODVmOWFkNGE3ZjFkNDc1YzgyNjJhYmYzM2I4NGU4YWEuYmluZFBvcHVwKHBvcHVwX2ZhMTliYzUyOGI3OTQ3OGU4OTcwOTQ0ZGU0ZmYzNGU0KQogICAgICAgICAgICA7CgogICAgICAgICAgICAKICAgICAgICAKICAgIAogICAgICAgICAgICB2YXIgY2lyY2xlX21hcmtlcl83NjRhYTEwNzIxZWU0ZjQ4OGU4MGNhY2Q2MDk0M2VjZSA9IEwuY2lyY2xlTWFya2VyKAogICAgICAgICAgICAgICAgWzQ1Ljc1OTgwMzUwMzQyMzU3NiwgNC44MzE4NDE5OTkzMDI5NTNdLAogICAgICAgICAgICAgICAgewogICJidWJibGluZ01vdXNlRXZlbnRzIjogdHJ1ZSwKICAiY29sb3IiOiAiYmx1ZSIsCiAgImRhc2hBcnJheSI6IG51bGwsCiAgImRhc2hPZmZzZXQiOiBudWxsLAogICJmaWxsIjogdHJ1ZSwKICAiZmlsbENvbG9yIjogImJsdWUiLAogICJmaWxsT3BhY2l0eSI6IDAuNiwKICAiZmlsbFJ1bGUiOiAiZXZlbm9kZCIsCiAgImxpbmVDYXAiOiAicm91bmQiLAogICJsaW5lSm9pbiI6ICJyb3VuZCIsCiAgIm9wYWNpdHkiOiAxLjAsCiAgInJhZGl1cyI6IDUsCiAgInN0cm9rZSI6IHRydWUsCiAgIndlaWdodCI6IDMKfQogICAgICAgICAgICAgICAgKQogICAgICAgICAgICAgICAgLmFkZFRvKG1hcF81ZGE5ZTczODMxYTE0MTJlYjI5YjgyNDZmMjA2MzEyZik7CiAgICAgICAgICAgIAogICAgCiAgICAgICAgICAgIHZhciBwb3B1cF82NjkzZTU1NWVkNjY0NDgxOGFjODg1MDM3OWFhYTM4OCA9IEwucG9wdXAoe21heFdpZHRoOiAnMTAwJScKICAgICAgICAgICAgCiAgICAgICAgICAgIH0pOwoKICAgICAgICAgICAgCiAgICAgICAgICAgICAgICB2YXIgaHRtbF9mM2MzZGFkNzVjMGU0MjA5OGFlODk1YzU3NzYxODFmMSA9ICQoYDxkaXYgaWQ9Imh0bWxfZjNjM2RhZDc1YzBlNDIwOThhZTg5NWM1Nzc2MTgxZjEiIHN0eWxlPSJ3aWR0aDogMTAwLjAlOyBoZWlnaHQ6IDEwMC4wJTsiPlBsYXphPC9kaXY+YClbMF07CiAgICAgICAgICAgICAgICBwb3B1cF82NjkzZTU1NWVkNjY0NDgxOGFjODg1MDM3OWFhYTM4OC5zZXRDb250ZW50KGh0bWxfZjNjM2RhZDc1YzBlNDIwOThhZTg5NWM1Nzc2MTgxZjEpOwogICAgICAgICAgICAKCiAgICAgICAgICAgIGNpcmNsZV9tYXJrZXJfNzY0YWExMDcyMWVlNGY0ODhlODBjYWNkNjA5NDNlY2UuYmluZFBvcHVwKHBvcHVwXzY2OTNlNTU1ZWQ2NjQ0ODE4YWM4ODUwMzc5YWFhMzg4KQogICAgICAgICAgICA7CgogICAgICAgICAgICAKICAgICAgICAKICAgIAogICAgICAgICAgICB2YXIgY2lyY2xlX21hcmtlcl9lM2QzNWRhOWE0MDM0NTNjOTljOTVmZWI2MTdjOTNkNSA9IEwuY2lyY2xlTWFya2VyKAogICAgICAgICAgICAgICAgWzQ1Ljc2MDM0Njg5NTAwNzUxNSwgNC44MzU2MzQ4OTc2NTg3MzVdLAogICAgICAgICAgICAgICAgewogICJidWJibGluZ01vdXNlRXZlbnRzIjogdHJ1ZSwKICAiY29sb3IiOiAiYmx1ZSIsCiAgImRhc2hBcnJheSI6IG51bGwsCiAgImRhc2hPZmZzZXQiOiBudWxsLAogICJmaWxsIjogdHJ1ZSwKICAiZmlsbENvbG9yIjogImJsdWUiLAogICJmaWxsT3BhY2l0eSI6IDAuNiwKICAiZmlsbFJ1bGUiOiAiZXZlbm9kZCIsCiAgImxpbmVDYXAiOiAicm91bmQiLAogICJsaW5lSm9pbiI6ICJyb3VuZCIsCiAgIm9wYWNpdHkiOiAxLjAsCiAgInJhZGl1cyI6IDUsCiAgInN0cm9rZSI6IHRydWUsCiAgIndlaWdodCI6IDMKfQogICAgICAgICAgICAgICAgKQogICAgICAgICAgICAgICAgLmFkZFRvKG1hcF81ZGE5ZTczODMxYTE0MTJlYjI5YjgyNDZmMjA2MzEyZik7CiAgICAgICAgICAgIAogICAgCiAgICAgICAgICAgIHZhciBwb3B1cF80ZDI5ZDFmYTNlNzE0OWZlOTE5YThlNGRhZDU2NzYzMyA9IEwucG9wdXAoe21heFdpZHRoOiAnMTAwJScKICAgICAgICAgICAgCiAgICAgICAgICAgIH0pOwoKICAgICAgICAgICAgCiAgICAgICAgICAgICAgICB2YXIgaHRtbF9lYzhjNWNjNDhlMzQ0NTIzYjcwZjVjMWJjNDlkYjY1MyA9ICQoYDxkaXYgaWQ9Imh0bWxfZWM4YzVjYzQ4ZTM0NDUyM2I3MGY1YzFiYzQ5ZGI2NTMiIHN0eWxlPSJ3aWR0aDogMTAwLjAlOyBoZWlnaHQ6IDEwMC4wJTsiPlBsYXphPC9kaXY+YClbMF07CiAgICAgICAgICAgICAgICBwb3B1cF80ZDI5ZDFmYTNlNzE0OWZlOTE5YThlNGRhZDU2NzYzMy5zZXRDb250ZW50KGh0bWxfZWM4YzVjYzQ4ZTM0NDUyM2I3MGY1YzFiYzQ5ZGI2NTMpOwogICAgICAgICAgICAKCiAgICAgICAgICAgIGNpcmNsZV9tYXJrZXJfZTNkMzVkYTlhNDAzNDUzYzk5Yzk1ZmViNjE3YzkzZDUuYmluZFBvcHVwKHBvcHVwXzRkMjlkMWZhM2U3MTQ5ZmU5MTlhOGU0ZGFkNTY3NjMzKQogICAgICAgICAgICA7CgogICAgICAgICAgICAKICAgICAgICAKICAgIAogICAgICAgICAgICB2YXIgY2lyY2xlX21hcmtlcl9kNjFiMmE4NjNjMDM0OTYwOGRjYzg1NzFmNTNmMWE2NyA9IEwuY2lyY2xlTWFya2VyKAogICAgICAgICAgICAgICAgWzQ1Ljc2MDkyMTkwOTAwNzU1LCA0LjgzMjkxMDE0MjA1NzQyNF0sCiAgICAgICAgICAgICAgICB7CiAgImJ1YmJsaW5nTW91c2VFdmVudHMiOiB0cnVlLAogICJjb2xvciI6ICJibHVlIiwKICAiZGFzaEFycmF5IjogbnVsbCwKICAiZGFzaE9mZnNldCI6IG51bGwsCiAgImZpbGwiOiB0cnVlLAogICJmaWxsQ29sb3IiOiAiYmx1ZSIsCiAgImZpbGxPcGFjaXR5IjogMC42LAogICJmaWxsUnVsZSI6ICJldmVub2RkIiwKICAibGluZUNhcCI6ICJyb3VuZCIsCiAgImxpbmVKb2luIjogInJvdW5kIiwKICAib3BhY2l0eSI6IDEuMCwKICAicmFkaXVzIjogNSwKICAic3Ryb2tlIjogdHJ1ZSwKICAid2VpZ2h0IjogMwp9CiAgICAgICAgICAgICAgICApCiAgICAgICAgICAgICAgICAuYWRkVG8obWFwXzVkYTllNzM4MzFhMTQxMmViMjliODI0NmYyMDYzMTJmKTsKICAgICAgICAgICAgCiAgICAKICAgICAgICAgICAgdmFyIHBvcHVwXzBjNGJiMmJiY2EzOTRkNzRhMjYzNmNiODhiMTc2NWQ4ID0gTC5wb3B1cCh7bWF4V2lkdGg6ICcxMDAlJwogICAgICAgICAgICAKICAgICAgICAgICAgfSk7CgogICAgICAgICAgICAKICAgICAgICAgICAgICAgIHZhciBodG1sX2UzNzkxOTUwYTIyMDRjM2Y5NWJlNjU1MzMxMzZiOTczID0gJChgPGRpdiBpZD0iaHRtbF9lMzc5MTk1MGEyMjA0YzNmOTViZTY1NTMzMTM2Yjk3MyIgc3R5bGU9IndpZHRoOiAxMDAuMCU7IGhlaWdodDogMTAwLjAlOyI+Q2Fmw6k8L2Rpdj5gKVswXTsKICAgICAgICAgICAgICAgIHBvcHVwXzBjNGJiMmJiY2EzOTRkNzRhMjYzNmNiODhiMTc2NWQ4LnNldENvbnRlbnQoaHRtbF9lMzc5MTk1MGEyMjA0YzNmOTViZTY1NTMzMTM2Yjk3Myk7CiAgICAgICAgICAgIAoKICAgICAgICAgICAgY2lyY2xlX21hcmtlcl9kNjFiMmE4NjNjMDM0OTYwOGRjYzg1NzFmNTNmMWE2Ny5iaW5kUG9wdXAocG9wdXBfMGM0YmIyYmJjYTM5NGQ3NGEyNjM2Y2I4OGIxNzY1ZDgpCiAgICAgICAgICAgIDsKCiAgICAgICAgICAgIAogICAgICAgIAogICAgCiAgICAgICAgICAgIHZhciBjaXJjbGVfbWFya2VyXzgwOTVkNzQ1ZWI4MTQ2Njc5YzI3MWY0ZjdhOWUwZDRhID0gTC5jaXJjbGVNYXJrZXIoCiAgICAgICAgICAgICAgICBbNDUuNzYxNzU1NjQ3MDY2NDEsIDQuODMxODUyNTYyNTg0ODZdLAogICAgICAgICAgICAgICAgewogICJidWJibGluZ01vdXNlRXZlbnRzIjogdHJ1ZSwKICAiY29sb3IiOiAiYmx1ZSIsCiAgImRhc2hBcnJheSI6IG51bGwsCiAgImRhc2hPZmZzZXQiOiBudWxsLAogICJmaWxsIjogdHJ1ZSwKICAiZmlsbENvbG9yIjogImJsdWUiLAogICJmaWxsT3BhY2l0eSI6IDAuNiwKICAiZmlsbFJ1bGUiOiAiZXZlbm9kZCIsCiAgImxpbmVDYXAiOiAicm91bmQiLAogICJsaW5lSm9pbiI6ICJyb3VuZCIsCiAgIm9wYWNpdHkiOiAxLjAsCiAgInJhZGl1cyI6IDUsCiAgInN0cm9rZSI6IHRydWUsCiAgIndlaWdodCI6IDMKfQogICAgICAgICAgICAgICAgKQogICAgICAgICAgICAgICAgLmFkZFRvKG1hcF81ZGE5ZTczODMxYTE0MTJlYjI5YjgyNDZmMjA2MzEyZik7CiAgICAgICAgICAgIAogICAgCiAgICAgICAgICAgIHZhciBwb3B1cF9jNDQ4MTgzM2UyYzc0NjU4OWUyMzU2OGFhY2M2YjljOSA9IEwucG9wdXAoe21heFdpZHRoOiAnMTAwJScKICAgICAgICAgICAgCiAgICAgICAgICAgIH0pOwoKICAgICAgICAgICAgCiAgICAgICAgICAgICAgICB2YXIgaHRtbF81YWFhMWEyMDhjMmU0ODY0YmE1MTQ1YmZkNDEzOGZlMSA9ICQoYDxkaXYgaWQ9Imh0bWxfNWFhYTFhMjA4YzJlNDg2NGJhNTE0NWJmZDQxMzhmZTEiIHN0eWxlPSJ3aWR0aDogMTAwLjAlOyBoZWlnaHQ6IDEwMC4wJTsiPkZhcm1lcnMgTWFya2V0PC9kaXY+YClbMF07CiAgICAgICAgICAgICAgICBwb3B1cF9jNDQ4MTgzM2UyYzc0NjU4OWUyMzU2OGFhY2M2YjljOS5zZXRDb250ZW50KGh0bWxfNWFhYTFhMjA4YzJlNDg2NGJhNTE0NWJmZDQxMzhmZTEpOwogICAgICAgICAgICAKCiAgICAgICAgICAgIGNpcmNsZV9tYXJrZXJfODA5NWQ3NDVlYjgxNDY2NzljMjcxZjRmN2E5ZTBkNGEuYmluZFBvcHVwKHBvcHVwX2M0NDgxODMzZTJjNzQ2NTg5ZTIzNTY4YWFjYzZiOWM5KQogICAgICAgICAgICA7CgogICAgICAgICAgICAKICAgICAgICAKICAgIAogICAgICAgICAgICB2YXIgY2lyY2xlX21hcmtlcl8wZmJjOTRkMmJjMDE0YTQ3YjgzNTBmYmY2YmVhNmU2ZSA9IEwuY2lyY2xlTWFya2VyKAogICAgICAgICAgICAgICAgWzQ1Ljc2MTY5Njk2MzUzNTE2LCA0LjgzMjk2MjY2Mzc5NjM1Nl0sCiAgICAgICAgICAgICAgICB7CiAgImJ1YmJsaW5nTW91c2VFdmVudHMiOiB0cnVlLAogICJjb2xvciI6ICJibHVlIiwKICAiZGFzaEFycmF5IjogbnVsbCwKICAiZGFzaE9mZnNldCI6IG51bGwsCiAgImZpbGwiOiB0cnVlLAogICJmaWxsQ29sb3IiOiAiYmx1ZSIsCiAgImZpbGxPcGFjaXR5IjogMC42LAogICJmaWxsUnVsZSI6ICJldmVub2RkIiwKICAibGluZUNhcCI6ICJyb3VuZCIsCiAgImxpbmVKb2luIjogInJvdW5kIiwKICAib3BhY2l0eSI6IDEuMCwKICAicmFkaXVzIjogNSwKICAic3Ryb2tlIjogdHJ1ZSwKICAid2VpZ2h0IjogMwp9CiAgICAgICAgICAgICAgICApCiAgICAgICAgICAgICAgICAuYWRkVG8obWFwXzVkYTllNzM4MzFhMTQxMmViMjliODI0NmYyMDYzMTJmKTsKICAgICAgICAgICAgCiAgICAKICAgICAgICAgICAgdmFyIHBvcHVwX2EzZjgzZjQ4N2Q0ZjQ5MTRiYTNmZDFhNGM1YTBlMThmID0gTC5wb3B1cCh7bWF4V2lkdGg6ICcxMDAlJwogICAgICAgICAgICAKICAgICAgICAgICAgfSk7CgogICAgICAgICAgICAKICAgICAgICAgICAgICAgIHZhciBodG1sX2U0NWY5MWU4ZTMwZDRiNWE4MDNjNGRmOGY5YzFmNDFiID0gJChgPGRpdiBpZD0iaHRtbF9lNDVmOTFlOGUzMGQ0YjVhODAzYzRkZjhmOWMxZjQxYiIgc3R5bGU9IndpZHRoOiAxMDAuMCU7IGhlaWdodDogMTAwLjAlOyI+SXRhbGlhbiBSZXN0YXVyYW50PC9kaXY+YClbMF07CiAgICAgICAgICAgICAgICBwb3B1cF9hM2Y4M2Y0ODdkNGY0OTE0YmEzZmQxYTRjNWEwZTE4Zi5zZXRDb250ZW50KGh0bWxfZTQ1ZjkxZThlMzBkNGI1YTgwM2M0ZGY4ZjljMWY0MWIpOwogICAgICAgICAgICAKCiAgICAgICAgICAgIGNpcmNsZV9tYXJrZXJfMGZiYzk0ZDJiYzAxNGE0N2I4MzUwZmJmNmJlYTZlNmUuYmluZFBvcHVwKHBvcHVwX2EzZjgzZjQ4N2Q0ZjQ5MTRiYTNmZDFhNGM1YTBlMThmKQogICAgICAgICAgICA7CgogICAgICAgICAgICAKICAgICAgICAKICAgIAogICAgICAgICAgICB2YXIgY2lyY2xlX21hcmtlcl8xZWUzYTJmNjZlOWQ0MjIwOTNjYzJkNjdkYjYyYmEwYyA9IEwuY2lyY2xlTWFya2VyKAogICAgICAgICAgICAgICAgWzQ1Ljc1NzUyMzI3MDAwMDU3NiwgNC44MzIzOTY1MDcyNjMxODRdLAogICAgICAgICAgICAgICAgewogICJidWJibGluZ01vdXNlRXZlbnRzIjogdHJ1ZSwKICAiY29sb3IiOiAiYmx1ZSIsCiAgImRhc2hBcnJheSI6IG51bGwsCiAgImRhc2hPZmZzZXQiOiBudWxsLAogICJmaWxsIjogdHJ1ZSwKICAiZmlsbENvbG9yIjogImJsdWUiLAogICJmaWxsT3BhY2l0eSI6IDAuNiwKICAiZmlsbFJ1bGUiOiAiZXZlbm9kZCIsCiAgImxpbmVDYXAiOiAicm91bmQiLAogICJsaW5lSm9pbiI6ICJyb3VuZCIsCiAgIm9wYWNpdHkiOiAxLjAsCiAgInJhZGl1cyI6IDUsCiAgInN0cm9rZSI6IHRydWUsCiAgIndlaWdodCI6IDMKfQogICAgICAgICAgICAgICAgKQogICAgICAgICAgICAgICAgLmFkZFRvKG1hcF81ZGE5ZTczODMxYTE0MTJlYjI5YjgyNDZmMjA2MzEyZik7CiAgICAgICAgICAgIAogICAgCiAgICAgICAgICAgIHZhciBwb3B1cF83ZTljNzZjZmQ0MGM0NzVmODgzMzFjZDkyYmMxNTI0NiA9IEwucG9wdXAoe21heFdpZHRoOiAnMTAwJScKICAgICAgICAgICAgCiAgICAgICAgICAgIH0pOwoKICAgICAgICAgICAgCiAgICAgICAgICAgICAgICB2YXIgaHRtbF83ZDZiYjJmOTQxNzM0YjMzYmY5OTkyNzAxZTI1ODgxZiA9ICQoYDxkaXYgaWQ9Imh0bWxfN2Q2YmIyZjk0MTczNGIzM2JmOTk5MjcwMWUyNTg4MWYiIHN0eWxlPSJ3aWR0aDogMTAwLjAlOyBoZWlnaHQ6IDEwMC4wJTsiPlBsYXphPC9kaXY+YClbMF07CiAgICAgICAgICAgICAgICBwb3B1cF83ZTljNzZjZmQ0MGM0NzVmODgzMzFjZDkyYmMxNTI0Ni5zZXRDb250ZW50KGh0bWxfN2Q2YmIyZjk0MTczNGIzM2JmOTk5MjcwMWUyNTg4MWYpOwogICAgICAgICAgICAKCiAgICAgICAgICAgIGNpcmNsZV9tYXJrZXJfMWVlM2EyZjY2ZTlkNDIyMDkzY2MyZDY3ZGI2MmJhMGMuYmluZFBvcHVwKHBvcHVwXzdlOWM3NmNmZDQwYzQ3NWY4ODMzMWNkOTJiYzE1MjQ2KQogICAgICAgICAgICA7CgogICAgICAgICAgICAKICAgICAgICAKICAgIAogICAgICAgICAgICB2YXIgY2lyY2xlX21hcmtlcl8xZGRmN2VhYzNlNWE0Yzg0YWM2MjQ5NTNkM2QwMzIwYiA9IEwuY2lyY2xlTWFya2VyKAogICAgICAgICAgICAgICAgWzQ1Ljc1OTc2ODYxNTk0OTc5NSwgNC44MzE5OTU5OTc5MzIyMDddLAogICAgICAgICAgICAgICAgewogICJidWJibGluZ01vdXNlRXZlbnRzIjogdHJ1ZSwKICAiY29sb3IiOiAiYmx1ZSIsCiAgImRhc2hBcnJheSI6IG51bGwsCiAgImRhc2hPZmZzZXQiOiBudWxsLAogICJmaWxsIjogdHJ1ZSwKICAiZmlsbENvbG9yIjogImJsdWUiLAogICJmaWxsT3BhY2l0eSI6IDAuNiwKICAiZmlsbFJ1bGUiOiAiZXZlbm9kZCIsCiAgImxpbmVDYXAiOiAicm91bmQiLAogICJsaW5lSm9pbiI6ICJyb3VuZCIsCiAgIm9wYWNpdHkiOiAxLjAsCiAgInJhZGl1cyI6IDUsCiAgInN0cm9rZSI6IHRydWUsCiAgIndlaWdodCI6IDMKfQogICAgICAgICAgICAgICAgKQogICAgICAgICAgICAgICAgLmFkZFRvKG1hcF81ZGE5ZTczODMxYTE0MTJlYjI5YjgyNDZmMjA2MzEyZik7CiAgICAgICAgICAgIAogICAgCiAgICAgICAgICAgIHZhciBwb3B1cF8yYTE3ZWNiZjE5YTA0NmVjOGFhMDM1MWVjMWQ1N2Y5NiA9IEwucG9wdXAoe21heFdpZHRoOiAnMTAwJScKICAgICAgICAgICAgCiAgICAgICAgICAgIH0pOwoKICAgICAgICAgICAgCiAgICAgICAgICAgICAgICB2YXIgaHRtbF8xODk5ZmU4YWY3ZDE0ZDY4YWRmNTAyM2M3YWY1ZWIxYyA9ICQoYDxkaXYgaWQ9Imh0bWxfMTg5OWZlOGFmN2QxNGQ2OGFkZjUwMjNjN2FmNWViMWMiIHN0eWxlPSJ3aWR0aDogMTAwLjAlOyBoZWlnaHQ6IDEwMC4wJTsiPlRoZWF0ZXI8L2Rpdj5gKVswXTsKICAgICAgICAgICAgICAgIHBvcHVwXzJhMTdlY2JmMTlhMDQ2ZWM4YWEwMzUxZWMxZDU3Zjk2LnNldENvbnRlbnQoaHRtbF8xODk5ZmU4YWY3ZDE0ZDY4YWRmNTAyM2M3YWY1ZWIxYyk7CiAgICAgICAgICAgIAoKICAgICAgICAgICAgY2lyY2xlX21hcmtlcl8xZGRmN2VhYzNlNWE0Yzg0YWM2MjQ5NTNkM2QwMzIwYi5iaW5kUG9wdXAocG9wdXBfMmExN2VjYmYxOWEwNDZlYzhhYTAzNTFlYzFkNTdmOTYpCiAgICAgICAgICAgIDsKCiAgICAgICAgICAgIAogICAgICAgIAogICAgCiAgICAgICAgICAgIHZhciBjaXJjbGVfbWFya2VyX2E3MTdiNmE4OTAyMzQ1NmNiMGQxYjM0OTdhZGQ1NThkID0gTC5jaXJjbGVNYXJrZXIoCiAgICAgICAgICAgICAgICBbNDUuNzYxOTMxMTU0Njk4MzksIDQuODMyNjY3NTQ4MTI5Njg1NV0sCiAgICAgICAgICAgICAgICB7CiAgImJ1YmJsaW5nTW91c2VFdmVudHMiOiB0cnVlLAogICJjb2xvciI6ICJibHVlIiwKICAiZGFzaEFycmF5IjogbnVsbCwKICAiZGFzaE9mZnNldCI6IG51bGwsCiAgImZpbGwiOiB0cnVlLAogICJmaWxsQ29sb3IiOiAiYmx1ZSIsCiAgImZpbGxPcGFjaXR5IjogMC42LAogICJmaWxsUnVsZSI6ICJldmVub2RkIiwKICAibGluZUNhcCI6ICJyb3VuZCIsCiAgImxpbmVKb2luIjogInJvdW5kIiwKICAib3BhY2l0eSI6IDEuMCwKICAicmFkaXVzIjogNSwKICAic3Ryb2tlIjogdHJ1ZSwKICAid2VpZ2h0IjogMwp9CiAgICAgICAgICAgICAgICApCiAgICAgICAgICAgICAgICAuYWRkVG8obWFwXzVkYTllNzM4MzFhMTQxMmViMjliODI0NmYyMDYzMTJmKTsKICAgICAgICAgICAgCiAgICAKICAgICAgICAgICAgdmFyIHBvcHVwXzdjY2RlZDhiNTk4YTRmZjRhNGFlMzhhYjM4M2IxYjMyID0gTC5wb3B1cCh7bWF4V2lkdGg6ICcxMDAlJwogICAgICAgICAgICAKICAgICAgICAgICAgfSk7CgogICAgICAgICAgICAKICAgICAgICAgICAgICAgIHZhciBodG1sX2U1ODY0ZWIzZGI4MTQ4M2E5ZTVjYTAzNzBmNGExZmExID0gJChgPGRpdiBpZD0iaHRtbF9lNTg2NGViM2RiODE0ODNhOWU1Y2EwMzcwZjRhMWZhMSIgc3R5bGU9IndpZHRoOiAxMDAuMCU7IGhlaWdodDogMTAwLjAlOyI+UmVzdGF1cmFudDwvZGl2PmApWzBdOwogICAgICAgICAgICAgICAgcG9wdXBfN2NjZGVkOGI1OThhNGZmNGE0YWUzOGFiMzgzYjFiMzIuc2V0Q29udGVudChodG1sX2U1ODY0ZWIzZGI4MTQ4M2E5ZTVjYTAzNzBmNGExZmExKTsKICAgICAgICAgICAgCgogICAgICAgICAgICBjaXJjbGVfbWFya2VyX2E3MTdiNmE4OTAyMzQ1NmNiMGQxYjM0OTdhZGQ1NThkLmJpbmRQb3B1cChwb3B1cF83Y2NkZWQ4YjU5OGE0ZmY0YTRhZTM4YWIzODNiMWIzMikKICAgICAgICAgICAgOwoKICAgICAgICAgICAgCiAgICAgICAgCiAgICAKICAgICAgICAgICAgdmFyIGNpcmNsZV9tYXJrZXJfNDFjMzllOTJiY2QzNDUzYTgzNDMwYWE4ZmRlMTNjMGUgPSBMLmNpcmNsZU1hcmtlcigKICAgICAgICAgICAgICAgIFs0NS43NTg1ODg3MDM4MzYxMywgNC44MzI1MjI2MjE4MTg1NjFdLAogICAgICAgICAgICAgICAgewogICJidWJibGluZ01vdXNlRXZlbnRzIjogdHJ1ZSwKICAiY29sb3IiOiAiYmx1ZSIsCiAgImRhc2hBcnJheSI6IG51bGwsCiAgImRhc2hPZmZzZXQiOiBudWxsLAogICJmaWxsIjogdHJ1ZSwKICAiZmlsbENvbG9yIjogImJsdWUiLAogICJmaWxsT3BhY2l0eSI6IDAuNiwKICAiZmlsbFJ1bGUiOiAiZXZlbm9kZCIsCiAgImxpbmVDYXAiOiAicm91bmQiLAogICJsaW5lSm9pbiI6ICJyb3VuZCIsCiAgIm9wYWNpdHkiOiAxLjAsCiAgInJhZGl1cyI6IDUsCiAgInN0cm9rZSI6IHRydWUsCiAgIndlaWdodCI6IDMKfQogICAgICAgICAgICAgICAgKQogICAgICAgICAgICAgICAgLmFkZFRvKG1hcF81ZGE5ZTczODMxYTE0MTJlYjI5YjgyNDZmMjA2MzEyZik7CiAgICAgICAgICAgIAogICAgCiAgICAgICAgICAgIHZhciBwb3B1cF83MmJmY2ZkOGNhZWQ0YTEwODE1MGE4ZDMwODQ0ZTZmOSA9IEwucG9wdXAoe21heFdpZHRoOiAnMTAwJScKICAgICAgICAgICAgCiAgICAgICAgICAgIH0pOwoKICAgICAgICAgICAgCiAgICAgICAgICAgICAgICB2YXIgaHRtbF9iMDM0NzdmMDI4ZTI0YmUzODRmNTQxMGNmMjcyZmVlYSA9ICQoYDxkaXYgaWQ9Imh0bWxfYjAzNDc3ZjAyOGUyNGJlMzg0ZjU0MTBjZjI3MmZlZWEiIHN0eWxlPSJ3aWR0aDogMTAwLjAlOyBoZWlnaHQ6IDEwMC4wJTsiPkRlc3NlcnQgU2hvcDwvZGl2PmApWzBdOwogICAgICAgICAgICAgICAgcG9wdXBfNzJiZmNmZDhjYWVkNGExMDgxNTBhOGQzMDg0NGU2Zjkuc2V0Q29udGVudChodG1sX2IwMzQ3N2YwMjhlMjRiZTM4NGY1NDEwY2YyNzJmZWVhKTsKICAgICAgICAgICAgCgogICAgICAgICAgICBjaXJjbGVfbWFya2VyXzQxYzM5ZTkyYmNkMzQ1M2E4MzQzMGFhOGZkZTEzYzBlLmJpbmRQb3B1cChwb3B1cF83MmJmY2ZkOGNhZWQ0YTEwODE1MGE4ZDMwODQ0ZTZmOSkKICAgICAgICAgICAgOwoKICAgICAgICAgICAgCiAgICAgICAgCiAgICAKICAgICAgICAgICAgdmFyIGNpcmNsZV9tYXJrZXJfYjgwMDg1MTQzM2MwNDc1MDlkMzZkNTAzNzEzZGU1YTYgPSBMLmNpcmNsZU1hcmtlcigKICAgICAgICAgICAgICAgIFs0NS43NjA4NzMzMzM0ODg4NzQsIDQuODM0MDU2MjA5Njk0OTQ0XSwKICAgICAgICAgICAgICAgIHsKICAiYnViYmxpbmdNb3VzZUV2ZW50cyI6IHRydWUsCiAgImNvbG9yIjogImJsdWUiLAogICJkYXNoQXJyYXkiOiBudWxsLAogICJkYXNoT2Zmc2V0IjogbnVsbCwKICAiZmlsbCI6IHRydWUsCiAgImZpbGxDb2xvciI6ICJibHVlIiwKICAiZmlsbE9wYWNpdHkiOiAwLjYsCiAgImZpbGxSdWxlIjogImV2ZW5vZGQiLAogICJsaW5lQ2FwIjogInJvdW5kIiwKICAibGluZUpvaW4iOiAicm91bmQiLAogICJvcGFjaXR5IjogMS4wLAogICJyYWRpdXMiOiA1LAogICJzdHJva2UiOiB0cnVlLAogICJ3ZWlnaHQiOiAzCn0KICAgICAgICAgICAgICAgICkKICAgICAgICAgICAgICAgIC5hZGRUbyhtYXBfNWRhOWU3MzgzMWExNDEyZWIyOWI4MjQ2ZjIwNjMxMmYpOwogICAgICAgICAgICAKICAgIAogICAgICAgICAgICB2YXIgcG9wdXBfOTIyYzkzMDYzOTU2NDBkMmE0Y2IyYWMyYjJjNDExNDggPSBMLnBvcHVwKHttYXhXaWR0aDogJzEwMCUnCiAgICAgICAgICAgIAogICAgICAgICAgICB9KTsKCiAgICAgICAgICAgIAogICAgICAgICAgICAgICAgdmFyIGh0bWxfZWU0MzI0NTQ4YzFjNGIzY2I5MTczZGM3Y2U1MDU5N2MgPSAkKGA8ZGl2IGlkPSJodG1sX2VlNDMyNDU0OGMxYzRiM2NiOTE3M2RjN2NlNTA1OTdjIiBzdHlsZT0id2lkdGg6IDEwMC4wJTsgaGVpZ2h0OiAxMDAuMCU7Ij5Ib3RlbDwvZGl2PmApWzBdOwogICAgICAgICAgICAgICAgcG9wdXBfOTIyYzkzMDYzOTU2NDBkMmE0Y2IyYWMyYjJjNDExNDguc2V0Q29udGVudChodG1sX2VlNDMyNDU0OGMxYzRiM2NiOTE3M2RjN2NlNTA1OTdjKTsKICAgICAgICAgICAgCgogICAgICAgICAgICBjaXJjbGVfbWFya2VyX2I4MDA4NTE0MzNjMDQ3NTA5ZDM2ZDUwMzcxM2RlNWE2LmJpbmRQb3B1cChwb3B1cF85MjJjOTMwNjM5NTY0MGQyYTRjYjJhYzJiMmM0MTE0OCkKICAgICAgICAgICAgOwoKICAgICAgICAgICAgCiAgICAgICAgCiAgICAKICAgICAgICAgICAgdmFyIGNpcmNsZV9tYXJrZXJfYzkwMGJlMjRkYzVjNDI3NDk2MjcwYmNjMTVjM2IzNTEgPSBMLmNpcmNsZU1hcmtlcigKICAgICAgICAgICAgICAgIFs0NS43NjE3NTM0NDEyNzYzNywgNC44MzI5OTEyNzE4NjEwMjddLAogICAgICAgICAgICAgICAgewogICJidWJibGluZ01vdXNlRXZlbnRzIjogdHJ1ZSwKICAiY29sb3IiOiAiYmx1ZSIsCiAgImRhc2hBcnJheSI6IG51bGwsCiAgImRhc2hPZmZzZXQiOiBudWxsLAogICJmaWxsIjogdHJ1ZSwKICAiZmlsbENvbG9yIjogImJsdWUiLAogICJmaWxsT3BhY2l0eSI6IDAuNiwKICAiZmlsbFJ1bGUiOiAiZXZlbm9kZCIsCiAgImxpbmVDYXAiOiAicm91bmQiLAogICJsaW5lSm9pbiI6ICJyb3VuZCIsCiAgIm9wYWNpdHkiOiAxLjAsCiAgInJhZGl1cyI6IDUsCiAgInN0cm9rZSI6IHRydWUsCiAgIndlaWdodCI6IDMKfQogICAgICAgICAgICAgICAgKQogICAgICAgICAgICAgICAgLmFkZFRvKG1hcF81ZGE5ZTczODMxYTE0MTJlYjI5YjgyNDZmMjA2MzEyZik7CiAgICAgICAgICAgIAogICAgCiAgICAgICAgICAgIHZhciBwb3B1cF8yZGM1MzZhZjRmMTU0MTM1OGNjNTg3MzkyMDFjY2Y2OCA9IEwucG9wdXAoe21heFdpZHRoOiAnMTAwJScKICAgICAgICAgICAgCiAgICAgICAgICAgIH0pOwoKICAgICAgICAgICAgCiAgICAgICAgICAgICAgICB2YXIgaHRtbF9mZDhiY2UwMDgxNjk0YWFjYjY1NDZkZmUzNWUzNGFjNCA9ICQoYDxkaXYgaWQ9Imh0bWxfZmQ4YmNlMDA4MTY5NGFhY2I2NTQ2ZGZlMzVlMzRhYzQiIHN0eWxlPSJ3aWR0aDogMTAwLjAlOyBoZWlnaHQ6IDEwMC4wJTsiPkJhZ2VsIFNob3A8L2Rpdj5gKVswXTsKICAgICAgICAgICAgICAgIHBvcHVwXzJkYzUzNmFmNGYxNTQxMzU4Y2M1ODczOTIwMWNjZjY4LnNldENvbnRlbnQoaHRtbF9mZDhiY2UwMDgxNjk0YWFjYjY1NDZkZmUzNWUzNGFjNCk7CiAgICAgICAgICAgIAoKICAgICAgICAgICAgY2lyY2xlX21hcmtlcl9jOTAwYmUyNGRjNWM0Mjc0OTYyNzBiY2MxNWMzYjM1MS5iaW5kUG9wdXAocG9wdXBfMmRjNTM2YWY0ZjE1NDEzNThjYzU4NzM5MjAxY2NmNjgpCiAgICAgICAgICAgIDsKCiAgICAgICAgICAgIAogICAgICAgIAogICAgCiAgICAgICAgICAgIHZhciBjaXJjbGVfbWFya2VyXzlmMWY1MmQxNDhkZDQxNzFhNmNmOGRiYTAxNTYyOWUzID0gTC5jaXJjbGVNYXJrZXIoCiAgICAgICAgICAgICAgICBbNDUuNzU3ODU2LCA0LjgzNDM4NV0sCiAgICAgICAgICAgICAgICB7CiAgImJ1YmJsaW5nTW91c2VFdmVudHMiOiB0cnVlLAogICJjb2xvciI6ICJibHVlIiwKICAiZGFzaEFycmF5IjogbnVsbCwKICAiZGFzaE9mZnNldCI6IG51bGwsCiAgImZpbGwiOiB0cnVlLAogICJmaWxsQ29sb3IiOiAiYmx1ZSIsCiAgImZpbGxPcGFjaXR5IjogMC42LAogICJmaWxsUnVsZSI6ICJldmVub2RkIiwKICAibGluZUNhcCI6ICJyb3VuZCIsCiAgImxpbmVKb2luIjogInJvdW5kIiwKICAib3BhY2l0eSI6IDEuMCwKICAicmFkaXVzIjogNSwKICAic3Ryb2tlIjogdHJ1ZSwKICAid2VpZ2h0IjogMwp9CiAgICAgICAgICAgICAgICApCiAgICAgICAgICAgICAgICAuYWRkVG8obWFwXzVkYTllNzM4MzFhMTQxMmViMjliODI0NmYyMDYzMTJmKTsKICAgICAgICAgICAgCiAgICAKICAgICAgICAgICAgdmFyIHBvcHVwX2M2OTllZTU4NDE2YzRjNjVhYjY2MGY1OGY4OGUwYTFjID0gTC5wb3B1cCh7bWF4V2lkdGg6ICcxMDAlJwogICAgICAgICAgICAKICAgICAgICAgICAgfSk7CgogICAgICAgICAgICAKICAgICAgICAgICAgICAgIHZhciBodG1sXzUyZmM4MzVmZjE0YjRhMWI5NTc2NjM4OTBkZTAzOTk1ID0gJChgPGRpdiBpZD0iaHRtbF81MmZjODM1ZmYxNGI0YTFiOTU3NjYzODkwZGUwMzk5NSIgc3R5bGU9IndpZHRoOiAxMDAuMCU7IGhlaWdodDogMTAwLjAlOyI+UHViPC9kaXY+YClbMF07CiAgICAgICAgICAgICAgICBwb3B1cF9jNjk5ZWU1ODQxNmM0YzY1YWI2NjBmNThmODhlMGExYy5zZXRDb250ZW50KGh0bWxfNTJmYzgzNWZmMTRiNGExYjk1NzY2Mzg5MGRlMDM5OTUpOwogICAgICAgICAgICAKCiAgICAgICAgICAgIGNpcmNsZV9tYXJrZXJfOWYxZjUyZDE0OGRkNDE3MWE2Y2Y4ZGJhMDE1NjI5ZTMuYmluZFBvcHVwKHBvcHVwX2M2OTllZTU4NDE2YzRjNjVhYjY2MGY1OGY4OGUwYTFjKQogICAgICAgICAgICA7CgogICAgICAgICAgICAKICAgICAgICAKICAgIAogICAgICAgICAgICB2YXIgY2lyY2xlX21hcmtlcl9jYzU1Njk0MTBiNTU0YzdmOWQwNDg5ZGU5MzRiMDM2MiA9IEwuY2lyY2xlTWFya2VyKAogICAgICAgICAgICAgICAgWzQ1Ljc2MTU5OSwgNC44MzM3NzJdLAogICAgICAgICAgICAgICAgewogICJidWJibGluZ01vdXNlRXZlbnRzIjogdHJ1ZSwKICAiY29sb3IiOiAiYmx1ZSIsCiAgImRhc2hBcnJheSI6IG51bGwsCiAgImRhc2hPZmZzZXQiOiBudWxsLAogICJmaWxsIjogdHJ1ZSwKICAiZmlsbENvbG9yIjogImJsdWUiLAogICJmaWxsT3BhY2l0eSI6IDAuNiwKICAiZmlsbFJ1bGUiOiAiZXZlbm9kZCIsCiAgImxpbmVDYXAiOiAicm91bmQiLAogICJsaW5lSm9pbiI6ICJyb3VuZCIsCiAgIm9wYWNpdHkiOiAxLjAsCiAgInJhZGl1cyI6IDUsCiAgInN0cm9rZSI6IHRydWUsCiAgIndlaWdodCI6IDMKfQogICAgICAgICAgICAgICAgKQogICAgICAgICAgICAgICAgLmFkZFRvKG1hcF81ZGE5ZTczODMxYTE0MTJlYjI5YjgyNDZmMjA2MzEyZik7CiAgICAgICAgICAgIAogICAgCiAgICAgICAgICAgIHZhciBwb3B1cF8xN2UyODQ0YTMxY2U0ODgwYTE2NTRmNzIxNWE5ZjBjMCA9IEwucG9wdXAoe21heFdpZHRoOiAnMTAwJScKICAgICAgICAgICAgCiAgICAgICAgICAgIH0pOwoKICAgICAgICAgICAgCiAgICAgICAgICAgICAgICB2YXIgaHRtbF9kZTZhOTNhYTNlZmU0NGI4OWNmNGM1NTVjMjg1NDY2NyA9ICQoYDxkaXYgaWQ9Imh0bWxfZGU2YTkzYWEzZWZlNDRiODljZjRjNTU1YzI4NTQ2NjciIHN0eWxlPSJ3aWR0aDogMTAwLjAlOyBoZWlnaHQ6IDEwMC4wJTsiPlN1c2hpIFJlc3RhdXJhbnQ8L2Rpdj5gKVswXTsKICAgICAgICAgICAgICAgIHBvcHVwXzE3ZTI4NDRhMzFjZTQ4ODBhMTY1NGY3MjE1YTlmMGMwLnNldENvbnRlbnQoaHRtbF9kZTZhOTNhYTNlZmU0NGI4OWNmNGM1NTVjMjg1NDY2Nyk7CiAgICAgICAgICAgIAoKICAgICAgICAgICAgY2lyY2xlX21hcmtlcl9jYzU1Njk0MTBiNTU0YzdmOWQwNDg5ZGU5MzRiMDM2Mi5iaW5kUG9wdXAocG9wdXBfMTdlMjg0NGEzMWNlNDg4MGExNjU0ZjcyMTVhOWYwYzApCiAgICAgICAgICAgIDsKCiAgICAgICAgICAgIAogICAgICAgIAogICAgCiAgICAgICAgICAgIHZhciBjaXJjbGVfbWFya2VyXzRjOWI4YThkOWIwZDQxMTlhMzgzMGZkMGVlZWZmMDY0ID0gTC5jaXJjbGVNYXJrZXIoCiAgICAgICAgICAgICAgICBbNDUuNzU5NTE4MTEyMTczMjYsIDQuODMwMzA5NzQ4NjQ5NTk3XSwKICAgICAgICAgICAgICAgIHsKICAiYnViYmxpbmdNb3VzZUV2ZW50cyI6IHRydWUsCiAgImNvbG9yIjogImJsdWUiLAogICJkYXNoQXJyYXkiOiBudWxsLAogICJkYXNoT2Zmc2V0IjogbnVsbCwKICAiZmlsbCI6IHRydWUsCiAgImZpbGxDb2xvciI6ICJibHVlIiwKICAiZmlsbE9wYWNpdHkiOiAwLjYsCiAgImZpbGxSdWxlIjogImV2ZW5vZGQiLAogICJsaW5lQ2FwIjogInJvdW5kIiwKICAibGluZUpvaW4iOiAicm91bmQiLAogICJvcGFjaXR5IjogMS4wLAogICJyYWRpdXMiOiA1LAogICJzdHJva2UiOiB0cnVlLAogICJ3ZWlnaHQiOiAzCn0KICAgICAgICAgICAgICAgICkKICAgICAgICAgICAgICAgIC5hZGRUbyhtYXBfNWRhOWU3MzgzMWExNDEyZWIyOWI4MjQ2ZjIwNjMxMmYpOwogICAgICAgICAgICAKICAgIAogICAgICAgICAgICB2YXIgcG9wdXBfMDFjYjU3YjNlNmEwNDFjMWFlZDNiOGU3MjUwMzY2ZjEgPSBMLnBvcHVwKHttYXhXaWR0aDogJzEwMCUnCiAgICAgICAgICAgIAogICAgICAgICAgICB9KTsKCiAgICAgICAgICAgIAogICAgICAgICAgICAgICAgdmFyIGh0bWxfNTIyN2NkMGFmYjU1NGY0NGIwODQ1ODY1N2MxZjZmMGYgPSAkKGA8ZGl2IGlkPSJodG1sXzUyMjdjZDBhZmI1NTRmNDRiMDg0NTg2NTdjMWY2ZjBmIiBzdHlsZT0id2lkdGg6IDEwMC4wJTsgaGVpZ2h0OiAxMDAuMCU7Ij5GcmVuY2ggUmVzdGF1cmFudDwvZGl2PmApWzBdOwogICAgICAgICAgICAgICAgcG9wdXBfMDFjYjU3YjNlNmEwNDFjMWFlZDNiOGU3MjUwMzY2ZjEuc2V0Q29udGVudChodG1sXzUyMjdjZDBhZmI1NTRmNDRiMDg0NTg2NTdjMWY2ZjBmKTsKICAgICAgICAgICAgCgogICAgICAgICAgICBjaXJjbGVfbWFya2VyXzRjOWI4YThkOWIwZDQxMTlhMzgzMGZkMGVlZWZmMDY0LmJpbmRQb3B1cChwb3B1cF8wMWNiNTdiM2U2YTA0MWMxYWVkM2I4ZTcyNTAzNjZmMSkKICAgICAgICAgICAgOwoKICAgICAgICAgICAgCiAgICAgICAgCiAgICAKICAgICAgICAgICAgdmFyIGNpcmNsZV9tYXJrZXJfOTRjZDZhMDg0ZTJmNDhkNWFlMzE3OTk0MWU0OTZiNWQgPSBMLmNpcmNsZU1hcmtlcigKICAgICAgICAgICAgICAgIFs0NS43NjI3ODIxMTQ3Njk4MiwgNC44MzI5ODI4ODg0Mjg4ODddLAogICAgICAgICAgICAgICAgewogICJidWJibGluZ01vdXNlRXZlbnRzIjogdHJ1ZSwKICAiY29sb3IiOiAiYmx1ZSIsCiAgImRhc2hBcnJheSI6IG51bGwsCiAgImRhc2hPZmZzZXQiOiBudWxsLAogICJmaWxsIjogdHJ1ZSwKICAiZmlsbENvbG9yIjogImJsdWUiLAogICJmaWxsT3BhY2l0eSI6IDAuNiwKICAiZmlsbFJ1bGUiOiAiZXZlbm9kZCIsCiAgImxpbmVDYXAiOiAicm91bmQiLAogICJsaW5lSm9pbiI6ICJyb3VuZCIsCiAgIm9wYWNpdHkiOiAxLjAsCiAgInJhZGl1cyI6IDUsCiAgInN0cm9rZSI6IHRydWUsCiAgIndlaWdodCI6IDMKfQogICAgICAgICAgICAgICAgKQogICAgICAgICAgICAgICAgLmFkZFRvKG1hcF81ZGE5ZTczODMxYTE0MTJlYjI5YjgyNDZmMjA2MzEyZik7CiAgICAgICAgICAgIAogICAgCiAgICAgICAgICAgIHZhciBwb3B1cF8wOGYyMDdkOGJmM2E0MDQwYjI0Yjg0N2U3ZjQwODYwMiA9IEwucG9wdXAoe21heFdpZHRoOiAnMTAwJScKICAgICAgICAgICAgCiAgICAgICAgICAgIH0pOwoKICAgICAgICAgICAgCiAgICAgICAgICAgICAgICB2YXIgaHRtbF82OWRiYzAzOTAyMDc0ZWFiOThjNzhiODhhMzc4NzZhMSA9ICQoYDxkaXYgaWQ9Imh0bWxfNjlkYmMwMzkwMjA3NGVhYjk4Yzc4Yjg4YTM3ODc2YTEiIHN0eWxlPSJ3aWR0aDogMTAwLjAlOyBoZWlnaHQ6IDEwMC4wJTsiPkJhcjwvZGl2PmApWzBdOwogICAgICAgICAgICAgICAgcG9wdXBfMDhmMjA3ZDhiZjNhNDA0MGIyNGI4NDdlN2Y0MDg2MDIuc2V0Q29udGVudChodG1sXzY5ZGJjMDM5MDIwNzRlYWI5OGM3OGI4OGEzNzg3NmExKTsKICAgICAgICAgICAgCgogICAgICAgICAgICBjaXJjbGVfbWFya2VyXzk0Y2Q2YTA4NGUyZjQ4ZDVhZTMxNzk5NDFlNDk2YjVkLmJpbmRQb3B1cChwb3B1cF8wOGYyMDdkOGJmM2E0MDQwYjI0Yjg0N2U3ZjQwODYwMikKICAgICAgICAgICAgOwoKICAgICAgICAgICAgCiAgICAgICAgCiAgICAKICAgICAgICAgICAgdmFyIGNpcmNsZV9tYXJrZXJfMTgwYjJmN2QzMmE4NDI1NThiYzhiZDExY2UwY2MyZWIgPSBMLmNpcmNsZU1hcmtlcigKICAgICAgICAgICAgICAgIFs0NS43NjEyNDAzNjAxNzM1NywgNC44MzY2NTI1NzQ0NDQ5Ml0sCiAgICAgICAgICAgICAgICB7CiAgImJ1YmJsaW5nTW91c2VFdmVudHMiOiB0cnVlLAogICJjb2xvciI6ICJibHVlIiwKICAiZGFzaEFycmF5IjogbnVsbCwKICAiZGFzaE9mZnNldCI6IG51bGwsCiAgImZpbGwiOiB0cnVlLAogICJmaWxsQ29sb3IiOiAiYmx1ZSIsCiAgImZpbGxPcGFjaXR5IjogMC42LAogICJmaWxsUnVsZSI6ICJldmVub2RkIiwKICAibGluZUNhcCI6ICJyb3VuZCIsCiAgImxpbmVKb2luIjogInJvdW5kIiwKICAib3BhY2l0eSI6IDEuMCwKICAicmFkaXVzIjogNSwKICAic3Ryb2tlIjogdHJ1ZSwKICAid2VpZ2h0IjogMwp9CiAgICAgICAgICAgICAgICApCiAgICAgICAgICAgICAgICAuYWRkVG8obWFwXzVkYTllNzM4MzFhMTQxMmViMjliODI0NmYyMDYzMTJmKTsKICAgICAgICAgICAgCiAgICAKICAgICAgICAgICAgdmFyIHBvcHVwX2FjNzZjZmUyODY3YTQ3N2U5YzE3N2VjMGY3NmQxYzc2ID0gTC5wb3B1cCh7bWF4V2lkdGg6ICcxMDAlJwogICAgICAgICAgICAKICAgICAgICAgICAgfSk7CgogICAgICAgICAgICAKICAgICAgICAgICAgICAgIHZhciBodG1sX2EyMjUyMzJhYThlNDQ3MGE4MDJkYTVhZDlkNzBmNGVjID0gJChgPGRpdiBpZD0iaHRtbF9hMjI1MjMyYWE4ZTQ0NzBhODAyZGE1YWQ5ZDcwZjRlYyIgc3R5bGU9IndpZHRoOiAxMDAuMCU7IGhlaWdodDogMTAwLjAlOyI+Q2xvdGhpbmcgU3RvcmU8L2Rpdj5gKVswXTsKICAgICAgICAgICAgICAgIHBvcHVwX2FjNzZjZmUyODY3YTQ3N2U5YzE3N2VjMGY3NmQxYzc2LnNldENvbnRlbnQoaHRtbF9hMjI1MjMyYWE4ZTQ0NzBhODAyZGE1YWQ5ZDcwZjRlYyk7CiAgICAgICAgICAgIAoKICAgICAgICAgICAgY2lyY2xlX21hcmtlcl8xODBiMmY3ZDMyYTg0MjU1OGJjOGJkMTFjZTBjYzJlYi5iaW5kUG9wdXAocG9wdXBfYWM3NmNmZTI4NjdhNDc3ZTljMTc3ZWMwZjc2ZDFjNzYpCiAgICAgICAgICAgIDsKCiAgICAgICAgICAgIAogICAgICAgIAogICAgCiAgICAgICAgICAgIHZhciBjaXJjbGVfbWFya2VyXzc4ZDIxYWU3Zjc3ODQ0NzViODE4N2EzOTNkZWY4ZGMxID0gTC5jaXJjbGVNYXJrZXIoCiAgICAgICAgICAgICAgICBbNDUuNzU5NjYsIDQuODM1MTldLAogICAgICAgICAgICAgICAgewogICJidWJibGluZ01vdXNlRXZlbnRzIjogdHJ1ZSwKICAiY29sb3IiOiAiYmx1ZSIsCiAgImRhc2hBcnJheSI6IG51bGwsCiAgImRhc2hPZmZzZXQiOiBudWxsLAogICJmaWxsIjogdHJ1ZSwKICAiZmlsbENvbG9yIjogImJsdWUiLAogICJmaWxsT3BhY2l0eSI6IDAuNiwKICAiZmlsbFJ1bGUiOiAiZXZlbm9kZCIsCiAgImxpbmVDYXAiOiAicm91bmQiLAogICJsaW5lSm9pbiI6ICJyb3VuZCIsCiAgIm9wYWNpdHkiOiAxLjAsCiAgInJhZGl1cyI6IDUsCiAgInN0cm9rZSI6IHRydWUsCiAgIndlaWdodCI6IDMKfQogICAgICAgICAgICAgICAgKQogICAgICAgICAgICAgICAgLmFkZFRvKG1hcF81ZGE5ZTczODMxYTE0MTJlYjI5YjgyNDZmMjA2MzEyZik7CiAgICAgICAgICAgIAogICAgCiAgICAgICAgICAgIHZhciBwb3B1cF8zNTVjOGU0MGRkZmE0NjQ3YjI1MmFjZmJlMGRhMjg3MiA9IEwucG9wdXAoe21heFdpZHRoOiAnMTAwJScKICAgICAgICAgICAgCiAgICAgICAgICAgIH0pOwoKICAgICAgICAgICAgCiAgICAgICAgICAgICAgICB2YXIgaHRtbF8yYjc0NTA1MDJiMjI0NzFhYWUwMDgyOWViMDQ1N2IzYyA9ICQoYDxkaXYgaWQ9Imh0bWxfMmI3NDUwNTAyYjIyNDcxYWFlMDA4MjllYjA0NTdiM2MiIHN0eWxlPSJ3aWR0aDogMTAwLjAlOyBoZWlnaHQ6IDEwMC4wJTsiPkNvZmZlZSBTaG9wPC9kaXY+YClbMF07CiAgICAgICAgICAgICAgICBwb3B1cF8zNTVjOGU0MGRkZmE0NjQ3YjI1MmFjZmJlMGRhMjg3Mi5zZXRDb250ZW50KGh0bWxfMmI3NDUwNTAyYjIyNDcxYWFlMDA4MjllYjA0NTdiM2MpOwogICAgICAgICAgICAKCiAgICAgICAgICAgIGNpcmNsZV9tYXJrZXJfNzhkMjFhZTdmNzc4NDQ3NWI4MTg3YTM5M2RlZjhkYzEuYmluZFBvcHVwKHBvcHVwXzM1NWM4ZTQwZGRmYTQ2NDdiMjUyYWNmYmUwZGEyODcyKQogICAgICAgICAgICA7CgogICAgICAgICAgICAKICAgICAgICAKICAgIAogICAgICAgICAgICB2YXIgY2lyY2xlX21hcmtlcl9lOGJiM2U4YWU2MTI0ZGE1OTE3M2Q1OGMwN2M3M2FiMyA9IEwuY2lyY2xlTWFya2VyKAogICAgICAgICAgICAgICAgWzQ1Ljc1OTkzMDQ5NzM1OTgyNSwgNC44MzQ1MzY2NTAxNjEwNjNdLAogICAgICAgICAgICAgICAgewogICJidWJibGluZ01vdXNlRXZlbnRzIjogdHJ1ZSwKICAiY29sb3IiOiAiYmx1ZSIsCiAgImRhc2hBcnJheSI6IG51bGwsCiAgImRhc2hPZmZzZXQiOiBudWxsLAogICJmaWxsIjogdHJ1ZSwKICAiZmlsbENvbG9yIjogImJsdWUiLAogICJmaWxsT3BhY2l0eSI6IDAuNiwKICAiZmlsbFJ1bGUiOiAiZXZlbm9kZCIsCiAgImxpbmVDYXAiOiAicm91bmQiLAogICJsaW5lSm9pbiI6ICJyb3VuZCIsCiAgIm9wYWNpdHkiOiAxLjAsCiAgInJhZGl1cyI6IDUsCiAgInN0cm9rZSI6IHRydWUsCiAgIndlaWdodCI6IDMKfQogICAgICAgICAgICAgICAgKQogICAgICAgICAgICAgICAgLmFkZFRvKG1hcF81ZGE5ZTczODMxYTE0MTJlYjI5YjgyNDZmMjA2MzEyZik7CiAgICAgICAgICAgIAogICAgCiAgICAgICAgICAgIHZhciBwb3B1cF85MmQzY2FiMDZkZjI0MmI4OTExOTNiNDMyMzlkZjE0MSA9IEwucG9wdXAoe21heFdpZHRoOiAnMTAwJScKICAgICAgICAgICAgCiAgICAgICAgICAgIH0pOwoKICAgICAgICAgICAgCiAgICAgICAgICAgICAgICB2YXIgaHRtbF8wZDFhYzY0MjhlNTQ0MTdmYjhlMmQ2MGQ2YTIwM2FmYyA9ICQoYDxkaXYgaWQ9Imh0bWxfMGQxYWM2NDI4ZTU0NDE3ZmI4ZTJkNjBkNmEyMDNhZmMiIHN0eWxlPSJ3aWR0aDogMTAwLjAlOyBoZWlnaHQ6IDEwMC4wJTsiPkZyZW5jaCBSZXN0YXVyYW50PC9kaXY+YClbMF07CiAgICAgICAgICAgICAgICBwb3B1cF85MmQzY2FiMDZkZjI0MmI4OTExOTNiNDMyMzlkZjE0MS5zZXRDb250ZW50KGh0bWxfMGQxYWM2NDI4ZTU0NDE3ZmI4ZTJkNjBkNmEyMDNhZmMpOwogICAgICAgICAgICAKCiAgICAgICAgICAgIGNpcmNsZV9tYXJrZXJfZThiYjNlOGFlNjEyNGRhNTkxNzNkNThjMDdjNzNhYjMuYmluZFBvcHVwKHBvcHVwXzkyZDNjYWIwNmRmMjQyYjg5MTE5M2I0MzIzOWRmMTQxKQogICAgICAgICAgICA7CgogICAgICAgICAgICAKICAgICAgICAKICAgIAogICAgICAgICAgICB2YXIgY2lyY2xlX21hcmtlcl9jNGNiMWVmOGJkYmU0ZjQ4OGJmNzE4MDMzYWMxOTk2MiA9IEwuY2lyY2xlTWFya2VyKAogICAgICAgICAgICAgICAgWzQ1Ljc1NzYyMjc4MjUzODg5NSwgNC44MzYwMDY2MjUwNzcwNzJdLAogICAgICAgICAgICAgICAgewogICJidWJibGluZ01vdXNlRXZlbnRzIjogdHJ1ZSwKICAiY29sb3IiOiAiYmx1ZSIsCiAgImRhc2hBcnJheSI6IG51bGwsCiAgImRhc2hPZmZzZXQiOiBudWxsLAogICJmaWxsIjogdHJ1ZSwKICAiZmlsbENvbG9yIjogImJsdWUiLAogICJmaWxsT3BhY2l0eSI6IDAuNiwKICAiZmlsbFJ1bGUiOiAiZXZlbm9kZCIsCiAgImxpbmVDYXAiOiAicm91bmQiLAogICJsaW5lSm9pbiI6ICJyb3VuZCIsCiAgIm9wYWNpdHkiOiAxLjAsCiAgInJhZGl1cyI6IDUsCiAgInN0cm9rZSI6IHRydWUsCiAgIndlaWdodCI6IDMKfQogICAgICAgICAgICAgICAgKQogICAgICAgICAgICAgICAgLmFkZFRvKG1hcF81ZGE5ZTczODMxYTE0MTJlYjI5YjgyNDZmMjA2MzEyZik7CiAgICAgICAgICAgIAogICAgCiAgICAgICAgICAgIHZhciBwb3B1cF85MzQ4ZDUyYzczYWM0YWI1ODdkZjdmYTQwOTBkMWQ4YSA9IEwucG9wdXAoe21heFdpZHRoOiAnMTAwJScKICAgICAgICAgICAgCiAgICAgICAgICAgIH0pOwoKICAgICAgICAgICAgCiAgICAgICAgICAgICAgICB2YXIgaHRtbF8zNjQ1ODU0NDViMjg0OTZlODdkY2Q2ODViYzljNWE3ZiA9ICQoYDxkaXYgaWQ9Imh0bWxfMzY0NTg1NDQ1YjI4NDk2ZTg3ZGNkNjg1YmM5YzVhN2YiIHN0eWxlPSJ3aWR0aDogMTAwLjAlOyBoZWlnaHQ6IDEwMC4wJTsiPlJlc29ydDwvZGl2PmApWzBdOwogICAgICAgICAgICAgICAgcG9wdXBfOTM0OGQ1MmM3M2FjNGFiNTg3ZGY3ZmE0MDkwZDFkOGEuc2V0Q29udGVudChodG1sXzM2NDU4NTQ0NWIyODQ5NmU4N2RjZDY4NWJjOWM1YTdmKTsKICAgICAgICAgICAgCgogICAgICAgICAgICBjaXJjbGVfbWFya2VyX2M0Y2IxZWY4YmRiZTRmNDg4YmY3MTgwMzNhYzE5OTYyLmJpbmRQb3B1cChwb3B1cF85MzQ4ZDUyYzczYWM0YWI1ODdkZjdmYTQwOTBkMWQ4YSkKICAgICAgICAgICAgOwoKICAgICAgICAgICAgCiAgICAgICAgCiAgICAKICAgICAgICAgICAgdmFyIGNpcmNsZV9tYXJrZXJfNjYxNDU3OGRlZjkwNDI0OTk2YzJhZmY4ZWNjN2Y5YmMgPSBMLmNpcmNsZU1hcmtlcigKICAgICAgICAgICAgICAgIFs0NS43NTg5MTg3MTkzMDk3MywgNC44MzYwMDIzNDE4MDIzNjhdLAogICAgICAgICAgICAgICAgewogICJidWJibGluZ01vdXNlRXZlbnRzIjogdHJ1ZSwKICAiY29sb3IiOiAiYmx1ZSIsCiAgImRhc2hBcnJheSI6IG51bGwsCiAgImRhc2hPZmZzZXQiOiBudWxsLAogICJmaWxsIjogdHJ1ZSwKICAiZmlsbENvbG9yIjogImJsdWUiLAogICJmaWxsT3BhY2l0eSI6IDAuNiwKICAiZmlsbFJ1bGUiOiAiZXZlbm9kZCIsCiAgImxpbmVDYXAiOiAicm91bmQiLAogICJsaW5lSm9pbiI6ICJyb3VuZCIsCiAgIm9wYWNpdHkiOiAxLjAsCiAgInJhZGl1cyI6IDUsCiAgInN0cm9rZSI6IHRydWUsCiAgIndlaWdodCI6IDMKfQogICAgICAgICAgICAgICAgKQogICAgICAgICAgICAgICAgLmFkZFRvKG1hcF81ZGE5ZTczODMxYTE0MTJlYjI5YjgyNDZmMjA2MzEyZik7CiAgICAgICAgICAgIAogICAgCiAgICAgICAgICAgIHZhciBwb3B1cF8yYWM3YmMwMzZlMjI0Yjg5YTU0NmExNTM2MGEzMzc3MCA9IEwucG9wdXAoe21heFdpZHRoOiAnMTAwJScKICAgICAgICAgICAgCiAgICAgICAgICAgIH0pOwoKICAgICAgICAgICAgCiAgICAgICAgICAgICAgICB2YXIgaHRtbF9kNzhkYjhlZTc3Y2I0ZDg2OWUzMWM5YzVmMWQ0ODE3NCA9ICQoYDxkaXYgaWQ9Imh0bWxfZDc4ZGI4ZWU3N2NiNGQ4NjllMzFjOWM1ZjFkNDgxNzQiIHN0eWxlPSJ3aWR0aDogMTAwLjAlOyBoZWlnaHQ6IDEwMC4wJTsiPkJhcjwvZGl2PmApWzBdOwogICAgICAgICAgICAgICAgcG9wdXBfMmFjN2JjMDM2ZTIyNGI4OWE1NDZhMTUzNjBhMzM3NzAuc2V0Q29udGVudChodG1sX2Q3OGRiOGVlNzdjYjRkODY5ZTMxYzljNWYxZDQ4MTc0KTsKICAgICAgICAgICAgCgogICAgICAgICAgICBjaXJjbGVfbWFya2VyXzY2MTQ1NzhkZWY5MDQyNDk5NmMyYWZmOGVjYzdmOWJjLmJpbmRQb3B1cChwb3B1cF8yYWM3YmMwMzZlMjI0Yjg5YTU0NmExNTM2MGEzMzc3MCkKICAgICAgICAgICAgOwoKICAgICAgICAgICAgCiAgICAgICAgCiAgICAKICAgICAgICAgICAgdmFyIGNpcmNsZV9tYXJrZXJfZGExZGE1YWY1MjcyNGVmNDk5OTdjOWVhZmQzNjcwMDAgPSBMLmNpcmNsZU1hcmtlcigKICAgICAgICAgICAgICAgIFs0NS43NjE2ODIxMTU1NjE0MDYsIDQuODMyOTQ3ODEyMjA5NTc2XSwKICAgICAgICAgICAgICAgIHsKICAiYnViYmxpbmdNb3VzZUV2ZW50cyI6IHRydWUsCiAgImNvbG9yIjogImJsdWUiLAogICJkYXNoQXJyYXkiOiBudWxsLAogICJkYXNoT2Zmc2V0IjogbnVsbCwKICAiZmlsbCI6IHRydWUsCiAgImZpbGxDb2xvciI6ICJibHVlIiwKICAiZmlsbE9wYWNpdHkiOiAwLjYsCiAgImZpbGxSdWxlIjogImV2ZW5vZGQiLAogICJsaW5lQ2FwIjogInJvdW5kIiwKICAibGluZUpvaW4iOiAicm91bmQiLAogICJvcGFjaXR5IjogMS4wLAogICJyYWRpdXMiOiA1LAogICJzdHJva2UiOiB0cnVlLAogICJ3ZWlnaHQiOiAzCn0KICAgICAgICAgICAgICAgICkKICAgICAgICAgICAgICAgIC5hZGRUbyhtYXBfNWRhOWU3MzgzMWExNDEyZWIyOWI4MjQ2ZjIwNjMxMmYpOwogICAgICAgICAgICAKICAgIAogICAgICAgICAgICB2YXIgcG9wdXBfMzFkNjQ3ZjM2N2IzNDI4ZmE3ZTA2ZjgxYjg0OTliM2YgPSBMLnBvcHVwKHttYXhXaWR0aDogJzEwMCUnCiAgICAgICAgICAgIAogICAgICAgICAgICB9KTsKCiAgICAgICAgICAgIAogICAgICAgICAgICAgICAgdmFyIGh0bWxfZGZlNzk5OWQwNjUyNDgxMDgxMzE0OWZiMDY3OGNkODAgPSAkKGA8ZGl2IGlkPSJodG1sX2RmZTc5OTlkMDY1MjQ4MTA4MTMxNDlmYjA2NzhjZDgwIiBzdHlsZT0id2lkdGg6IDEwMC4wJTsgaGVpZ2h0OiAxMDAuMCU7Ij5HYXN0cm9wdWI8L2Rpdj5gKVswXTsKICAgICAgICAgICAgICAgIHBvcHVwXzMxZDY0N2YzNjdiMzQyOGZhN2UwNmY4MWI4NDk5YjNmLnNldENvbnRlbnQoaHRtbF9kZmU3OTk5ZDA2NTI0ODEwODEzMTQ5ZmIwNjc4Y2Q4MCk7CiAgICAgICAgICAgIAoKICAgICAgICAgICAgY2lyY2xlX21hcmtlcl9kYTFkYTVhZjUyNzI0ZWY0OTk5N2M5ZWFmZDM2NzAwMC5iaW5kUG9wdXAocG9wdXBfMzFkNjQ3ZjM2N2IzNDI4ZmE3ZTA2ZjgxYjg0OTliM2YpCiAgICAgICAgICAgIDsKCiAgICAgICAgICAgIAogICAgICAgIAogICAgCiAgICAgICAgICAgIHZhciBjaXJjbGVfbWFya2VyX2E2ZjE2MzU2ODA3MjQ0YTU4NjQ3OWIwYjg4ZGNjYTE3ID0gTC5jaXJjbGVNYXJrZXIoCiAgICAgICAgICAgICAgICBbNDUuNzYyMTg4OTUwMjY5MywgNC44MzE4MDU0NjU4MzcxNjFdLAogICAgICAgICAgICAgICAgewogICJidWJibGluZ01vdXNlRXZlbnRzIjogdHJ1ZSwKICAiY29sb3IiOiAiYmx1ZSIsCiAgImRhc2hBcnJheSI6IG51bGwsCiAgImRhc2hPZmZzZXQiOiBudWxsLAogICJmaWxsIjogdHJ1ZSwKICAiZmlsbENvbG9yIjogImJsdWUiLAogICJmaWxsT3BhY2l0eSI6IDAuNiwKICAiZmlsbFJ1bGUiOiAiZXZlbm9kZCIsCiAgImxpbmVDYXAiOiAicm91bmQiLAogICJsaW5lSm9pbiI6ICJyb3VuZCIsCiAgIm9wYWNpdHkiOiAxLjAsCiAgInJhZGl1cyI6IDUsCiAgInN0cm9rZSI6IHRydWUsCiAgIndlaWdodCI6IDMKfQogICAgICAgICAgICAgICAgKQogICAgICAgICAgICAgICAgLmFkZFRvKG1hcF81ZGE5ZTczODMxYTE0MTJlYjI5YjgyNDZmMjA2MzEyZik7CiAgICAgICAgICAgIAogICAgCiAgICAgICAgICAgIHZhciBwb3B1cF82NjM3MTdkMTg1MTc0MzE5YWViNTQ4NGVmYzNlZTY2MiA9IEwucG9wdXAoe21heFdpZHRoOiAnMTAwJScKICAgICAgICAgICAgCiAgICAgICAgICAgIH0pOwoKICAgICAgICAgICAgCiAgICAgICAgICAgICAgICB2YXIgaHRtbF8wYWYyNDQ0YzZhMGU0MjEzYWNjNzI1Njk3ZTUzMTIyNyA9ICQoYDxkaXYgaWQ9Imh0bWxfMGFmMjQ0NGM2YTBlNDIxM2FjYzcyNTY5N2U1MzEyMjciIHN0eWxlPSJ3aWR0aDogMTAwLjAlOyBoZWlnaHQ6IDEwMC4wJTsiPlNlYWZvb2QgUmVzdGF1cmFudDwvZGl2PmApWzBdOwogICAgICAgICAgICAgICAgcG9wdXBfNjYzNzE3ZDE4NTE3NDMxOWFlYjU0ODRlZmMzZWU2NjIuc2V0Q29udGVudChodG1sXzBhZjI0NDRjNmEwZTQyMTNhY2M3MjU2OTdlNTMxMjI3KTsKICAgICAgICAgICAgCgogICAgICAgICAgICBjaXJjbGVfbWFya2VyX2E2ZjE2MzU2ODA3MjQ0YTU4NjQ3OWIwYjg4ZGNjYTE3LmJpbmRQb3B1cChwb3B1cF82NjM3MTdkMTg1MTc0MzE5YWViNTQ4NGVmYzNlZTY2MikKICAgICAgICAgICAgOwoKICAgICAgICAgICAgCiAgICAgICAgCiAgICAKICAgICAgICAgICAgdmFyIGNpcmNsZV9tYXJrZXJfMzdiMWViYzRlMTMxNDE3OGExNTQ0N2JjYzczZDA5NjggPSBMLmNpcmNsZU1hcmtlcigKICAgICAgICAgICAgICAgIFs0NS43NjE5ODQ2OTQ5OTIxMSwgNC44MzMwODM4MDQ0MDYyMDhdLAogICAgICAgICAgICAgICAgewogICJidWJibGluZ01vdXNlRXZlbnRzIjogdHJ1ZSwKICAiY29sb3IiOiAiYmx1ZSIsCiAgImRhc2hBcnJheSI6IG51bGwsCiAgImRhc2hPZmZzZXQiOiBudWxsLAogICJmaWxsIjogdHJ1ZSwKICAiZmlsbENvbG9yIjogImJsdWUiLAogICJmaWxsT3BhY2l0eSI6IDAuNiwKICAiZmlsbFJ1bGUiOiAiZXZlbm9kZCIsCiAgImxpbmVDYXAiOiAicm91bmQiLAogICJsaW5lSm9pbiI6ICJyb3VuZCIsCiAgIm9wYWNpdHkiOiAxLjAsCiAgInJhZGl1cyI6IDUsCiAgInN0cm9rZSI6IHRydWUsCiAgIndlaWdodCI6IDMKfQogICAgICAgICAgICAgICAgKQogICAgICAgICAgICAgICAgLmFkZFRvKG1hcF81ZGE5ZTczODMxYTE0MTJlYjI5YjgyNDZmMjA2MzEyZik7CiAgICAgICAgICAgIAogICAgCiAgICAgICAgICAgIHZhciBwb3B1cF84ODQzNWQ4YWI0YmU0MGI3YjNmMWQxNzM5MjA5ODBhOCA9IEwucG9wdXAoe21heFdpZHRoOiAnMTAwJScKICAgICAgICAgICAgCiAgICAgICAgICAgIH0pOwoKICAgICAgICAgICAgCiAgICAgICAgICAgICAgICB2YXIgaHRtbF8wODlmN2EyNWM1MzY0ZGVkYTRhY2I1ZmNlZGQ4NTYzOCA9ICQoYDxkaXYgaWQ9Imh0bWxfMDg5ZjdhMjVjNTM2NGRlZGE0YWNiNWZjZWRkODU2MzgiIHN0eWxlPSJ3aWR0aDogMTAwLjAlOyBoZWlnaHQ6IDEwMC4wJTsiPkZyZW5jaCBSZXN0YXVyYW50PC9kaXY+YClbMF07CiAgICAgICAgICAgICAgICBwb3B1cF84ODQzNWQ4YWI0YmU0MGI3YjNmMWQxNzM5MjA5ODBhOC5zZXRDb250ZW50KGh0bWxfMDg5ZjdhMjVjNTM2NGRlZGE0YWNiNWZjZWRkODU2MzgpOwogICAgICAgICAgICAKCiAgICAgICAgICAgIGNpcmNsZV9tYXJrZXJfMzdiMWViYzRlMTMxNDE3OGExNTQ0N2JjYzczZDA5NjguYmluZFBvcHVwKHBvcHVwXzg4NDM1ZDhhYjRiZTQwYjdiM2YxZDE3MzkyMDk4MGE4KQogICAgICAgICAgICA7CgogICAgICAgICAgICAKICAgICAgICAKICAgIAogICAgICAgICAgICB2YXIgY2lyY2xlX21hcmtlcl9lYTRjNjM4NzlkZTc0NDI1OTU4NGU5ODBmMjc3ZmI3MyA9IEwuY2lyY2xlTWFya2VyKAogICAgICAgICAgICAgICAgWzQ1Ljc2MDA5MDE3NzcyNDQ3LCA0LjgzNjIyNDIxMjcwMzYxMzVdLAogICAgICAgICAgICAgICAgewogICJidWJibGluZ01vdXNlRXZlbnRzIjogdHJ1ZSwKICAiY29sb3IiOiAiYmx1ZSIsCiAgImRhc2hBcnJheSI6IG51bGwsCiAgImRhc2hPZmZzZXQiOiBudWxsLAogICJmaWxsIjogdHJ1ZSwKICAiZmlsbENvbG9yIjogImJsdWUiLAogICJmaWxsT3BhY2l0eSI6IDAuNiwKICAiZmlsbFJ1bGUiOiAiZXZlbm9kZCIsCiAgImxpbmVDYXAiOiAicm91bmQiLAogICJsaW5lSm9pbiI6ICJyb3VuZCIsCiAgIm9wYWNpdHkiOiAxLjAsCiAgInJhZGl1cyI6IDUsCiAgInN0cm9rZSI6IHRydWUsCiAgIndlaWdodCI6IDMKfQogICAgICAgICAgICAgICAgKQogICAgICAgICAgICAgICAgLmFkZFRvKG1hcF81ZGE5ZTczODMxYTE0MTJlYjI5YjgyNDZmMjA2MzEyZik7CiAgICAgICAgICAgIAogICAgCiAgICAgICAgICAgIHZhciBwb3B1cF80ZWJkODBlNWJlODU0MDBkOGNjOGIyNjk3NWM2MmI3MiA9IEwucG9wdXAoe21heFdpZHRoOiAnMTAwJScKICAgICAgICAgICAgCiAgICAgICAgICAgIH0pOwoKICAgICAgICAgICAgCiAgICAgICAgICAgICAgICB2YXIgaHRtbF85YmEzOGZhYTA0ODk0MTBiYjkwNzk2N2E3MjU0YjhjNSA9ICQoYDxkaXYgaWQ9Imh0bWxfOWJhMzhmYWEwNDg5NDEwYmI5MDc5NjdhNzI1NGI4YzUiIHN0eWxlPSJ3aWR0aDogMTAwLjAlOyBoZWlnaHQ6IDEwMC4wJTsiPkRvbnV0IFNob3A8L2Rpdj5gKVswXTsKICAgICAgICAgICAgICAgIHBvcHVwXzRlYmQ4MGU1YmU4NTQwMGQ4Y2M4YjI2OTc1YzYyYjcyLnNldENvbnRlbnQoaHRtbF85YmEzOGZhYTA0ODk0MTBiYjkwNzk2N2E3MjU0YjhjNSk7CiAgICAgICAgICAgIAoKICAgICAgICAgICAgY2lyY2xlX21hcmtlcl9lYTRjNjM4NzlkZTc0NDI1OTU4NGU5ODBmMjc3ZmI3My5iaW5kUG9wdXAocG9wdXBfNGViZDgwZTViZTg1NDAwZDhjYzhiMjY5NzVjNjJiNzIpCiAgICAgICAgICAgIDsKCiAgICAgICAgICAgIAogICAgICAgIAogICAgCiAgICAgICAgICAgIHZhciBjaXJjbGVfbWFya2VyXzVmZWYwNDBhMmQwZjQ1ZDViMjhlZmU0ZTk1YjkyMDVhID0gTC5jaXJjbGVNYXJrZXIoCiAgICAgICAgICAgICAgICBbNDUuNzU5MTkxMSwgNC44MzUxMTFdLAogICAgICAgICAgICAgICAgewogICJidWJibGluZ01vdXNlRXZlbnRzIjogdHJ1ZSwKICAiY29sb3IiOiAiYmx1ZSIsCiAgImRhc2hBcnJheSI6IG51bGwsCiAgImRhc2hPZmZzZXQiOiBudWxsLAogICJmaWxsIjogdHJ1ZSwKICAiZmlsbENvbG9yIjogImJsdWUiLAogICJmaWxsT3BhY2l0eSI6IDAuNiwKICAiZmlsbFJ1bGUiOiAiZXZlbm9kZCIsCiAgImxpbmVDYXAiOiAicm91bmQiLAogICJsaW5lSm9pbiI6ICJyb3VuZCIsCiAgIm9wYWNpdHkiOiAxLjAsCiAgInJhZGl1cyI6IDUsCiAgInN0cm9rZSI6IHRydWUsCiAgIndlaWdodCI6IDMKfQogICAgICAgICAgICAgICAgKQogICAgICAgICAgICAgICAgLmFkZFRvKG1hcF81ZGE5ZTczODMxYTE0MTJlYjI5YjgyNDZmMjA2MzEyZik7CiAgICAgICAgICAgIAogICAgCiAgICAgICAgICAgIHZhciBwb3B1cF8xMGQ1ODhmOGE2YjY0ZWU5OTUxOGI5OTkzZjhlMGQ1OCA9IEwucG9wdXAoe21heFdpZHRoOiAnMTAwJScKICAgICAgICAgICAgCiAgICAgICAgICAgIH0pOwoKICAgICAgICAgICAgCiAgICAgICAgICAgICAgICB2YXIgaHRtbF84ZTAyNGVlMjI5Y2I0OWE1OTFjOTkyYWEwNTFmZjRjNiA9ICQoYDxkaXYgaWQ9Imh0bWxfOGUwMjRlZTIyOWNiNDlhNTkxYzk5MmFhMDUxZmY0YzYiIHN0eWxlPSJ3aWR0aDogMTAwLjAlOyBoZWlnaHQ6IDEwMC4wJTsiPkljZSBDcmVhbSBTaG9wPC9kaXY+YClbMF07CiAgICAgICAgICAgICAgICBwb3B1cF8xMGQ1ODhmOGE2YjY0ZWU5OTUxOGI5OTkzZjhlMGQ1OC5zZXRDb250ZW50KGh0bWxfOGUwMjRlZTIyOWNiNDlhNTkxYzk5MmFhMDUxZmY0YzYpOwogICAgICAgICAgICAKCiAgICAgICAgICAgIGNpcmNsZV9tYXJrZXJfNWZlZjA0MGEyZDBmNDVkNWIyOGVmZTRlOTViOTIwNWEuYmluZFBvcHVwKHBvcHVwXzEwZDU4OGY4YTZiNjRlZTk5NTE4Yjk5OTNmOGUwZDU4KQogICAgICAgICAgICA7CgogICAgICAgICAgICAKICAgICAgICAKICAgIAogICAgICAgICAgICB2YXIgY2lyY2xlX21hcmtlcl9lYzExNTM0NGZhMzU0NWNlODZiNTlhYzUyZTMyYThmYSA9IEwuY2lyY2xlTWFya2VyKAogICAgICAgICAgICAgICAgWzQ1Ljc1OTEyMjQ0MDQ4MDU3NCwgNC44MzU5NjMwMjc2NTA2NzZdLAogICAgICAgICAgICAgICAgewogICJidWJibGluZ01vdXNlRXZlbnRzIjogdHJ1ZSwKICAiY29sb3IiOiAiYmx1ZSIsCiAgImRhc2hBcnJheSI6IG51bGwsCiAgImRhc2hPZmZzZXQiOiBudWxsLAogICJmaWxsIjogdHJ1ZSwKICAiZmlsbENvbG9yIjogImJsdWUiLAogICJmaWxsT3BhY2l0eSI6IDAuNiwKICAiZmlsbFJ1bGUiOiAiZXZlbm9kZCIsCiAgImxpbmVDYXAiOiAicm91bmQiLAogICJsaW5lSm9pbiI6ICJyb3VuZCIsCiAgIm9wYWNpdHkiOiAxLjAsCiAgInJhZGl1cyI6IDUsCiAgInN0cm9rZSI6IHRydWUsCiAgIndlaWdodCI6IDMKfQogICAgICAgICAgICAgICAgKQogICAgICAgICAgICAgICAgLmFkZFRvKG1hcF81ZGE5ZTczODMxYTE0MTJlYjI5YjgyNDZmMjA2MzEyZik7CiAgICAgICAgICAgIAogICAgCiAgICAgICAgICAgIHZhciBwb3B1cF9iMzJkZjhhMTk0ZjU0NTc5OWE2NWRmOTUyMzJlYzM0MCA9IEwucG9wdXAoe21heFdpZHRoOiAnMTAwJScKICAgICAgICAgICAgCiAgICAgICAgICAgIH0pOwoKICAgICAgICAgICAgCiAgICAgICAgICAgICAgICB2YXIgaHRtbF8wNGQ3MjU4MTg4ZTk0ZDA2YTgxNTM2OWE3NWNlOTk1YyA9ICQoYDxkaXYgaWQ9Imh0bWxfMDRkNzI1ODE4OGU5NGQwNmE4MTUzNjlhNzVjZTk5NWMiIHN0eWxlPSJ3aWR0aDogMTAwLjAlOyBoZWlnaHQ6IDEwMC4wJTsiPkl0YWxpYW4gUmVzdGF1cmFudDwvZGl2PmApWzBdOwogICAgICAgICAgICAgICAgcG9wdXBfYjMyZGY4YTE5NGY1NDU3OTlhNjVkZjk1MjMyZWMzNDAuc2V0Q29udGVudChodG1sXzA0ZDcyNTgxODhlOTRkMDZhODE1MzY5YTc1Y2U5OTVjKTsKICAgICAgICAgICAgCgogICAgICAgICAgICBjaXJjbGVfbWFya2VyX2VjMTE1MzQ0ZmEzNTQ1Y2U4NmI1OWFjNTJlMzJhOGZhLmJpbmRQb3B1cChwb3B1cF9iMzJkZjhhMTk0ZjU0NTc5OWE2NWRmOTUyMzJlYzM0MCkKICAgICAgICAgICAgOwoKICAgICAgICAgICAgCiAgICAgICAgCiAgICAKICAgICAgICAgICAgdmFyIGNpcmNsZV9tYXJrZXJfYjNjODlkYzFmYmE2NDk3ZmJiNTUwYWE4Yzk3NzQ0OGQgPSBMLmNpcmNsZU1hcmtlcigKICAgICAgICAgICAgICAgIFs0NS43NjI4MzkyODIwNzY0OCwgNC44MzMyODIyNDY1ODI3MDJdLAogICAgICAgICAgICAgICAgewogICJidWJibGluZ01vdXNlRXZlbnRzIjogdHJ1ZSwKICAiY29sb3IiOiAiYmx1ZSIsCiAgImRhc2hBcnJheSI6IG51bGwsCiAgImRhc2hPZmZzZXQiOiBudWxsLAogICJmaWxsIjogdHJ1ZSwKICAiZmlsbENvbG9yIjogImJsdWUiLAogICJmaWxsT3BhY2l0eSI6IDAuNiwKICAiZmlsbFJ1bGUiOiAiZXZlbm9kZCIsCiAgImxpbmVDYXAiOiAicm91bmQiLAogICJsaW5lSm9pbiI6ICJyb3VuZCIsCiAgIm9wYWNpdHkiOiAxLjAsCiAgInJhZGl1cyI6IDUsCiAgInN0cm9rZSI6IHRydWUsCiAgIndlaWdodCI6IDMKfQogICAgICAgICAgICAgICAgKQogICAgICAgICAgICAgICAgLmFkZFRvKG1hcF81ZGE5ZTczODMxYTE0MTJlYjI5YjgyNDZmMjA2MzEyZik7CiAgICAgICAgICAgIAogICAgCiAgICAgICAgICAgIHZhciBwb3B1cF9mOWM0OThhMmYzYzM0N2IxODA3YjBiNzJlNTZmZDk3NCA9IEwucG9wdXAoe21heFdpZHRoOiAnMTAwJScKICAgICAgICAgICAgCiAgICAgICAgICAgIH0pOwoKICAgICAgICAgICAgCiAgICAgICAgICAgICAgICB2YXIgaHRtbF9kNzFhNWQ1NGY5ODc0NmY3OGE3MGNlM2NhNjg1MDBhYyA9ICQoYDxkaXYgaWQ9Imh0bWxfZDcxYTVkNTRmOTg3NDZmNzhhNzBjZTNjYTY4NTAwYWMiIHN0eWxlPSJ3aWR0aDogMTAwLjAlOyBoZWlnaHQ6IDEwMC4wJTsiPkRlc3NlcnQgU2hvcDwvZGl2PmApWzBdOwogICAgICAgICAgICAgICAgcG9wdXBfZjljNDk4YTJmM2MzNDdiMTgwN2IwYjcyZTU2ZmQ5NzQuc2V0Q29udGVudChodG1sX2Q3MWE1ZDU0Zjk4NzQ2Zjc4YTcwY2UzY2E2ODUwMGFjKTsKICAgICAgICAgICAgCgogICAgICAgICAgICBjaXJjbGVfbWFya2VyX2IzYzg5ZGMxZmJhNjQ5N2ZiYjU1MGFhOGM5Nzc0NDhkLmJpbmRQb3B1cChwb3B1cF9mOWM0OThhMmYzYzM0N2IxODA3YjBiNzJlNTZmZDk3NCkKICAgICAgICAgICAgOwoKICAgICAgICAgICAgCiAgICAgICAgCiAgICAKICAgICAgICAgICAgdmFyIGNpcmNsZV9tYXJrZXJfMjhiNTBkODBjNGVjNDgzZjgwM2ZjN2U5MjZiOGQ1YTkgPSBMLmNpcmNsZU1hcmtlcigKICAgICAgICAgICAgICAgIFs0NS43NjI5MjAwNDYwNzI4ODUsIDQuODMzODAzMzY1NzY0Nl0sCiAgICAgICAgICAgICAgICB7CiAgImJ1YmJsaW5nTW91c2VFdmVudHMiOiB0cnVlLAogICJjb2xvciI6ICJibHVlIiwKICAiZGFzaEFycmF5IjogbnVsbCwKICAiZGFzaE9mZnNldCI6IG51bGwsCiAgImZpbGwiOiB0cnVlLAogICJmaWxsQ29sb3IiOiAiYmx1ZSIsCiAgImZpbGxPcGFjaXR5IjogMC42LAogICJmaWxsUnVsZSI6ICJldmVub2RkIiwKICAibGluZUNhcCI6ICJyb3VuZCIsCiAgImxpbmVKb2luIjogInJvdW5kIiwKICAib3BhY2l0eSI6IDEuMCwKICAicmFkaXVzIjogNSwKICAic3Ryb2tlIjogdHJ1ZSwKICAid2VpZ2h0IjogMwp9CiAgICAgICAgICAgICAgICApCiAgICAgICAgICAgICAgICAuYWRkVG8obWFwXzVkYTllNzM4MzFhMTQxMmViMjliODI0NmYyMDYzMTJmKTsKICAgICAgICAgICAgCiAgICAKICAgICAgICAgICAgdmFyIHBvcHVwXzY0MTI5NjI4Zjc0MDQ3ZmY4MGIwYWM2NGJlMjMzMjFmID0gTC5wb3B1cCh7bWF4V2lkdGg6ICcxMDAlJwogICAgICAgICAgICAKICAgICAgICAgICAgfSk7CgogICAgICAgICAgICAKICAgICAgICAgICAgICAgIHZhciBodG1sXzhiMTQ5NzQwOWMxMzQ5Mzc4ZjgwZjVlNDBiMmZmZjRmID0gJChgPGRpdiBpZD0iaHRtbF84YjE0OTc0MDljMTM0OTM3OGY4MGY1ZTQwYjJmZmY0ZiIgc3R5bGU9IndpZHRoOiAxMDAuMCU7IGhlaWdodDogMTAwLjAlOyI+QnVyZ2VyIEpvaW50PC9kaXY+YClbMF07CiAgICAgICAgICAgICAgICBwb3B1cF82NDEyOTYyOGY3NDA0N2ZmODBiMGFjNjRiZTIzMzIxZi5zZXRDb250ZW50KGh0bWxfOGIxNDk3NDA5YzEzNDkzNzhmODBmNWU0MGIyZmZmNGYpOwogICAgICAgICAgICAKCiAgICAgICAgICAgIGNpcmNsZV9tYXJrZXJfMjhiNTBkODBjNGVjNDgzZjgwM2ZjN2U5MjZiOGQ1YTkuYmluZFBvcHVwKHBvcHVwXzY0MTI5NjI4Zjc0MDQ3ZmY4MGIwYWM2NGJlMjMzMjFmKQogICAgICAgICAgICA7CgogICAgICAgICAgICAKICAgICAgICAKICAgIAogICAgICAgICAgICB2YXIgY2lyY2xlX21hcmtlcl8wNjhhMjU3ODcxNDA0Y2ZkOTRhMTNmODViMWQ2YzQwOSA9IEwuY2lyY2xlTWFya2VyKAogICAgICAgICAgICAgICAgWzQ1Ljc2MDY1MjE3MzMxNTAxNiwgNC44MzM1NjExMjUwMTUzOV0sCiAgICAgICAgICAgICAgICB7CiAgImJ1YmJsaW5nTW91c2VFdmVudHMiOiB0cnVlLAogICJjb2xvciI6ICJibHVlIiwKICAiZGFzaEFycmF5IjogbnVsbCwKICAiZGFzaE9mZnNldCI6IG51bGwsCiAgImZpbGwiOiB0cnVlLAogICJmaWxsQ29sb3IiOiAiYmx1ZSIsCiAgImZpbGxPcGFjaXR5IjogMC42LAogICJmaWxsUnVsZSI6ICJldmVub2RkIiwKICAibGluZUNhcCI6ICJyb3VuZCIsCiAgImxpbmVKb2luIjogInJvdW5kIiwKICAib3BhY2l0eSI6IDEuMCwKICAicmFkaXVzIjogNSwKICAic3Ryb2tlIjogdHJ1ZSwKICAid2VpZ2h0IjogMwp9CiAgICAgICAgICAgICAgICApCiAgICAgICAgICAgICAgICAuYWRkVG8obWFwXzVkYTllNzM4MzFhMTQxMmViMjliODI0NmYyMDYzMTJmKTsKICAgICAgICAgICAgCiAgICAKICAgICAgICAgICAgdmFyIHBvcHVwX2YxNTAyNmJkYTFlMjQyMTdhZDgwZTkxZmI0M2Q4ODNiID0gTC5wb3B1cCh7bWF4V2lkdGg6ICcxMDAlJwogICAgICAgICAgICAKICAgICAgICAgICAgfSk7CgogICAgICAgICAgICAKICAgICAgICAgICAgICAgIHZhciBodG1sX2UzZjI1MmYxMWI5YjQ3YThhMmU0OTBlOTg1OGFkMmQ3ID0gJChgPGRpdiBpZD0iaHRtbF9lM2YyNTJmMTFiOWI0N2E4YTJlNDkwZTk4NThhZDJkNyIgc3R5bGU9IndpZHRoOiAxMDAuMCU7IGhlaWdodDogMTAwLjAlOyI+Q2Fmw6k8L2Rpdj5gKVswXTsKICAgICAgICAgICAgICAgIHBvcHVwX2YxNTAyNmJkYTFlMjQyMTdhZDgwZTkxZmI0M2Q4ODNiLnNldENvbnRlbnQoaHRtbF9lM2YyNTJmMTFiOWI0N2E4YTJlNDkwZTk4NThhZDJkNyk7CiAgICAgICAgICAgIAoKICAgICAgICAgICAgY2lyY2xlX21hcmtlcl8wNjhhMjU3ODcxNDA0Y2ZkOTRhMTNmODViMWQ2YzQwOS5iaW5kUG9wdXAocG9wdXBfZjE1MDI2YmRhMWUyNDIxN2FkODBlOTFmYjQzZDg4M2IpCiAgICAgICAgICAgIDsKCiAgICAgICAgICAgIAogICAgICAgIAogICAgCiAgICAgICAgICAgIHZhciBjaXJjbGVfbWFya2VyX2NhYzVlY2E1N2I4MjRlODQ5MGU2Y2FmYTMxZThiYTY4ID0gTC5jaXJjbGVNYXJrZXIoCiAgICAgICAgICAgICAgICBbNDUuNzU5MjQyNjM4NzY2MzYsIDQuODMzOTczODU4ODA2MzkxXSwKICAgICAgICAgICAgICAgIHsKICAiYnViYmxpbmdNb3VzZUV2ZW50cyI6IHRydWUsCiAgImNvbG9yIjogImJsdWUiLAogICJkYXNoQXJyYXkiOiBudWxsLAogICJkYXNoT2Zmc2V0IjogbnVsbCwKICAiZmlsbCI6IHRydWUsCiAgImZpbGxDb2xvciI6ICJibHVlIiwKICAiZmlsbE9wYWNpdHkiOiAwLjYsCiAgImZpbGxSdWxlIjogImV2ZW5vZGQiLAogICJsaW5lQ2FwIjogInJvdW5kIiwKICAibGluZUpvaW4iOiAicm91bmQiLAogICJvcGFjaXR5IjogMS4wLAogICJyYWRpdXMiOiA1LAogICJzdHJva2UiOiB0cnVlLAogICJ3ZWlnaHQiOiAzCn0KICAgICAgICAgICAgICAgICkKICAgICAgICAgICAgICAgIC5hZGRUbyhtYXBfNWRhOWU3MzgzMWExNDEyZWIyOWI4MjQ2ZjIwNjMxMmYpOwogICAgICAgICAgICAKICAgIAogICAgICAgICAgICB2YXIgcG9wdXBfNjRhYWVjZGQ2MzUwNDNjYjg3NzZhMGI3MDI0ODg4NGQgPSBMLnBvcHVwKHttYXhXaWR0aDogJzEwMCUnCiAgICAgICAgICAgIAogICAgICAgICAgICB9KTsKCiAgICAgICAgICAgIAogICAgICAgICAgICAgICAgdmFyIGh0bWxfNjIxNjYwZWMzNWYwNGEyZjhmZjg0ODA5ZTIyOGM2ZDcgPSAkKGA8ZGl2IGlkPSJodG1sXzYyMTY2MGVjMzVmMDRhMmY4ZmY4NDgwOWUyMjhjNmQ3IiBzdHlsZT0id2lkdGg6IDEwMC4wJTsgaGVpZ2h0OiAxMDAuMCU7Ij5DbG90aGluZyBTdG9yZTwvZGl2PmApWzBdOwogICAgICAgICAgICAgICAgcG9wdXBfNjRhYWVjZGQ2MzUwNDNjYjg3NzZhMGI3MDI0ODg4NGQuc2V0Q29udGVudChodG1sXzYyMTY2MGVjMzVmMDRhMmY4ZmY4NDgwOWUyMjhjNmQ3KTsKICAgICAgICAgICAgCgogICAgICAgICAgICBjaXJjbGVfbWFya2VyX2NhYzVlY2E1N2I4MjRlODQ5MGU2Y2FmYTMxZThiYTY4LmJpbmRQb3B1cChwb3B1cF82NGFhZWNkZDYzNTA0M2NiODc3NmEwYjcwMjQ4ODg0ZCkKICAgICAgICAgICAgOwoKICAgICAgICAgICAgCiAgICAgICAgCiAgICAKICAgICAgICAgICAgdmFyIGNpcmNsZV9tYXJrZXJfZDkyOTliYWVkY2YzNDRjNTlmMWI3YTY5YjVhYWI3NjUgPSBMLmNpcmNsZU1hcmtlcigKICAgICAgICAgICAgICAgIFs0NS43NTgwNDc5MDA4MDU4OCwgNC44MjkwNzc5Mzg2MjM5ODldLAogICAgICAgICAgICAgICAgewogICJidWJibGluZ01vdXNlRXZlbnRzIjogdHJ1ZSwKICAiY29sb3IiOiAiYmx1ZSIsCiAgImRhc2hBcnJheSI6IG51bGwsCiAgImRhc2hPZmZzZXQiOiBudWxsLAogICJmaWxsIjogdHJ1ZSwKICAiZmlsbENvbG9yIjogImJsdWUiLAogICJmaWxsT3BhY2l0eSI6IDAuNiwKICAiZmlsbFJ1bGUiOiAiZXZlbm9kZCIsCiAgImxpbmVDYXAiOiAicm91bmQiLAogICJsaW5lSm9pbiI6ICJyb3VuZCIsCiAgIm9wYWNpdHkiOiAxLjAsCiAgInJhZGl1cyI6IDUsCiAgInN0cm9rZSI6IHRydWUsCiAgIndlaWdodCI6IDMKfQogICAgICAgICAgICAgICAgKQogICAgICAgICAgICAgICAgLmFkZFRvKG1hcF81ZGE5ZTczODMxYTE0MTJlYjI5YjgyNDZmMjA2MzEyZik7CiAgICAgICAgICAgIAogICAgCiAgICAgICAgICAgIHZhciBwb3B1cF9hODJiODgxMzMzYjA0YzFlYjgwNzU3MjYzMDg2NjExMCA9IEwucG9wdXAoe21heFdpZHRoOiAnMTAwJScKICAgICAgICAgICAgCiAgICAgICAgICAgIH0pOwoKICAgICAgICAgICAgCiAgICAgICAgICAgICAgICB2YXIgaHRtbF85NjlkZTA1ZTQzYTM0NTFmYTJkM2U0MDBhZTUzNTllOSA9ICQoYDxkaXYgaWQ9Imh0bWxfOTY5ZGUwNWU0M2EzNDUxZmEyZDNlNDAwYWU1MzU5ZTkiIHN0eWxlPSJ3aWR0aDogMTAwLjAlOyBoZWlnaHQ6IDEwMC4wJTsiPkNhZsOpPC9kaXY+YClbMF07CiAgICAgICAgICAgICAgICBwb3B1cF9hODJiODgxMzMzYjA0YzFlYjgwNzU3MjYzMDg2NjExMC5zZXRDb250ZW50KGh0bWxfOTY5ZGUwNWU0M2EzNDUxZmEyZDNlNDAwYWU1MzU5ZTkpOwogICAgICAgICAgICAKCiAgICAgICAgICAgIGNpcmNsZV9tYXJrZXJfZDkyOTliYWVkY2YzNDRjNTlmMWI3YTY5YjVhYWI3NjUuYmluZFBvcHVwKHBvcHVwX2E4MmI4ODEzMzNiMDRjMWViODA3NTcyNjMwODY2MTEwKQogICAgICAgICAgICA7CgogICAgICAgICAgICAKICAgICAgICAKICAgIAogICAgICAgICAgICB2YXIgY2lyY2xlX21hcmtlcl9jNTFhMzVkNTNhYWM0NWZmYmE4NGIyMDg2YWM1ZDk4NiA9IEwuY2lyY2xlTWFya2VyKAogICAgICAgICAgICAgICAgWzQ1Ljc2MTYxNDA4MTEzMDE1LCA0LjgzMjQzMDQ1Mzg1NzA3M10sCiAgICAgICAgICAgICAgICB7CiAgImJ1YmJsaW5nTW91c2VFdmVudHMiOiB0cnVlLAogICJjb2xvciI6ICJibHVlIiwKICAiZGFzaEFycmF5IjogbnVsbCwKICAiZGFzaE9mZnNldCI6IG51bGwsCiAgImZpbGwiOiB0cnVlLAogICJmaWxsQ29sb3IiOiAiYmx1ZSIsCiAgImZpbGxPcGFjaXR5IjogMC42LAogICJmaWxsUnVsZSI6ICJldmVub2RkIiwKICAibGluZUNhcCI6ICJyb3VuZCIsCiAgImxpbmVKb2luIjogInJvdW5kIiwKICAib3BhY2l0eSI6IDEuMCwKICAicmFkaXVzIjogNSwKICAic3Ryb2tlIjogdHJ1ZSwKICAid2VpZ2h0IjogMwp9CiAgICAgICAgICAgICAgICApCiAgICAgICAgICAgICAgICAuYWRkVG8obWFwXzVkYTllNzM4MzFhMTQxMmViMjliODI0NmYyMDYzMTJmKTsKICAgICAgICAgICAgCiAgICAKICAgICAgICAgICAgdmFyIHBvcHVwXzFmY2UzYzc4YjM5ODRhMGU4ZmZiMDA1ZmJjZDIwNjI4ID0gTC5wb3B1cCh7bWF4V2lkdGg6ICcxMDAlJwogICAgICAgICAgICAKICAgICAgICAgICAgfSk7CgogICAgICAgICAgICAKICAgICAgICAgICAgICAgIHZhciBodG1sXzczNTkyZTgxYjI1ZDQ1YTA5OWY2Y2NiZDljYmM3MjYwID0gJChgPGRpdiBpZD0iaHRtbF83MzU5MmU4MWIyNWQ0NWEwOTlmNmNjYmQ5Y2JjNzI2MCIgc3R5bGU9IndpZHRoOiAxMDAuMCU7IGhlaWdodDogMTAwLjAlOyI+UHViPC9kaXY+YClbMF07CiAgICAgICAgICAgICAgICBwb3B1cF8xZmNlM2M3OGIzOTg0YTBlOGZmYjAwNWZiY2QyMDYyOC5zZXRDb250ZW50KGh0bWxfNzM1OTJlODFiMjVkNDVhMDk5ZjZjY2JkOWNiYzcyNjApOwogICAgICAgICAgICAKCiAgICAgICAgICAgIGNpcmNsZV9tYXJrZXJfYzUxYTM1ZDUzYWFjNDVmZmJhODRiMjA4NmFjNWQ5ODYuYmluZFBvcHVwKHBvcHVwXzFmY2UzYzc4YjM5ODRhMGU4ZmZiMDA1ZmJjZDIwNjI4KQogICAgICAgICAgICA7CgogICAgICAgICAgICAKICAgICAgICAKICAgIAogICAgICAgICAgICB2YXIgY2lyY2xlX21hcmtlcl84YmZjYjcwMTM1MzA0M2Y1ODlhMDViODY2YzlkOThhYiA9IEwuY2lyY2xlTWFya2VyKAogICAgICAgICAgICAgICAgWzQ1Ljc2MTE0NDU3NTk2Mjc2LCA0LjgzNDgyNzA2NjUwMDA3Nl0sCiAgICAgICAgICAgICAgICB7CiAgImJ1YmJsaW5nTW91c2VFdmVudHMiOiB0cnVlLAogICJjb2xvciI6ICJibHVlIiwKICAiZGFzaEFycmF5IjogbnVsbCwKICAiZGFzaE9mZnNldCI6IG51bGwsCiAgImZpbGwiOiB0cnVlLAogICJmaWxsQ29sb3IiOiAiYmx1ZSIsCiAgImZpbGxPcGFjaXR5IjogMC42LAogICJmaWxsUnVsZSI6ICJldmVub2RkIiwKICAibGluZUNhcCI6ICJyb3VuZCIsCiAgImxpbmVKb2luIjogInJvdW5kIiwKICAib3BhY2l0eSI6IDEuMCwKICAicmFkaXVzIjogNSwKICAic3Ryb2tlIjogdHJ1ZSwKICAid2VpZ2h0IjogMwp9CiAgICAgICAgICAgICAgICApCiAgICAgICAgICAgICAgICAuYWRkVG8obWFwXzVkYTllNzM4MzFhMTQxMmViMjliODI0NmYyMDYzMTJmKTsKICAgICAgICAgICAgCiAgICAKICAgICAgICAgICAgdmFyIHBvcHVwX2RhMTM1MTBhOGVmNTQyOGQ4MjkwZGZkMWU0YTAyZTA5ID0gTC5wb3B1cCh7bWF4V2lkdGg6ICcxMDAlJwogICAgICAgICAgICAKICAgICAgICAgICAgfSk7CgogICAgICAgICAgICAKICAgICAgICAgICAgICAgIHZhciBodG1sX2QyNTM2YmM2NTQ4YzQ3NjM4MTM2Mjg0NTZmMzZhZDcwID0gJChgPGRpdiBpZD0iaHRtbF9kMjUzNmJjNjU0OGM0NzYzODEzNjI4NDU2ZjM2YWQ3MCIgc3R5bGU9IndpZHRoOiAxMDAuMCU7IGhlaWdodDogMTAwLjAlOyI+SGlzdG9yaWMgU2l0ZTwvZGl2PmApWzBdOwogICAgICAgICAgICAgICAgcG9wdXBfZGExMzUxMGE4ZWY1NDI4ZDgyOTBkZmQxZTRhMDJlMDkuc2V0Q29udGVudChodG1sX2QyNTM2YmM2NTQ4YzQ3NjM4MTM2Mjg0NTZmMzZhZDcwKTsKICAgICAgICAgICAgCgogICAgICAgICAgICBjaXJjbGVfbWFya2VyXzhiZmNiNzAxMzUzMDQzZjU4OWEwNWI4NjZjOWQ5OGFiLmJpbmRQb3B1cChwb3B1cF9kYTEzNTEwYThlZjU0MjhkODI5MGRmZDFlNGEwMmUwOSkKICAgICAgICAgICAgOwoKICAgICAgICAgICAgCiAgICAgICAgCiAgICAKICAgICAgICAgICAgdmFyIGNpcmNsZV9tYXJrZXJfYWMyZmZkYWQyNzc4NDk5OThlOGE0MDA4ZGNjODRhNDUgPSBMLmNpcmNsZU1hcmtlcigKICAgICAgICAgICAgICAgIFs0NS43NTczMzMzNTMxNTk2NiwgNC44MzQ4NzM0MDc0OTM2OTVdLAogICAgICAgICAgICAgICAgewogICJidWJibGluZ01vdXNlRXZlbnRzIjogdHJ1ZSwKICAiY29sb3IiOiAiYmx1ZSIsCiAgImRhc2hBcnJheSI6IG51bGwsCiAgImRhc2hPZmZzZXQiOiBudWxsLAogICJmaWxsIjogdHJ1ZSwKICAiZmlsbENvbG9yIjogImJsdWUiLAogICJmaWxsT3BhY2l0eSI6IDAuNiwKICAiZmlsbFJ1bGUiOiAiZXZlbm9kZCIsCiAgImxpbmVDYXAiOiAicm91bmQiLAogICJsaW5lSm9pbiI6ICJyb3VuZCIsCiAgIm9wYWNpdHkiOiAxLjAsCiAgInJhZGl1cyI6IDUsCiAgInN0cm9rZSI6IHRydWUsCiAgIndlaWdodCI6IDMKfQogICAgICAgICAgICAgICAgKQogICAgICAgICAgICAgICAgLmFkZFRvKG1hcF81ZGE5ZTczODMxYTE0MTJlYjI5YjgyNDZmMjA2MzEyZik7CiAgICAgICAgICAgIAogICAgCiAgICAgICAgICAgIHZhciBwb3B1cF82OGMzNzlkMTZlN2Y0ZjE4YjBlNTBkNGRhMzc0ZjRjMCA9IEwucG9wdXAoe21heFdpZHRoOiAnMTAwJScKICAgICAgICAgICAgCiAgICAgICAgICAgIH0pOwoKICAgICAgICAgICAgCiAgICAgICAgICAgICAgICB2YXIgaHRtbF9lMWI3MTZiZDJlMGY0NGE1OWY0ZTUxMGFhOTI3MjM4YyA9ICQoYDxkaXYgaWQ9Imh0bWxfZTFiNzE2YmQyZTBmNDRhNTlmNGU1MTBhYTkyNzIzOGMiIHN0eWxlPSJ3aWR0aDogMTAwLjAlOyBoZWlnaHQ6IDEwMC4wJTsiPkZyZW5jaCBSZXN0YXVyYW50PC9kaXY+YClbMF07CiAgICAgICAgICAgICAgICBwb3B1cF82OGMzNzlkMTZlN2Y0ZjE4YjBlNTBkNGRhMzc0ZjRjMC5zZXRDb250ZW50KGh0bWxfZTFiNzE2YmQyZTBmNDRhNTlmNGU1MTBhYTkyNzIzOGMpOwogICAgICAgICAgICAKCiAgICAgICAgICAgIGNpcmNsZV9tYXJrZXJfYWMyZmZkYWQyNzc4NDk5OThlOGE0MDA4ZGNjODRhNDUuYmluZFBvcHVwKHBvcHVwXzY4YzM3OWQxNmU3ZjRmMThiMGU1MGQ0ZGEzNzRmNGMwKQogICAgICAgICAgICA7CgogICAgICAgICAgICAKICAgICAgICAKICAgIAogICAgICAgICAgICB2YXIgY2lyY2xlX21hcmtlcl9iNzM1NjZmNGVmZGI0MGVkOTEyZjIwM2NjOGMwYTE4NSA9IEwuY2lyY2xlTWFya2VyKAogICAgICAgICAgICAgICAgWzQ1Ljc1NzM2Mjc1ODAxNjU0LCA0LjgzMzM5OTYyMzMwODYwNl0sCiAgICAgICAgICAgICAgICB7CiAgImJ1YmJsaW5nTW91c2VFdmVudHMiOiB0cnVlLAogICJjb2xvciI6ICJibHVlIiwKICAiZGFzaEFycmF5IjogbnVsbCwKICAiZGFzaE9mZnNldCI6IG51bGwsCiAgImZpbGwiOiB0cnVlLAogICJmaWxsQ29sb3IiOiAiYmx1ZSIsCiAgImZpbGxPcGFjaXR5IjogMC42LAogICJmaWxsUnVsZSI6ICJldmVub2RkIiwKICAibGluZUNhcCI6ICJyb3VuZCIsCiAgImxpbmVKb2luIjogInJvdW5kIiwKICAib3BhY2l0eSI6IDEuMCwKICAicmFkaXVzIjogNSwKICAic3Ryb2tlIjogdHJ1ZSwKICAid2VpZ2h0IjogMwp9CiAgICAgICAgICAgICAgICApCiAgICAgICAgICAgICAgICAuYWRkVG8obWFwXzVkYTllNzM4MzFhMTQxMmViMjliODI0NmYyMDYzMTJmKTsKICAgICAgICAgICAgCiAgICAKICAgICAgICAgICAgdmFyIHBvcHVwX2U3Yjc3ZWRjYTEzZDQyNWRiZDZkNGJmYzU4NzVhMGRiID0gTC5wb3B1cCh7bWF4V2lkdGg6ICcxMDAlJwogICAgICAgICAgICAKICAgICAgICAgICAgfSk7CgogICAgICAgICAgICAKICAgICAgICAgICAgICAgIHZhciBodG1sXzJlMWY4Zjk4NTZlYTQ4NmI4ZGNiYWY1NWYwZGM3MmNiID0gJChgPGRpdiBpZD0iaHRtbF8yZTFmOGY5ODU2ZWE0ODZiOGRjYmFmNTVmMGRjNzJjYiIgc3R5bGU9IndpZHRoOiAxMDAuMCU7IGhlaWdodDogMTAwLjAlOyI+VGhlbWUgUGFyazwvZGl2PmApWzBdOwogICAgICAgICAgICAgICAgcG9wdXBfZTdiNzdlZGNhMTNkNDI1ZGJkNmQ0YmZjNTg3NWEwZGIuc2V0Q29udGVudChodG1sXzJlMWY4Zjk4NTZlYTQ4NmI4ZGNiYWY1NWYwZGM3MmNiKTsKICAgICAgICAgICAgCgogICAgICAgICAgICBjaXJjbGVfbWFya2VyX2I3MzU2NmY0ZWZkYjQwZWQ5MTJmMjAzY2M4YzBhMTg1LmJpbmRQb3B1cChwb3B1cF9lN2I3N2VkY2ExM2Q0MjVkYmQ2ZDRiZmM1ODc1YTBkYikKICAgICAgICAgICAgOwoKICAgICAgICAgICAgCiAgICAgICAgCiAgICAKICAgICAgICAgICAgdmFyIGNpcmNsZV9tYXJrZXJfNWFkNWY2OTQxYmI2NDk1N2JhYTAzNDMyNDc4ODcwYzkgPSBMLmNpcmNsZU1hcmtlcigKICAgICAgICAgICAgICAgIFs0NS43NTgyMDgxODYzMjgyNiwgNC44MzUwMTQzNDMyNjE3MTldLAogICAgICAgICAgICAgICAgewogICJidWJibGluZ01vdXNlRXZlbnRzIjogdHJ1ZSwKICAiY29sb3IiOiAiYmx1ZSIsCiAgImRhc2hBcnJheSI6IG51bGwsCiAgImRhc2hPZmZzZXQiOiBudWxsLAogICJmaWxsIjogdHJ1ZSwKICAiZmlsbENvbG9yIjogImJsdWUiLAogICJmaWxsT3BhY2l0eSI6IDAuNiwKICAiZmlsbFJ1bGUiOiAiZXZlbm9kZCIsCiAgImxpbmVDYXAiOiAicm91bmQiLAogICJsaW5lSm9pbiI6ICJyb3VuZCIsCiAgIm9wYWNpdHkiOiAxLjAsCiAgInJhZGl1cyI6IDUsCiAgInN0cm9rZSI6IHRydWUsCiAgIndlaWdodCI6IDMKfQogICAgICAgICAgICAgICAgKQogICAgICAgICAgICAgICAgLmFkZFRvKG1hcF81ZGE5ZTczODMxYTE0MTJlYjI5YjgyNDZmMjA2MzEyZik7CiAgICAgICAgICAgIAogICAgCiAgICAgICAgICAgIHZhciBwb3B1cF84MGJlMWZjMjFlM2Q0YTU5OGRmOGRjMzQ0ODBjY2QxZSA9IEwucG9wdXAoe21heFdpZHRoOiAnMTAwJScKICAgICAgICAgICAgCiAgICAgICAgICAgIH0pOwoKICAgICAgICAgICAgCiAgICAgICAgICAgICAgICB2YXIgaHRtbF84NmQ1MzI0YjQwNzI0YzdkYWVjZTJiYWNmMmNjYzc0MyA9ICQoYDxkaXYgaWQ9Imh0bWxfODZkNTMyNGI0MDcyNGM3ZGFlY2UyYmFjZjJjY2M3NDMiIHN0eWxlPSJ3aWR0aDogMTAwLjAlOyBoZWlnaHQ6IDEwMC4wJTsiPkRlcGFydG1lbnQgU3RvcmU8L2Rpdj5gKVswXTsKICAgICAgICAgICAgICAgIHBvcHVwXzgwYmUxZmMyMWUzZDRhNTk4ZGY4ZGMzNDQ4MGNjZDFlLnNldENvbnRlbnQoaHRtbF84NmQ1MzI0YjQwNzI0YzdkYWVjZTJiYWNmMmNjYzc0Myk7CiAgICAgICAgICAgIAoKICAgICAgICAgICAgY2lyY2xlX21hcmtlcl81YWQ1ZjY5NDFiYjY0OTU3YmFhMDM0MzI0Nzg4NzBjOS5iaW5kUG9wdXAocG9wdXBfODBiZTFmYzIxZTNkNGE1OThkZjhkYzM0NDgwY2NkMWUpCiAgICAgICAgICAgIDsKCiAgICAgICAgICAgIAogICAgICAgIAogICAgCiAgICAgICAgICAgIHZhciBjaXJjbGVfbWFya2VyXzRmMWJkYzM2MjA2MzRiOGQ5NjcxNmE3Y2IwZGNkNjg5ID0gTC5jaXJjbGVNYXJrZXIoCiAgICAgICAgICAgICAgICBbNDUuNzYzMjcsIDQuODMzNTc3XSwKICAgICAgICAgICAgICAgIHsKICAiYnViYmxpbmdNb3VzZUV2ZW50cyI6IHRydWUsCiAgImNvbG9yIjogImJsdWUiLAogICJkYXNoQXJyYXkiOiBudWxsLAogICJkYXNoT2Zmc2V0IjogbnVsbCwKICAiZmlsbCI6IHRydWUsCiAgImZpbGxDb2xvciI6ICJibHVlIiwKICAiZmlsbE9wYWNpdHkiOiAwLjYsCiAgImZpbGxSdWxlIjogImV2ZW5vZGQiLAogICJsaW5lQ2FwIjogInJvdW5kIiwKICAibGluZUpvaW4iOiAicm91bmQiLAogICJvcGFjaXR5IjogMS4wLAogICJyYWRpdXMiOiA1LAogICJzdHJva2UiOiB0cnVlLAogICJ3ZWlnaHQiOiAzCn0KICAgICAgICAgICAgICAgICkKICAgICAgICAgICAgICAgIC5hZGRUbyhtYXBfNWRhOWU3MzgzMWExNDEyZWIyOWI4MjQ2ZjIwNjMxMmYpOwogICAgICAgICAgICAKICAgIAogICAgICAgICAgICB2YXIgcG9wdXBfNzZhZmFkNDUyYzZlNDRiYWE4OThhMWY3Y2E3OWI5ZDYgPSBMLnBvcHVwKHttYXhXaWR0aDogJzEwMCUnCiAgICAgICAgICAgIAogICAgICAgICAgICB9KTsKCiAgICAgICAgICAgIAogICAgICAgICAgICAgICAgdmFyIGh0bWxfZGNiNTA4MzE3YzU3NDhmNDlkMDUyOWVhODNmNzMxYTMgPSAkKGA8ZGl2IGlkPSJodG1sX2RjYjUwODMxN2M1NzQ4ZjQ5ZDA1MjllYTgzZjczMWEzIiBzdHlsZT0id2lkdGg6IDEwMC4wJTsgaGVpZ2h0OiAxMDAuMCU7Ij5DdXBjYWtlIFNob3A8L2Rpdj5gKVswXTsKICAgICAgICAgICAgICAgIHBvcHVwXzc2YWZhZDQ1MmM2ZTQ0YmFhODk4YTFmN2NhNzliOWQ2LnNldENvbnRlbnQoaHRtbF9kY2I1MDgzMTdjNTc0OGY0OWQwNTI5ZWE4M2Y3MzFhMyk7CiAgICAgICAgICAgIAoKICAgICAgICAgICAgY2lyY2xlX21hcmtlcl80ZjFiZGMzNjIwNjM0YjhkOTY3MTZhN2NiMGRjZDY4OS5iaW5kUG9wdXAocG9wdXBfNzZhZmFkNDUyYzZlNDRiYWE4OThhMWY3Y2E3OWI5ZDYpCiAgICAgICAgICAgIDsKCiAgICAgICAgICAgIAogICAgICAgIAogICAgCiAgICAgICAgICAgIHZhciBjaXJjbGVfbWFya2VyXzhhZjFkZmI0MjNhYzRlYTU5NjQ1NTdlNjM2OTQ1NGU1ID0gTC5jaXJjbGVNYXJrZXIoCiAgICAgICAgICAgICAgICBbNDUuNzYwOTE0MDQxNjc0NjI0LCA0LjgzNjk1NzY2NDcyMDYwMV0sCiAgICAgICAgICAgICAgICB7CiAgImJ1YmJsaW5nTW91c2VFdmVudHMiOiB0cnVlLAogICJjb2xvciI6ICJibHVlIiwKICAiZGFzaEFycmF5IjogbnVsbCwKICAiZGFzaE9mZnNldCI6IG51bGwsCiAgImZpbGwiOiB0cnVlLAogICJmaWxsQ29sb3IiOiAiYmx1ZSIsCiAgImZpbGxPcGFjaXR5IjogMC42LAogICJmaWxsUnVsZSI6ICJldmVub2RkIiwKICAibGluZUNhcCI6ICJyb3VuZCIsCiAgImxpbmVKb2luIjogInJvdW5kIiwKICAib3BhY2l0eSI6IDEuMCwKICAicmFkaXVzIjogNSwKICAic3Ryb2tlIjogdHJ1ZSwKICAid2VpZ2h0IjogMwp9CiAgICAgICAgICAgICAgICApCiAgICAgICAgICAgICAgICAuYWRkVG8obWFwXzVkYTllNzM4MzFhMTQxMmViMjliODI0NmYyMDYzMTJmKTsKICAgICAgICAgICAgCiAgICAKICAgICAgICAgICAgdmFyIHBvcHVwXzE4YjI1NjYyMDE2MzQyN2Q4YzYxMWZkN2NlY2MxODM5ID0gTC5wb3B1cCh7bWF4V2lkdGg6ICcxMDAlJwogICAgICAgICAgICAKICAgICAgICAgICAgfSk7CgogICAgICAgICAgICAKICAgICAgICAgICAgICAgIHZhciBodG1sXzRhZjY5NmJiZGNkNjRiZjRiYTI5NzVjNGY1NjNlNmNhID0gJChgPGRpdiBpZD0iaHRtbF80YWY2OTZiYmRjZDY0YmY0YmEyOTc1YzRmNTYzZTZjYSIgc3R5bGU9IndpZHRoOiAxMDAuMCU7IGhlaWdodDogMTAwLjAlOyI+RnJlbmNoIFJlc3RhdXJhbnQ8L2Rpdj5gKVswXTsKICAgICAgICAgICAgICAgIHBvcHVwXzE4YjI1NjYyMDE2MzQyN2Q4YzYxMWZkN2NlY2MxODM5LnNldENvbnRlbnQoaHRtbF80YWY2OTZiYmRjZDY0YmY0YmEyOTc1YzRmNTYzZTZjYSk7CiAgICAgICAgICAgIAoKICAgICAgICAgICAgY2lyY2xlX21hcmtlcl84YWYxZGZiNDIzYWM0ZWE1OTY0NTU3ZTYzNjk0NTRlNS5iaW5kUG9wdXAocG9wdXBfMThiMjU2NjIwMTYzNDI3ZDhjNjExZmQ3Y2VjYzE4MzkpCiAgICAgICAgICAgIDsKCiAgICAgICAgICAgIAogICAgICAgIAogICAgCiAgICAgICAgICAgIHZhciBjaXJjbGVfbWFya2VyXzZlYTFkMjc3MTg4MjQ0NWNiYmVhNGI2NWMzNmI1NmQ1ID0gTC5jaXJjbGVNYXJrZXIoCiAgICAgICAgICAgICAgICBbNDUuNzYyMzk4MDI1MDEyNTQ0LCA0LjgzMjgxNjE2MjAxODIxNl0sCiAgICAgICAgICAgICAgICB7CiAgImJ1YmJsaW5nTW91c2VFdmVudHMiOiB0cnVlLAogICJjb2xvciI6ICJibHVlIiwKICAiZGFzaEFycmF5IjogbnVsbCwKICAiZGFzaE9mZnNldCI6IG51bGwsCiAgImZpbGwiOiB0cnVlLAogICJmaWxsQ29sb3IiOiAiYmx1ZSIsCiAgImZpbGxPcGFjaXR5IjogMC42LAogICJmaWxsUnVsZSI6ICJldmVub2RkIiwKICAibGluZUNhcCI6ICJyb3VuZCIsCiAgImxpbmVKb2luIjogInJvdW5kIiwKICAib3BhY2l0eSI6IDEuMCwKICAicmFkaXVzIjogNSwKICAic3Ryb2tlIjogdHJ1ZSwKICAid2VpZ2h0IjogMwp9CiAgICAgICAgICAgICAgICApCiAgICAgICAgICAgICAgICAuYWRkVG8obWFwXzVkYTllNzM4MzFhMTQxMmViMjliODI0NmYyMDYzMTJmKTsKICAgICAgICAgICAgCiAgICAKICAgICAgICAgICAgdmFyIHBvcHVwXzUzMjRmMDUwY2UxYTRkNWU5ZDE1ZGE4ZDMyYTlhYzFjID0gTC5wb3B1cCh7bWF4V2lkdGg6ICcxMDAlJwogICAgICAgICAgICAKICAgICAgICAgICAgfSk7CgogICAgICAgICAgICAKICAgICAgICAgICAgICAgIHZhciBodG1sX2RhNjgzZTZiMjZhNTRmZmU5Y2FkNDE4NGQ2ODhlM2M1ID0gJChgPGRpdiBpZD0iaHRtbF9kYTY4M2U2YjI2YTU0ZmZlOWNhZDQxODRkNjg4ZTNjNSIgc3R5bGU9IndpZHRoOiAxMDAuMCU7IGhlaWdodDogMTAwLjAlOyI+Um9hZDwvZGl2PmApWzBdOwogICAgICAgICAgICAgICAgcG9wdXBfNTMyNGYwNTBjZTFhNGQ1ZTlkMTVkYThkMzJhOWFjMWMuc2V0Q29udGVudChodG1sX2RhNjgzZTZiMjZhNTRmZmU5Y2FkNDE4NGQ2ODhlM2M1KTsKICAgICAgICAgICAgCgogICAgICAgICAgICBjaXJjbGVfbWFya2VyXzZlYTFkMjc3MTg4MjQ0NWNiYmVhNGI2NWMzNmI1NmQ1LmJpbmRQb3B1cChwb3B1cF81MzI0ZjA1MGNlMWE0ZDVlOWQxNWRhOGQzMmE5YWMxYykKICAgICAgICAgICAgOwoKICAgICAgICAgICAgCiAgICAgICAgCiAgICAKICAgICAgICAgICAgdmFyIGNpcmNsZV9tYXJrZXJfNDU2NDAzM2EzODU2NDdkODljNTFkYjA3Mzc0NWYyNDAgPSBMLmNpcmNsZU1hcmtlcigKICAgICAgICAgICAgICAgIFs0NS43NTYxODc4NDkzMjA4MywgNC44MzMzMjE5NTEzMjkxOTldLAogICAgICAgICAgICAgICAgewogICJidWJibGluZ01vdXNlRXZlbnRzIjogdHJ1ZSwKICAiY29sb3IiOiAiYmx1ZSIsCiAgImRhc2hBcnJheSI6IG51bGwsCiAgImRhc2hPZmZzZXQiOiBudWxsLAogICJmaWxsIjogdHJ1ZSwKICAiZmlsbENvbG9yIjogImJsdWUiLAogICJmaWxsT3BhY2l0eSI6IDAuNiwKICAiZmlsbFJ1bGUiOiAiZXZlbm9kZCIsCiAgImxpbmVDYXAiOiAicm91bmQiLAogICJsaW5lSm9pbiI6ICJyb3VuZCIsCiAgIm9wYWNpdHkiOiAxLjAsCiAgInJhZGl1cyI6IDUsCiAgInN0cm9rZSI6IHRydWUsCiAgIndlaWdodCI6IDMKfQogICAgICAgICAgICAgICAgKQogICAgICAgICAgICAgICAgLmFkZFRvKG1hcF81ZGE5ZTczODMxYTE0MTJlYjI5YjgyNDZmMjA2MzEyZik7CiAgICAgICAgICAgIAogICAgCiAgICAgICAgICAgIHZhciBwb3B1cF82MTlkZTlmNzEwYzY0MmQyODU3MmY0ZmQ3MTgyMmE5YyA9IEwucG9wdXAoe21heFdpZHRoOiAnMTAwJScKICAgICAgICAgICAgCiAgICAgICAgICAgIH0pOwoKICAgICAgICAgICAgCiAgICAgICAgICAgICAgICB2YXIgaHRtbF82NzgwYmQ5MTU5YjE0MzZlOTI2MDhhZjIxMDA2MmMzOCA9ICQoYDxkaXYgaWQ9Imh0bWxfNjc4MGJkOTE1OWIxNDM2ZTkyNjA4YWYyMTAwNjJjMzgiIHN0eWxlPSJ3aWR0aDogMTAwLjAlOyBoZWlnaHQ6IDEwMC4wJTsiPkhvdGVsPC9kaXY+YClbMF07CiAgICAgICAgICAgICAgICBwb3B1cF82MTlkZTlmNzEwYzY0MmQyODU3MmY0ZmQ3MTgyMmE5Yy5zZXRDb250ZW50KGh0bWxfNjc4MGJkOTE1OWIxNDM2ZTkyNjA4YWYyMTAwNjJjMzgpOwogICAgICAgICAgICAKCiAgICAgICAgICAgIGNpcmNsZV9tYXJrZXJfNDU2NDAzM2EzODU2NDdkODljNTFkYjA3Mzc0NWYyNDAuYmluZFBvcHVwKHBvcHVwXzYxOWRlOWY3MTBjNjQyZDI4NTcyZjRmZDcxODIyYTljKQogICAgICAgICAgICA7CgogICAgICAgICAgICAKICAgICAgICAKICAgIAogICAgICAgICAgICB2YXIgY2lyY2xlX21hcmtlcl9hZmQ2MTFlMDA5MGU0NjA2YjVhMzgyZjczMjk5MjMwZSA9IEwuY2lyY2xlTWFya2VyKAogICAgICAgICAgICAgICAgWzQ1Ljc1ODg3NTU0NTQ3OTk3NCwgNC44MzMzNTA0MjMyMjU2NzldLAogICAgICAgICAgICAgICAgewogICJidWJibGluZ01vdXNlRXZlbnRzIjogdHJ1ZSwKICAiY29sb3IiOiAiYmx1ZSIsCiAgImRhc2hBcnJheSI6IG51bGwsCiAgImRhc2hPZmZzZXQiOiBudWxsLAogICJmaWxsIjogdHJ1ZSwKICAiZmlsbENvbG9yIjogImJsdWUiLAogICJmaWxsT3BhY2l0eSI6IDAuNiwKICAiZmlsbFJ1bGUiOiAiZXZlbm9kZCIsCiAgImxpbmVDYXAiOiAicm91bmQiLAogICJsaW5lSm9pbiI6ICJyb3VuZCIsCiAgIm9wYWNpdHkiOiAxLjAsCiAgInJhZGl1cyI6IDUsCiAgInN0cm9rZSI6IHRydWUsCiAgIndlaWdodCI6IDMKfQogICAgICAgICAgICAgICAgKQogICAgICAgICAgICAgICAgLmFkZFRvKG1hcF81ZGE5ZTczODMxYTE0MTJlYjI5YjgyNDZmMjA2MzEyZik7CiAgICAgICAgICAgIAogICAgCiAgICAgICAgICAgIHZhciBwb3B1cF83ODFjY2QzMzBkM2M0NjA3YjgyYThiZmQwYmU4NDdlMyA9IEwucG9wdXAoe21heFdpZHRoOiAnMTAwJScKICAgICAgICAgICAgCiAgICAgICAgICAgIH0pOwoKICAgICAgICAgICAgCiAgICAgICAgICAgICAgICB2YXIgaHRtbF9jY2ViZjI4OWQ5ZWE0NzU5OGU1NTJkMGZmOGYyNTdmZiA9ICQoYDxkaXYgaWQ9Imh0bWxfY2NlYmYyODlkOWVhNDc1OThlNTUyZDBmZjhmMjU3ZmYiIHN0eWxlPSJ3aWR0aDogMTAwLjAlOyBoZWlnaHQ6IDEwMC4wJTsiPlJlc29ydDwvZGl2PmApWzBdOwogICAgICAgICAgICAgICAgcG9wdXBfNzgxY2NkMzMwZDNjNDYwN2I4MmE4YmZkMGJlODQ3ZTMuc2V0Q29udGVudChodG1sX2NjZWJmMjg5ZDllYTQ3NTk4ZTU1MmQwZmY4ZjI1N2ZmKTsKICAgICAgICAgICAgCgogICAgICAgICAgICBjaXJjbGVfbWFya2VyX2FmZDYxMWUwMDkwZTQ2MDZiNWEzODJmNzMyOTkyMzBlLmJpbmRQb3B1cChwb3B1cF83ODFjY2QzMzBkM2M0NjA3YjgyYThiZmQwYmU4NDdlMykKICAgICAgICAgICAgOwoKICAgICAgICAgICAgCiAgICAgICAgCiAgICAKICAgICAgICAgICAgdmFyIGNpcmNsZV9tYXJrZXJfMGUxYTAxZGNmNThjNDNjMTllMmU0NzEwMzVjOTNiYjEgPSBMLmNpcmNsZU1hcmtlcigKICAgICAgICAgICAgICAgIFs0NS43NTg1MDYwNjMzNDYxOTYsIDQuODM2ODAyNTIzMjYyODA0XSwKICAgICAgICAgICAgICAgIHsKICAiYnViYmxpbmdNb3VzZUV2ZW50cyI6IHRydWUsCiAgImNvbG9yIjogImJsdWUiLAogICJkYXNoQXJyYXkiOiBudWxsLAogICJkYXNoT2Zmc2V0IjogbnVsbCwKICAiZmlsbCI6IHRydWUsCiAgImZpbGxDb2xvciI6ICJibHVlIiwKICAiZmlsbE9wYWNpdHkiOiAwLjYsCiAgImZpbGxSdWxlIjogImV2ZW5vZGQiLAogICJsaW5lQ2FwIjogInJvdW5kIiwKICAibGluZUpvaW4iOiAicm91bmQiLAogICJvcGFjaXR5IjogMS4wLAogICJyYWRpdXMiOiA1LAogICJzdHJva2UiOiB0cnVlLAogICJ3ZWlnaHQiOiAzCn0KICAgICAgICAgICAgICAgICkKICAgICAgICAgICAgICAgIC5hZGRUbyhtYXBfNWRhOWU3MzgzMWExNDEyZWIyOWI4MjQ2ZjIwNjMxMmYpOwogICAgICAgICAgICAKICAgIAogICAgICAgICAgICB2YXIgcG9wdXBfMjU4NzQ1ODk0NDFkNDI0NDhiYjNmNzIzNTBlNjQ1NWYgPSBMLnBvcHVwKHttYXhXaWR0aDogJzEwMCUnCiAgICAgICAgICAgIAogICAgICAgICAgICB9KTsKCiAgICAgICAgICAgIAogICAgICAgICAgICAgICAgdmFyIGh0bWxfMWJmYzYyOGU3N2E1NDgxM2JmZjYwZWIyZGY5ZmZiYjAgPSAkKGA8ZGl2IGlkPSJodG1sXzFiZmM2MjhlNzdhNTQ4MTNiZmY2MGViMmRmOWZmYmIwIiBzdHlsZT0id2lkdGg6IDEwMC4wJTsgaGVpZ2h0OiAxMDAuMCU7Ij5Ib3RlbDwvZGl2PmApWzBdOwogICAgICAgICAgICAgICAgcG9wdXBfMjU4NzQ1ODk0NDFkNDI0NDhiYjNmNzIzNTBlNjQ1NWYuc2V0Q29udGVudChodG1sXzFiZmM2MjhlNzdhNTQ4MTNiZmY2MGViMmRmOWZmYmIwKTsKICAgICAgICAgICAgCgogICAgICAgICAgICBjaXJjbGVfbWFya2VyXzBlMWEwMWRjZjU4YzQzYzE5ZTJlNDcxMDM1YzkzYmIxLmJpbmRQb3B1cChwb3B1cF8yNTg3NDU4OTQ0MWQ0MjQ0OGJiM2Y3MjM1MGU2NDU1ZikKICAgICAgICAgICAgOwoKICAgICAgICAgICAgCiAgICAgICAgCiAgICAKICAgICAgICAgICAgdmFyIGNpcmNsZV9tYXJrZXJfNGFkYjlmMzgzZGFhNGE1Nzk2OTE2OThjOWNiOTQ0MjQgPSBMLmNpcmNsZU1hcmtlcigKICAgICAgICAgICAgICAgIFs0NS43NTg3MDksIDQuODM1OTk0XSwKICAgICAgICAgICAgICAgIHsKICAiYnViYmxpbmdNb3VzZUV2ZW50cyI6IHRydWUsCiAgImNvbG9yIjogImJsdWUiLAogICJkYXNoQXJyYXkiOiBudWxsLAogICJkYXNoT2Zmc2V0IjogbnVsbCwKICAiZmlsbCI6IHRydWUsCiAgImZpbGxDb2xvciI6ICJibHVlIiwKICAiZmlsbE9wYWNpdHkiOiAwLjYsCiAgImZpbGxSdWxlIjogImV2ZW5vZGQiLAogICJsaW5lQ2FwIjogInJvdW5kIiwKICAibGluZUpvaW4iOiAicm91bmQiLAogICJvcGFjaXR5IjogMS4wLAogICJyYWRpdXMiOiA1LAogICJzdHJva2UiOiB0cnVlLAogICJ3ZWlnaHQiOiAzCn0KICAgICAgICAgICAgICAgICkKICAgICAgICAgICAgICAgIC5hZGRUbyhtYXBfNWRhOWU3MzgzMWExNDEyZWIyOWI4MjQ2ZjIwNjMxMmYpOwogICAgICAgICAgICAKICAgIAogICAgICAgICAgICB2YXIgcG9wdXBfZmM1Y2M3OWE2MzU1NDFhOGE0MmY5NmMxN2E1MTUyYjYgPSBMLnBvcHVwKHttYXhXaWR0aDogJzEwMCUnCiAgICAgICAgICAgIAogICAgICAgICAgICB9KTsKCiAgICAgICAgICAgIAogICAgICAgICAgICAgICAgdmFyIGh0bWxfMDM1YmEzMzc5MzEzNDc0ZTk4MjgxYjIzNzUyZWYzNmEgPSAkKGA8ZGl2IGlkPSJodG1sXzAzNWJhMzM3OTMxMzQ3NGU5ODI4MWIyMzc1MmVmMzZhIiBzdHlsZT0id2lkdGg6IDEwMC4wJTsgaGVpZ2h0OiAxMDAuMCU7Ij5Db2ZmZWUgU2hvcDwvZGl2PmApWzBdOwogICAgICAgICAgICAgICAgcG9wdXBfZmM1Y2M3OWE2MzU1NDFhOGE0MmY5NmMxN2E1MTUyYjYuc2V0Q29udGVudChodG1sXzAzNWJhMzM3OTMxMzQ3NGU5ODI4MWIyMzc1MmVmMzZhKTsKICAgICAgICAgICAgCgogICAgICAgICAgICBjaXJjbGVfbWFya2VyXzRhZGI5ZjM4M2RhYTRhNTc5NjkxNjk4YzljYjk0NDI0LmJpbmRQb3B1cChwb3B1cF9mYzVjYzc5YTYzNTU0MWE4YTQyZjk2YzE3YTUxNTJiNikKICAgICAgICAgICAgOwoKICAgICAgICAgICAgCiAgICAgICAgCiAgICAKICAgICAgICAgICAgdmFyIGNpcmNsZV9tYXJrZXJfYzkxOGEwZGQ1Mjc4NGQyOTgzZTY3MzY3ODg1YjRjMzcgPSBMLmNpcmNsZU1hcmtlcigKICAgICAgICAgICAgICAgIFs0NS43NjI1MjQsIDQuODM0MjgxXSwKICAgICAgICAgICAgICAgIHsKICAiYnViYmxpbmdNb3VzZUV2ZW50cyI6IHRydWUsCiAgImNvbG9yIjogImJsdWUiLAogICJkYXNoQXJyYXkiOiBudWxsLAogICJkYXNoT2Zmc2V0IjogbnVsbCwKICAiZmlsbCI6IHRydWUsCiAgImZpbGxDb2xvciI6ICJibHVlIiwKICAiZmlsbE9wYWNpdHkiOiAwLjYsCiAgImZpbGxSdWxlIjogImV2ZW5vZGQiLAogICJsaW5lQ2FwIjogInJvdW5kIiwKICAibGluZUpvaW4iOiAicm91bmQiLAogICJvcGFjaXR5IjogMS4wLAogICJyYWRpdXMiOiA1LAogICJzdHJva2UiOiB0cnVlLAogICJ3ZWlnaHQiOiAzCn0KICAgICAgICAgICAgICAgICkKICAgICAgICAgICAgICAgIC5hZGRUbyhtYXBfNWRhOWU3MzgzMWExNDEyZWIyOWI4MjQ2ZjIwNjMxMmYpOwogICAgICAgICAgICAKICAgIAogICAgICAgICAgICB2YXIgcG9wdXBfOWI5MGUyNzczMzRmNDBjMWJkMGI1MTA3N2ZjZDJhMDcgPSBMLnBvcHVwKHttYXhXaWR0aDogJzEwMCUnCiAgICAgICAgICAgIAogICAgICAgICAgICB9KTsKCiAgICAgICAgICAgIAogICAgICAgICAgICAgICAgdmFyIGh0bWxfMjBmMzE0OGJiZWNiNGEwMjg2YzhiNGFkNjMyNDMxOGUgPSAkKGA8ZGl2IGlkPSJodG1sXzIwZjMxNDhiYmVjYjRhMDI4NmM4YjRhZDYzMjQzMThlIiBzdHlsZT0id2lkdGg6IDEwMC4wJTsgaGVpZ2h0OiAxMDAuMCU7Ij5DaG9jb2xhdGUgU2hvcDwvZGl2PmApWzBdOwogICAgICAgICAgICAgICAgcG9wdXBfOWI5MGUyNzczMzRmNDBjMWJkMGI1MTA3N2ZjZDJhMDcuc2V0Q29udGVudChodG1sXzIwZjMxNDhiYmVjYjRhMDI4NmM4YjRhZDYzMjQzMThlKTsKICAgICAgICAgICAgCgogICAgICAgICAgICBjaXJjbGVfbWFya2VyX2M5MThhMGRkNTI3ODRkMjk4M2U2NzM2Nzg4NWI0YzM3LmJpbmRQb3B1cChwb3B1cF85YjkwZTI3NzMzNGY0MGMxYmQwYjUxMDc3ZmNkMmEwNykKICAgICAgICAgICAgOwoKICAgICAgICAgICAgCiAgICAgICAgCiAgICAKICAgICAgICAgICAgdmFyIGNpcmNsZV9tYXJrZXJfNTM2ZDMwODI0YjBmNDA1YWIyZjcwZDkwNzBkZTdjNjcgPSBMLmNpcmNsZU1hcmtlcigKICAgICAgICAgICAgICAgIFs0NS43NjE3MDUsIDQuODM2MTcxXSwKICAgICAgICAgICAgICAgIHsKICAiYnViYmxpbmdNb3VzZUV2ZW50cyI6IHRydWUsCiAgImNvbG9yIjogImJsdWUiLAogICJkYXNoQXJyYXkiOiBudWxsLAogICJkYXNoT2Zmc2V0IjogbnVsbCwKICAiZmlsbCI6IHRydWUsCiAgImZpbGxDb2xvciI6ICJibHVlIiwKICAiZmlsbE9wYWNpdHkiOiAwLjYsCiAgImZpbGxSdWxlIjogImV2ZW5vZGQiLAogICJsaW5lQ2FwIjogInJvdW5kIiwKICAibGluZUpvaW4iOiAicm91bmQiLAogICJvcGFjaXR5IjogMS4wLAogICJyYWRpdXMiOiA1LAogICJzdHJva2UiOiB0cnVlLAogICJ3ZWlnaHQiOiAzCn0KICAgICAgICAgICAgICAgICkKICAgICAgICAgICAgICAgIC5hZGRUbyhtYXBfNWRhOWU3MzgzMWExNDEyZWIyOWI4MjQ2ZjIwNjMxMmYpOwogICAgICAgICAgICAKICAgIAogICAgICAgICAgICB2YXIgcG9wdXBfZTNhNDU2OTc3OGU0NDMzMzkwM2NjNDAzZDlhZjBlNDYgPSBMLnBvcHVwKHttYXhXaWR0aDogJzEwMCUnCiAgICAgICAgICAgIAogICAgICAgICAgICB9KTsKCiAgICAgICAgICAgIAogICAgICAgICAgICAgICAgdmFyIGh0bWxfYjEzMmY2NjE3ZTViNGU5Yjk1Y2E2ZmZiYmMwMjBiZjUgPSAkKGA8ZGl2IGlkPSJodG1sX2IxMzJmNjYxN2U1YjRlOWI5NWNhNmZmYmJjMDIwYmY1IiBzdHlsZT0id2lkdGg6IDEwMC4wJTsgaGVpZ2h0OiAxMDAuMCU7Ij5TdXNoaSBSZXN0YXVyYW50PC9kaXY+YClbMF07CiAgICAgICAgICAgICAgICBwb3B1cF9lM2E0NTY5Nzc4ZTQ0MzMzOTAzY2M0MDNkOWFmMGU0Ni5zZXRDb250ZW50KGh0bWxfYjEzMmY2NjE3ZTViNGU5Yjk1Y2E2ZmZiYmMwMjBiZjUpOwogICAgICAgICAgICAKCiAgICAgICAgICAgIGNpcmNsZV9tYXJrZXJfNTM2ZDMwODI0YjBmNDA1YWIyZjcwZDkwNzBkZTdjNjcuYmluZFBvcHVwKHBvcHVwX2UzYTQ1Njk3NzhlNDQzMzM5MDNjYzQwM2Q5YWYwZTQ2KQogICAgICAgICAgICA7CgogICAgICAgICAgICAKICAgICAgICAKICAgIAogICAgICAgICAgICB2YXIgY2lyY2xlX21hcmtlcl84Y2M3ZmY2OTBiYjE0OTQ1YjQ3Y2Y1ZDg3OWIyMjlmZSA9IEwuY2lyY2xlTWFya2VyKAogICAgICAgICAgICAgICAgWzQ1Ljc2MTA1NDkyNDM5NDksIDQuODM2NjUzMTQ3MzM2MjVdLAogICAgICAgICAgICAgICAgewogICJidWJibGluZ01vdXNlRXZlbnRzIjogdHJ1ZSwKICAiY29sb3IiOiAiYmx1ZSIsCiAgImRhc2hBcnJheSI6IG51bGwsCiAgImRhc2hPZmZzZXQiOiBudWxsLAogICJmaWxsIjogdHJ1ZSwKICAiZmlsbENvbG9yIjogImJsdWUiLAogICJmaWxsT3BhY2l0eSI6IDAuNiwKICAiZmlsbFJ1bGUiOiAiZXZlbm9kZCIsCiAgImxpbmVDYXAiOiAicm91bmQiLAogICJsaW5lSm9pbiI6ICJyb3VuZCIsCiAgIm9wYWNpdHkiOiAxLjAsCiAgInJhZGl1cyI6IDUsCiAgInN0cm9rZSI6IHRydWUsCiAgIndlaWdodCI6IDMKfQogICAgICAgICAgICAgICAgKQogICAgICAgICAgICAgICAgLmFkZFRvKG1hcF81ZGE5ZTczODMxYTE0MTJlYjI5YjgyNDZmMjA2MzEyZik7CiAgICAgICAgICAgIAogICAgCiAgICAgICAgICAgIHZhciBwb3B1cF80MjYwYjRmNjVkZmM0ZTI5YTU1MGU3ODc0YjBkYWI4MiA9IEwucG9wdXAoe21heFdpZHRoOiAnMTAwJScKICAgICAgICAgICAgCiAgICAgICAgICAgIH0pOwoKICAgICAgICAgICAgCiAgICAgICAgICAgICAgICB2YXIgaHRtbF9mZDliYWE3YzQxODk0OTU4Yjc3ZjM2YjhiOGU0ZTE1MyA9ICQoYDxkaXYgaWQ9Imh0bWxfZmQ5YmFhN2M0MTg5NDk1OGI3N2YzNmI4YjhlNGUxNTMiIHN0eWxlPSJ3aWR0aDogMTAwLjAlOyBoZWlnaHQ6IDEwMC4wJTsiPkhvdGVsPC9kaXY+YClbMF07CiAgICAgICAgICAgICAgICBwb3B1cF80MjYwYjRmNjVkZmM0ZTI5YTU1MGU3ODc0YjBkYWI4Mi5zZXRDb250ZW50KGh0bWxfZmQ5YmFhN2M0MTg5NDk1OGI3N2YzNmI4YjhlNGUxNTMpOwogICAgICAgICAgICAKCiAgICAgICAgICAgIGNpcmNsZV9tYXJrZXJfOGNjN2ZmNjkwYmIxNDk0NWI0N2NmNWQ4NzliMjI5ZmUuYmluZFBvcHVwKHBvcHVwXzQyNjBiNGY2NWRmYzRlMjlhNTUwZTc4NzRiMGRhYjgyKQogICAgICAgICAgICA7CgogICAgICAgICAgICAKICAgICAgICAKICAgIAogICAgICAgICAgICB2YXIgY2lyY2xlX21hcmtlcl9jNjFlNzQ0NTRhZTk0YTUyOGM1NDNlYjE2NGY4OWU5ZiA9IEwuY2lyY2xlTWFya2VyKAogICAgICAgICAgICAgICAgWzQ1Ljc1NjMyOTMyNDcxNjkxNiwgNC44MzQ1NjM3MzIxNDcyMTddLAogICAgICAgICAgICAgICAgewogICJidWJibGluZ01vdXNlRXZlbnRzIjogdHJ1ZSwKICAiY29sb3IiOiAiYmx1ZSIsCiAgImRhc2hBcnJheSI6IG51bGwsCiAgImRhc2hPZmZzZXQiOiBudWxsLAogICJmaWxsIjogdHJ1ZSwKICAiZmlsbENvbG9yIjogImJsdWUiLAogICJmaWxsT3BhY2l0eSI6IDAuNiwKICAiZmlsbFJ1bGUiOiAiZXZlbm9kZCIsCiAgImxpbmVDYXAiOiAicm91bmQiLAogICJsaW5lSm9pbiI6ICJyb3VuZCIsCiAgIm9wYWNpdHkiOiAxLjAsCiAgInJhZGl1cyI6IDUsCiAgInN0cm9rZSI6IHRydWUsCiAgIndlaWdodCI6IDMKfQogICAgICAgICAgICAgICAgKQogICAgICAgICAgICAgICAgLmFkZFRvKG1hcF81ZGE5ZTczODMxYTE0MTJlYjI5YjgyNDZmMjA2MzEyZik7CiAgICAgICAgICAgIAogICAgCiAgICAgICAgICAgIHZhciBwb3B1cF83NGQ0MzM1YjAxM2I0N2MyYmEwMWRjMzRkNTU2OGFmMyA9IEwucG9wdXAoe21heFdpZHRoOiAnMTAwJScKICAgICAgICAgICAgCiAgICAgICAgICAgIH0pOwoKICAgICAgICAgICAgCiAgICAgICAgICAgICAgICB2YXIgaHRtbF9hZmE0ZTk4ZmE5ZWI0MmQwYTc3N2MzZDc0Mjk0ZjM0OCA9ICQoYDxkaXYgaWQ9Imh0bWxfYWZhNGU5OGZhOWViNDJkMGE3NzdjM2Q3NDI5NGYzNDgiIHN0eWxlPSJ3aWR0aDogMTAwLjAlOyBoZWlnaHQ6IDEwMC4wJTsiPlBsYXphPC9kaXY+YClbMF07CiAgICAgICAgICAgICAgICBwb3B1cF83NGQ0MzM1YjAxM2I0N2MyYmEwMWRjMzRkNTU2OGFmMy5zZXRDb250ZW50KGh0bWxfYWZhNGU5OGZhOWViNDJkMGE3NzdjM2Q3NDI5NGYzNDgpOwogICAgICAgICAgICAKCiAgICAgICAgICAgIGNpcmNsZV9tYXJrZXJfYzYxZTc0NDU0YWU5NGE1MjhjNTQzZWIxNjRmODllOWYuYmluZFBvcHVwKHBvcHVwXzc0ZDQzMzViMDEzYjQ3YzJiYTAxZGMzNGQ1NTY4YWYzKQogICAgICAgICAgICA7CgogICAgICAgICAgICAKICAgICAgICAKICAgIAogICAgICAgICAgICB2YXIgY2lyY2xlX21hcmtlcl9lNDQxNjE1N2I1Yjg0NTYxODliMzQ1MzgxNWE0NGEyMiA9IEwuY2lyY2xlTWFya2VyKAogICAgICAgICAgICAgICAgWzQ1Ljc2MDgwMTgwOTY2NTU4LCA0LjgyNzI4OTU4MTI5ODgyOF0sCiAgICAgICAgICAgICAgICB7CiAgImJ1YmJsaW5nTW91c2VFdmVudHMiOiB0cnVlLAogICJjb2xvciI6ICJibHVlIiwKICAiZGFzaEFycmF5IjogbnVsbCwKICAiZGFzaE9mZnNldCI6IG51bGwsCiAgImZpbGwiOiB0cnVlLAogICJmaWxsQ29sb3IiOiAiYmx1ZSIsCiAgImZpbGxPcGFjaXR5IjogMC42LAogICJmaWxsUnVsZSI6ICJldmVub2RkIiwKICAibGluZUNhcCI6ICJyb3VuZCIsCiAgImxpbmVKb2luIjogInJvdW5kIiwKICAib3BhY2l0eSI6IDEuMCwKICAicmFkaXVzIjogNSwKICAic3Ryb2tlIjogdHJ1ZSwKICAid2VpZ2h0IjogMwp9CiAgICAgICAgICAgICAgICApCiAgICAgICAgICAgICAgICAuYWRkVG8obWFwXzVkYTllNzM4MzFhMTQxMmViMjliODI0NmYyMDYzMTJmKTsKICAgICAgICAgICAgCiAgICAKICAgICAgICAgICAgdmFyIHBvcHVwXzg1MGI0ZTNmZjBkOTRkNzlhYTc1N2Q0MjE4NWI3MWZiID0gTC5wb3B1cCh7bWF4V2lkdGg6ICcxMDAlJwogICAgICAgICAgICAKICAgICAgICAgICAgfSk7CgogICAgICAgICAgICAKICAgICAgICAgICAgICAgIHZhciBodG1sXzk5MmYyMDExNjQxMzQ3NTU4ZjRlYzFlNDAyMjNkMDhiID0gJChgPGRpdiBpZD0iaHRtbF85OTJmMjAxMTY0MTM0NzU1OGY0ZWMxZTQwMjIzZDA4YiIgc3R5bGU9IndpZHRoOiAxMDAuMCU7IGhlaWdodDogMTAwLjAlOyI+Q2h1cmNoPC9kaXY+YClbMF07CiAgICAgICAgICAgICAgICBwb3B1cF84NTBiNGUzZmYwZDk0ZDc5YWE3NTdkNDIxODViNzFmYi5zZXRDb250ZW50KGh0bWxfOTkyZjIwMTE2NDEzNDc1NThmNGVjMWU0MDIyM2QwOGIpOwogICAgICAgICAgICAKCiAgICAgICAgICAgIGNpcmNsZV9tYXJrZXJfZTQ0MTYxNTdiNWI4NDU2MTg5YjM0NTM4MTVhNDRhMjIuYmluZFBvcHVwKHBvcHVwXzg1MGI0ZTNmZjBkOTRkNzlhYTc1N2Q0MjE4NWI3MWZiKQogICAgICAgICAgICA7CgogICAgICAgICAgICAKICAgICAgICAKICAgIAogICAgICAgICAgICB2YXIgY2lyY2xlX21hcmtlcl9hNjU2ZGE5NGY1YmM0NjRmOGNmZmZiZjk4NTdhZTA2OCA9IEwuY2lyY2xlTWFya2VyKAogICAgICAgICAgICAgICAgWzQ1Ljc1NjU1MjQwMTI2MTY2LCA0LjgzNDQzMDYxNDc4MjkxNl0sCiAgICAgICAgICAgICAgICB7CiAgImJ1YmJsaW5nTW91c2VFdmVudHMiOiB0cnVlLAogICJjb2xvciI6ICJibHVlIiwKICAiZGFzaEFycmF5IjogbnVsbCwKICAiZGFzaE9mZnNldCI6IG51bGwsCiAgImZpbGwiOiB0cnVlLAogICJmaWxsQ29sb3IiOiAiYmx1ZSIsCiAgImZpbGxPcGFjaXR5IjogMC42LAogICJmaWxsUnVsZSI6ICJldmVub2RkIiwKICAibGluZUNhcCI6ICJyb3VuZCIsCiAgImxpbmVKb2luIjogInJvdW5kIiwKICAib3BhY2l0eSI6IDEuMCwKICAicmFkaXVzIjogNSwKICAic3Ryb2tlIjogdHJ1ZSwKICAid2VpZ2h0IjogMwp9CiAgICAgICAgICAgICAgICApCiAgICAgICAgICAgICAgICAuYWRkVG8obWFwXzVkYTllNzM4MzFhMTQxMmViMjliODI0NmYyMDYzMTJmKTsKICAgICAgICAgICAgCiAgICAKICAgICAgICAgICAgdmFyIHBvcHVwX2Y1MDJhYTc4Njg2NjQ0Yzg4YmFkMDg2M2ZiMTcxZmI0ID0gTC5wb3B1cCh7bWF4V2lkdGg6ICcxMDAlJwogICAgICAgICAgICAKICAgICAgICAgICAgfSk7CgogICAgICAgICAgICAKICAgICAgICAgICAgICAgIHZhciBodG1sX2JiOWE5NTM5NzUwYzQ2YTFhNTgzZWQ4MDZkYTJjNTc4ID0gJChgPGRpdiBpZD0iaHRtbF9iYjlhOTUzOTc1MGM0NmExYTU4M2VkODA2ZGEyYzU3OCIgc3R5bGU9IndpZHRoOiAxMDAuMCU7IGhlaWdodDogMTAwLjAlOyI+SXRhbGlhbiBSZXN0YXVyYW50PC9kaXY+YClbMF07CiAgICAgICAgICAgICAgICBwb3B1cF9mNTAyYWE3ODY4NjY0NGM4OGJhZDA4NjNmYjE3MWZiNC5zZXRDb250ZW50KGh0bWxfYmI5YTk1Mzk3NTBjNDZhMWE1ODNlZDgwNmRhMmM1NzgpOwogICAgICAgICAgICAKCiAgICAgICAgICAgIGNpcmNsZV9tYXJrZXJfYTY1NmRhOTRmNWJjNDY0ZjhjZmZmYmY5ODU3YWUwNjguYmluZFBvcHVwKHBvcHVwX2Y1MDJhYTc4Njg2NjQ0Yzg4YmFkMDg2M2ZiMTcxZmI0KQogICAgICAgICAgICA7CgogICAgICAgICAgICAKICAgICAgICAKICAgIAogICAgICAgICAgICB2YXIgY2lyY2xlX21hcmtlcl9mNWZjZWUzMGJkY2U0NThhYjhjODI3NDU3ZWYwNmM1ZSA9IEwuY2lyY2xlTWFya2VyKAogICAgICAgICAgICAgICAgWzQ1Ljc2MzAyODQ4NTc4MjkyLCA0LjgyOTEzODIwNjgxMTg4Ml0sCiAgICAgICAgICAgICAgICB7CiAgImJ1YmJsaW5nTW91c2VFdmVudHMiOiB0cnVlLAogICJjb2xvciI6ICJibHVlIiwKICAiZGFzaEFycmF5IjogbnVsbCwKICAiZGFzaE9mZnNldCI6IG51bGwsCiAgImZpbGwiOiB0cnVlLAogICJmaWxsQ29sb3IiOiAiYmx1ZSIsCiAgImZpbGxPcGFjaXR5IjogMC42LAogICJmaWxsUnVsZSI6ICJldmVub2RkIiwKICAibGluZUNhcCI6ICJyb3VuZCIsCiAgImxpbmVKb2luIjogInJvdW5kIiwKICAib3BhY2l0eSI6IDEuMCwKICAicmFkaXVzIjogNSwKICAic3Ryb2tlIjogdHJ1ZSwKICAid2VpZ2h0IjogMwp9CiAgICAgICAgICAgICAgICApCiAgICAgICAgICAgICAgICAuYWRkVG8obWFwXzVkYTllNzM4MzFhMTQxMmViMjliODI0NmYyMDYzMTJmKTsKICAgICAgICAgICAgCiAgICAKICAgICAgICAgICAgdmFyIHBvcHVwX2U1OTM2NjczMzFkMDQyZTBhY2ZhYWVmNWRiYTE1OGUxID0gTC5wb3B1cCh7bWF4V2lkdGg6ICcxMDAlJwogICAgICAgICAgICAKICAgICAgICAgICAgfSk7CgogICAgICAgICAgICAKICAgICAgICAgICAgICAgIHZhciBodG1sXzA3MzE2YWNhYmZmOTRkMmQ5ZDhhNjJkZDgwYzY5YWZhID0gJChgPGRpdiBpZD0iaHRtbF8wNzMxNmFjYWJmZjk0ZDJkOWQ4YTYyZGQ4MGM2OWFmYSIgc3R5bGU9IndpZHRoOiAxMDAuMCU7IGhlaWdodDogMTAwLjAlOyI+QmVlciBCYXI8L2Rpdj5gKVswXTsKICAgICAgICAgICAgICAgIHBvcHVwX2U1OTM2NjczMzFkMDQyZTBhY2ZhYWVmNWRiYTE1OGUxLnNldENvbnRlbnQoaHRtbF8wNzMxNmFjYWJmZjk0ZDJkOWQ4YTYyZGQ4MGM2OWFmYSk7CiAgICAgICAgICAgIAoKICAgICAgICAgICAgY2lyY2xlX21hcmtlcl9mNWZjZWUzMGJkY2U0NThhYjhjODI3NDU3ZWYwNmM1ZS5iaW5kUG9wdXAocG9wdXBfZTU5MzY2NzMzMWQwNDJlMGFjZmFhZWY1ZGJhMTU4ZTEpCiAgICAgICAgICAgIDsKCiAgICAgICAgICAgIAogICAgICAgIAogICAgCiAgICAgICAgICAgIHZhciBjaXJjbGVfbWFya2VyX2M1N2QxMjVhYzA1MTQwNjZiNDIyYzkxMDNkOWFiMTIzID0gTC5jaXJjbGVNYXJrZXIoCiAgICAgICAgICAgICAgICBbNDUuNzY0MjA2MjU0NzIzNjEsIDQuODMzODkwNjE0ODAxMDgxXSwKICAgICAgICAgICAgICAgIHsKICAiYnViYmxpbmdNb3VzZUV2ZW50cyI6IHRydWUsCiAgImNvbG9yIjogImJsdWUiLAogICJkYXNoQXJyYXkiOiBudWxsLAogICJkYXNoT2Zmc2V0IjogbnVsbCwKICAiZmlsbCI6IHRydWUsCiAgImZpbGxDb2xvciI6ICJibHVlIiwKICAiZmlsbE9wYWNpdHkiOiAwLjYsCiAgImZpbGxSdWxlIjogImV2ZW5vZGQiLAogICJsaW5lQ2FwIjogInJvdW5kIiwKICAibGluZUpvaW4iOiAicm91bmQiLAogICJvcGFjaXR5IjogMS4wLAogICJyYWRpdXMiOiA1LAogICJzdHJva2UiOiB0cnVlLAogICJ3ZWlnaHQiOiAzCn0KICAgICAgICAgICAgICAgICkKICAgICAgICAgICAgICAgIC5hZGRUbyhtYXBfNWRhOWU3MzgzMWExNDEyZWIyOWI4MjQ2ZjIwNjMxMmYpOwogICAgICAgICAgICAKICAgIAogICAgICAgICAgICB2YXIgcG9wdXBfZTk2NDA1NjM0ZjZkNGYzYzliZDczZTYyY2Y1MjhjZTcgPSBMLnBvcHVwKHttYXhXaWR0aDogJzEwMCUnCiAgICAgICAgICAgIAogICAgICAgICAgICB9KTsKCiAgICAgICAgICAgIAogICAgICAgICAgICAgICAgdmFyIGh0bWxfYjNiMGE3ZTkyNTEzNDIwNGEwZTlmOGQzZmUzYTk0OTggPSAkKGA8ZGl2IGlkPSJodG1sX2IzYjBhN2U5MjUxMzQyMDRhMGU5ZjhkM2ZlM2E5NDk4IiBzdHlsZT0id2lkdGg6IDEwMC4wJTsgaGVpZ2h0OiAxMDAuMCU7Ij5DYWbDqTwvZGl2PmApWzBdOwogICAgICAgICAgICAgICAgcG9wdXBfZTk2NDA1NjM0ZjZkNGYzYzliZDczZTYyY2Y1MjhjZTcuc2V0Q29udGVudChodG1sX2IzYjBhN2U5MjUxMzQyMDRhMGU5ZjhkM2ZlM2E5NDk4KTsKICAgICAgICAgICAgCgogICAgICAgICAgICBjaXJjbGVfbWFya2VyX2M1N2QxMjVhYzA1MTQwNjZiNDIyYzkxMDNkOWFiMTIzLmJpbmRQb3B1cChwb3B1cF9lOTY0MDU2MzRmNmQ0ZjNjOWJkNzNlNjJjZjUyOGNlNykKICAgICAgICAgICAgOwoKICAgICAgICAgICAgCiAgICAgICAgCiAgICAKICAgICAgICAgICAgdmFyIGNpcmNsZV9tYXJrZXJfOTI5NjAyNTkwNmY0NGMwZmEyZTkzYzlmNzQ2ZjIyNDcgPSBMLmNpcmNsZU1hcmtlcigKICAgICAgICAgICAgICAgIFs0NS43NTc4MDExMjY2OTE2MSwgNC44MzAxMjQxODA3MDY3NDJdLAogICAgICAgICAgICAgICAgewogICJidWJibGluZ01vdXNlRXZlbnRzIjogdHJ1ZSwKICAiY29sb3IiOiAiYmx1ZSIsCiAgImRhc2hBcnJheSI6IG51bGwsCiAgImRhc2hPZmZzZXQiOiBudWxsLAogICJmaWxsIjogdHJ1ZSwKICAiZmlsbENvbG9yIjogImJsdWUiLAogICJmaWxsT3BhY2l0eSI6IDAuNiwKICAiZmlsbFJ1bGUiOiAiZXZlbm9kZCIsCiAgImxpbmVDYXAiOiAicm91bmQiLAogICJsaW5lSm9pbiI6ICJyb3VuZCIsCiAgIm9wYWNpdHkiOiAxLjAsCiAgInJhZGl1cyI6IDUsCiAgInN0cm9rZSI6IHRydWUsCiAgIndlaWdodCI6IDMKfQogICAgICAgICAgICAgICAgKQogICAgICAgICAgICAgICAgLmFkZFRvKG1hcF81ZGE5ZTczODMxYTE0MTJlYjI5YjgyNDZmMjA2MzEyZik7CiAgICAgICAgICAgIAogICAgCiAgICAgICAgICAgIHZhciBwb3B1cF8zODc4MzA5NDQyYmY0NTA3ODNjZjlmNjY5ZDI0ODYwYSA9IEwucG9wdXAoe21heFdpZHRoOiAnMTAwJScKICAgICAgICAgICAgCiAgICAgICAgICAgIH0pOwoKICAgICAgICAgICAgCiAgICAgICAgICAgICAgICB2YXIgaHRtbF9iYmFjYzcxMWVmYWI0ZTI5YjRhOTc4MWVjN2Q0MDEwMCA9ICQoYDxkaXYgaWQ9Imh0bWxfYmJhY2M3MTFlZmFiNGUyOWI0YTk3ODFlYzdkNDAxMDAiIHN0eWxlPSJ3aWR0aDogMTAwLjAlOyBoZWlnaHQ6IDEwMC4wJTsiPkNhZsOpPC9kaXY+YClbMF07CiAgICAgICAgICAgICAgICBwb3B1cF8zODc4MzA5NDQyYmY0NTA3ODNjZjlmNjY5ZDI0ODYwYS5zZXRDb250ZW50KGh0bWxfYmJhY2M3MTFlZmFiNGUyOWI0YTk3ODFlYzdkNDAxMDApOwogICAgICAgICAgICAKCiAgICAgICAgICAgIGNpcmNsZV9tYXJrZXJfOTI5NjAyNTkwNmY0NGMwZmEyZTkzYzlmNzQ2ZjIyNDcuYmluZFBvcHVwKHBvcHVwXzM4NzgzMDk0NDJiZjQ1MDc4M2NmOWY2NjlkMjQ4NjBhKQogICAgICAgICAgICA7CgogICAgICAgICAgICAKICAgICAgICAKICAgIAogICAgICAgICAgICB2YXIgY2lyY2xlX21hcmtlcl8yOTlmN2I4NWIwZDY0ZDlkYmM1MGE5MTMzNGI1MzExZiA9IEwuY2lyY2xlTWFya2VyKAogICAgICAgICAgICAgICAgWzQ1Ljc2MzUyNjI5NDIzMjYwNSwgNC44MzY2MjM2Njg2NzA2NTRdLAogICAgICAgICAgICAgICAgewogICJidWJibGluZ01vdXNlRXZlbnRzIjogdHJ1ZSwKICAiY29sb3IiOiAiYmx1ZSIsCiAgImRhc2hBcnJheSI6IG51bGwsCiAgImRhc2hPZmZzZXQiOiBudWxsLAogICJmaWxsIjogdHJ1ZSwKICAiZmlsbENvbG9yIjogImJsdWUiLAogICJmaWxsT3BhY2l0eSI6IDAuNiwKICAiZmlsbFJ1bGUiOiAiZXZlbm9kZCIsCiAgImxpbmVDYXAiOiAicm91bmQiLAogICJsaW5lSm9pbiI6ICJyb3VuZCIsCiAgIm9wYWNpdHkiOiAxLjAsCiAgInJhZGl1cyI6IDUsCiAgInN0cm9rZSI6IHRydWUsCiAgIndlaWdodCI6IDMKfQogICAgICAgICAgICAgICAgKQogICAgICAgICAgICAgICAgLmFkZFRvKG1hcF81ZGE5ZTczODMxYTE0MTJlYjI5YjgyNDZmMjA2MzEyZik7CiAgICAgICAgICAgIAogICAgCiAgICAgICAgICAgIHZhciBwb3B1cF85MDJlODEzMjE4ZmY0NTYyOWI5NTQ2ZmRlMTY4MGUwMCA9IEwucG9wdXAoe21heFdpZHRoOiAnMTAwJScKICAgICAgICAgICAgCiAgICAgICAgICAgIH0pOwoKICAgICAgICAgICAgCiAgICAgICAgICAgICAgICB2YXIgaHRtbF83MDgyMzI5Zjg0ODI0ZTExOGRlYjJiOGJiN2Q1NzVkZiA9ICQoYDxkaXYgaWQ9Imh0bWxfNzA4MjMyOWY4NDgyNGUxMThkZWIyYjhiYjdkNTc1ZGYiIHN0eWxlPSJ3aWR0aDogMTAwLjAlOyBoZWlnaHQ6IDEwMC4wJTsiPlBsYXphPC9kaXY+YClbMF07CiAgICAgICAgICAgICAgICBwb3B1cF85MDJlODEzMjE4ZmY0NTYyOWI5NTQ2ZmRlMTY4MGUwMC5zZXRDb250ZW50KGh0bWxfNzA4MjMyOWY4NDgyNGUxMThkZWIyYjhiYjdkNTc1ZGYpOwogICAgICAgICAgICAKCiAgICAgICAgICAgIGNpcmNsZV9tYXJrZXJfMjk5ZjdiODViMGQ2NGQ5ZGJjNTBhOTEzMzRiNTMxMWYuYmluZFBvcHVwKHBvcHVwXzkwMmU4MTMyMThmZjQ1NjI5Yjk1NDZmZGUxNjgwZTAwKQogICAgICAgICAgICA7CgogICAgICAgICAgICAKICAgICAgICAKICAgIAogICAgICAgICAgICB2YXIgY2lyY2xlX21hcmtlcl83YjU3ZWVkYzVhNWI0Y2RmOWQxNDdjYzIxYmU0YzE3MCA9IEwuY2lyY2xlTWFya2VyKAogICAgICAgICAgICAgICAgWzQ1Ljc2MjQ4MzEwOTI3Nzk0LCA0LjgzNjg5OTgwMTgxODU2XSwKICAgICAgICAgICAgICAgIHsKICAiYnViYmxpbmdNb3VzZUV2ZW50cyI6IHRydWUsCiAgImNvbG9yIjogImJsdWUiLAogICJkYXNoQXJyYXkiOiBudWxsLAogICJkYXNoT2Zmc2V0IjogbnVsbCwKICAiZmlsbCI6IHRydWUsCiAgImZpbGxDb2xvciI6ICJibHVlIiwKICAiZmlsbE9wYWNpdHkiOiAwLjYsCiAgImZpbGxSdWxlIjogImV2ZW5vZGQiLAogICJsaW5lQ2FwIjogInJvdW5kIiwKICAibGluZUpvaW4iOiAicm91bmQiLAogICJvcGFjaXR5IjogMS4wLAogICJyYWRpdXMiOiA1LAogICJzdHJva2UiOiB0cnVlLAogICJ3ZWlnaHQiOiAzCn0KICAgICAgICAgICAgICAgICkKICAgICAgICAgICAgICAgIC5hZGRUbyhtYXBfNWRhOWU3MzgzMWExNDEyZWIyOWI4MjQ2ZjIwNjMxMmYpOwogICAgICAgICAgICAKICAgIAogICAgICAgICAgICB2YXIgcG9wdXBfMTg3NTk3OGU5OTkwNGJmMjk1YzU1YzNmNGM1ZmJiZGEgPSBMLnBvcHVwKHttYXhXaWR0aDogJzEwMCUnCiAgICAgICAgICAgIAogICAgICAgICAgICB9KTsKCiAgICAgICAgICAgIAogICAgICAgICAgICAgICAgdmFyIGh0bWxfOTU5NGQ3YjIzYjdkNDM2NGE2YzcwMDc0MmFhNDIxYzMgPSAkKGA8ZGl2IGlkPSJodG1sXzk1OTRkN2IyM2I3ZDQzNjRhNmM3MDA3NDJhYTQyMWMzIiBzdHlsZT0id2lkdGg6IDEwMC4wJTsgaGVpZ2h0OiAxMDAuMCU7Ij5Db21lZHkgQ2x1YjwvZGl2PmApWzBdOwogICAgICAgICAgICAgICAgcG9wdXBfMTg3NTk3OGU5OTkwNGJmMjk1YzU1YzNmNGM1ZmJiZGEuc2V0Q29udGVudChodG1sXzk1OTRkN2IyM2I3ZDQzNjRhNmM3MDA3NDJhYTQyMWMzKTsKICAgICAgICAgICAgCgogICAgICAgICAgICBjaXJjbGVfbWFya2VyXzdiNTdlZWRjNWE1YjRjZGY5ZDE0N2NjMjFiZTRjMTcwLmJpbmRQb3B1cChwb3B1cF8xODc1OTc4ZTk5OTA0YmYyOTVjNTVjM2Y0YzVmYmJkYSkKICAgICAgICAgICAgOwoKICAgICAgICAgICAgCiAgICAgICAgCiAgICAKICAgICAgICAgICAgdmFyIGNpcmNsZV9tYXJrZXJfYjY5MDA1ZGFjNjE0NDk4MWEyZDNhOTBkMDRkNTY2NjAgPSBMLmNpcmNsZU1hcmtlcigKICAgICAgICAgICAgICAgIFs0NS43NjM2MDQ3NDU3MTMxNiwgNC44MzI0Njc5ODI3ODQzMzFdLAogICAgICAgICAgICAgICAgewogICJidWJibGluZ01vdXNlRXZlbnRzIjogdHJ1ZSwKICAiY29sb3IiOiAiYmx1ZSIsCiAgImRhc2hBcnJheSI6IG51bGwsCiAgImRhc2hPZmZzZXQiOiBudWxsLAogICJmaWxsIjogdHJ1ZSwKICAiZmlsbENvbG9yIjogImJsdWUiLAogICJmaWxsT3BhY2l0eSI6IDAuNiwKICAiZmlsbFJ1bGUiOiAiZXZlbm9kZCIsCiAgImxpbmVDYXAiOiAicm91bmQiLAogICJsaW5lSm9pbiI6ICJyb3VuZCIsCiAgIm9wYWNpdHkiOiAxLjAsCiAgInJhZGl1cyI6IDUsCiAgInN0cm9rZSI6IHRydWUsCiAgIndlaWdodCI6IDMKfQogICAgICAgICAgICAgICAgKQogICAgICAgICAgICAgICAgLmFkZFRvKG1hcF81ZGE5ZTczODMxYTE0MTJlYjI5YjgyNDZmMjA2MzEyZik7CiAgICAgICAgICAgIAogICAgCiAgICAgICAgICAgIHZhciBwb3B1cF85YjUwZGU2MWZiZjk0MmEyYmVhZjVhNjZiN2U1NmYwNCA9IEwucG9wdXAoe21heFdpZHRoOiAnMTAwJScKICAgICAgICAgICAgCiAgICAgICAgICAgIH0pOwoKICAgICAgICAgICAgCiAgICAgICAgICAgICAgICB2YXIgaHRtbF84Mjc5MTY0MWQxYWI0Y2Y2YTg0NjExNWUzNzFkYTdmNiA9ICQoYDxkaXYgaWQ9Imh0bWxfODI3OTE2NDFkMWFiNGNmNmE4NDYxMTVlMzcxZGE3ZjYiIHN0eWxlPSJ3aWR0aDogMTAwLjAlOyBoZWlnaHQ6IDEwMC4wJTsiPkxlYmFuZXNlIFJlc3RhdXJhbnQ8L2Rpdj5gKVswXTsKICAgICAgICAgICAgICAgIHBvcHVwXzliNTBkZTYxZmJmOTQyYTJiZWFmNWE2NmI3ZTU2ZjA0LnNldENvbnRlbnQoaHRtbF84Mjc5MTY0MWQxYWI0Y2Y2YTg0NjExNWUzNzFkYTdmNik7CiAgICAgICAgICAgIAoKICAgICAgICAgICAgY2lyY2xlX21hcmtlcl9iNjkwMDVkYWM2MTQ0OTgxYTJkM2E5MGQwNGQ1NjY2MC5iaW5kUG9wdXAocG9wdXBfOWI1MGRlNjFmYmY5NDJhMmJlYWY1YTY2YjdlNTZmMDQpCiAgICAgICAgICAgIDsKCiAgICAgICAgICAgIAogICAgICAgIAogICAgCiAgICAgICAgICAgIHZhciBjaXJjbGVfbWFya2VyX2I2ZDc0MGZkN2U2YTQzMjhhNzcwMDQ1NDAzZDk4YzIxID0gTC5jaXJjbGVNYXJrZXIoCiAgICAgICAgICAgICAgICBbNDUuNzYzMTUxMDQxOTc4MDA2LCA0LjgzMjcwMTQ4NjkyMTk2OTVdLAogICAgICAgICAgICAgICAgewogICJidWJibGluZ01vdXNlRXZlbnRzIjogdHJ1ZSwKICAiY29sb3IiOiAiYmx1ZSIsCiAgImRhc2hBcnJheSI6IG51bGwsCiAgImRhc2hPZmZzZXQiOiBudWxsLAogICJmaWxsIjogdHJ1ZSwKICAiZmlsbENvbG9yIjogImJsdWUiLAogICJmaWxsT3BhY2l0eSI6IDAuNiwKICAiZmlsbFJ1bGUiOiAiZXZlbm9kZCIsCiAgImxpbmVDYXAiOiAicm91bmQiLAogICJsaW5lSm9pbiI6ICJyb3VuZCIsCiAgIm9wYWNpdHkiOiAxLjAsCiAgInJhZGl1cyI6IDUsCiAgInN0cm9rZSI6IHRydWUsCiAgIndlaWdodCI6IDMKfQogICAgICAgICAgICAgICAgKQogICAgICAgICAgICAgICAgLmFkZFRvKG1hcF81ZGE5ZTczODMxYTE0MTJlYjI5YjgyNDZmMjA2MzEyZik7CiAgICAgICAgICAgIAogICAgCiAgICAgICAgICAgIHZhciBwb3B1cF9hZjVjOTk5ZTBiZWM0NDhiYjUzNGM4MWJiZTM0YWJkMiA9IEwucG9wdXAoe21heFdpZHRoOiAnMTAwJScKICAgICAgICAgICAgCiAgICAgICAgICAgIH0pOwoKICAgICAgICAgICAgCiAgICAgICAgICAgICAgICB2YXIgaHRtbF9lNzJhZDIyMmM0ZWQ0ODkzYjY3MjMwMTc3OWU2Y2FmYiA9ICQoYDxkaXYgaWQ9Imh0bWxfZTcyYWQyMjJjNGVkNDg5M2I2NzIzMDE3NzllNmNhZmIiIHN0eWxlPSJ3aWR0aDogMTAwLjAlOyBoZWlnaHQ6IDEwMC4wJTsiPkJ1cmdlciBKb2ludDwvZGl2PmApWzBdOwogICAgICAgICAgICAgICAgcG9wdXBfYWY1Yzk5OWUwYmVjNDQ4YmI1MzRjODFiYmUzNGFiZDIuc2V0Q29udGVudChodG1sX2U3MmFkMjIyYzRlZDQ4OTNiNjcyMzAxNzc5ZTZjYWZiKTsKICAgICAgICAgICAgCgogICAgICAgICAgICBjaXJjbGVfbWFya2VyX2I2ZDc0MGZkN2U2YTQzMjhhNzcwMDQ1NDAzZDk4YzIxLmJpbmRQb3B1cChwb3B1cF9hZjVjOTk5ZTBiZWM0NDhiYjUzNGM4MWJiZTM0YWJkMikKICAgICAgICAgICAgOwoKICAgICAgICAgICAgCiAgICAgICAgCiAgICAKICAgICAgICAgICAgdmFyIGNpcmNsZV9tYXJrZXJfMmUxMzg3ZjFlOGE5NDA1YjgzMzFmZDdmODViNjgyMTQgPSBMLmNpcmNsZU1hcmtlcigKICAgICAgICAgICAgICAgIFs0NS43NjMzNDc4OTUxNjE3MSwgNC44MzU4MDcyOTIyOTAxNF0sCiAgICAgICAgICAgICAgICB7CiAgImJ1YmJsaW5nTW91c2VFdmVudHMiOiB0cnVlLAogICJjb2xvciI6ICJibHVlIiwKICAiZGFzaEFycmF5IjogbnVsbCwKICAiZGFzaE9mZnNldCI6IG51bGwsCiAgImZpbGwiOiB0cnVlLAogICJmaWxsQ29sb3IiOiAiYmx1ZSIsCiAgImZpbGxPcGFjaXR5IjogMC42LAogICJmaWxsUnVsZSI6ICJldmVub2RkIiwKICAibGluZUNhcCI6ICJyb3VuZCIsCiAgImxpbmVKb2luIjogInJvdW5kIiwKICAib3BhY2l0eSI6IDEuMCwKICAicmFkaXVzIjogNSwKICAic3Ryb2tlIjogdHJ1ZSwKICAid2VpZ2h0IjogMwp9CiAgICAgICAgICAgICAgICApCiAgICAgICAgICAgICAgICAuYWRkVG8obWFwXzVkYTllNzM4MzFhMTQxMmViMjliODI0NmYyMDYzMTJmKTsKICAgICAgICAgICAgCiAgICAKICAgICAgICAgICAgdmFyIHBvcHVwXzdlZGMxZDBkM2JjZDQxZGM5ZDczY2FjMjNiOWM1NWI1ID0gTC5wb3B1cCh7bWF4V2lkdGg6ICcxMDAlJwogICAgICAgICAgICAKICAgICAgICAgICAgfSk7CgogICAgICAgICAgICAKICAgICAgICAgICAgICAgIHZhciBodG1sX2M2ZjA4ZGQxN2NiYTQ3NDE4MDdlMTY5MGU5NmM0YmFjID0gJChgPGRpdiBpZD0iaHRtbF9jNmYwOGRkMTdjYmE0NzQxODA3ZTE2OTBlOTZjNGJhYyIgc3R5bGU9IndpZHRoOiAxMDAuMCU7IGhlaWdodDogMTAwLjAlOyI+RnJlbmNoIFJlc3RhdXJhbnQ8L2Rpdj5gKVswXTsKICAgICAgICAgICAgICAgIHBvcHVwXzdlZGMxZDBkM2JjZDQxZGM5ZDczY2FjMjNiOWM1NWI1LnNldENvbnRlbnQoaHRtbF9jNmYwOGRkMTdjYmE0NzQxODA3ZTE2OTBlOTZjNGJhYyk7CiAgICAgICAgICAgIAoKICAgICAgICAgICAgY2lyY2xlX21hcmtlcl8yZTEzODdmMWU4YTk0MDViODMzMWZkN2Y4NWI2ODIxNC5iaW5kUG9wdXAocG9wdXBfN2VkYzFkMGQzYmNkNDFkYzlkNzNjYWMyM2I5YzU1YjUpCiAgICAgICAgICAgIDsKCiAgICAgICAgICAgIAogICAgICAgIAogICAgCiAgICAgICAgICAgIHZhciBjaXJjbGVfbWFya2VyXzU4YTc2N2QxYmFmMTQ1Zjk5ZjBkYmUzNTY5MzdiNGNmID0gTC5jaXJjbGVNYXJrZXIoCiAgICAgICAgICAgICAgICBbNDUuNzU3MjQ4MTg3NzAzNzIsIDQuODI5OTg2MzY1NTEzODA3Nl0sCiAgICAgICAgICAgICAgICB7CiAgImJ1YmJsaW5nTW91c2VFdmVudHMiOiB0cnVlLAogICJjb2xvciI6ICJibHVlIiwKICAiZGFzaEFycmF5IjogbnVsbCwKICAiZGFzaE9mZnNldCI6IG51bGwsCiAgImZpbGwiOiB0cnVlLAogICJmaWxsQ29sb3IiOiAiYmx1ZSIsCiAgImZpbGxPcGFjaXR5IjogMC42LAogICJmaWxsUnVsZSI6ICJldmVub2RkIiwKICAibGluZUNhcCI6ICJyb3VuZCIsCiAgImxpbmVKb2luIjogInJvdW5kIiwKICAib3BhY2l0eSI6IDEuMCwKICAicmFkaXVzIjogNSwKICAic3Ryb2tlIjogdHJ1ZSwKICAid2VpZ2h0IjogMwp9CiAgICAgICAgICAgICAgICApCiAgICAgICAgICAgICAgICAuYWRkVG8obWFwXzVkYTllNzM4MzFhMTQxMmViMjliODI0NmYyMDYzMTJmKTsKICAgICAgICAgICAgCiAgICAKICAgICAgICAgICAgdmFyIHBvcHVwX2RkYjFjZTkwODA0YTQ0MjVhMDhjNTVmYTUwNGE4OWIzID0gTC5wb3B1cCh7bWF4V2lkdGg6ICcxMDAlJwogICAgICAgICAgICAKICAgICAgICAgICAgfSk7CgogICAgICAgICAgICAKICAgICAgICAgICAgICAgIHZhciBodG1sX2IyODg1MjZiNmFkNjRiNjRiZGNkODliNjUzNjE2NTI1ID0gJChgPGRpdiBpZD0iaHRtbF9iMjg4NTI2YjZhZDY0YjY0YmRjZDg5YjY1MzYxNjUyNSIgc3R5bGU9IndpZHRoOiAxMDAuMCU7IGhlaWdodDogMTAwLjAlOyI+Qm9va3N0b3JlPC9kaXY+YClbMF07CiAgICAgICAgICAgICAgICBwb3B1cF9kZGIxY2U5MDgwNGE0NDI1YTA4YzU1ZmE1MDRhODliMy5zZXRDb250ZW50KGh0bWxfYjI4ODUyNmI2YWQ2NGI2NGJkY2Q4OWI2NTM2MTY1MjUpOwogICAgICAgICAgICAKCiAgICAgICAgICAgIGNpcmNsZV9tYXJrZXJfNThhNzY3ZDFiYWYxNDVmOTlmMGRiZTM1NjkzN2I0Y2YuYmluZFBvcHVwKHBvcHVwX2RkYjFjZTkwODA0YTQ0MjVhMDhjNTVmYTUwNGE4OWIzKQogICAgICAgICAgICA7CgogICAgICAgICAgICAKICAgICAgICAKICAgIAogICAgICAgICAgICB2YXIgY2lyY2xlX21hcmtlcl8xNDE4NjQyM2QwNjA0YjA1ODBhODVhZjdmYTllNjBjMiA9IEwuY2lyY2xlTWFya2VyKAogICAgICAgICAgICAgICAgWzQ1Ljc2NDE5MDM0Mzg0Nzk2LCA0LjgzNDMyNjY4MjAzMjAyMV0sCiAgICAgICAgICAgICAgICB7CiAgImJ1YmJsaW5nTW91c2VFdmVudHMiOiB0cnVlLAogICJjb2xvciI6ICJibHVlIiwKICAiZGFzaEFycmF5IjogbnVsbCwKICAiZGFzaE9mZnNldCI6IG51bGwsCiAgImZpbGwiOiB0cnVlLAogICJmaWxsQ29sb3IiOiAiYmx1ZSIsCiAgImZpbGxPcGFjaXR5IjogMC42LAogICJmaWxsUnVsZSI6ICJldmVub2RkIiwKICAibGluZUNhcCI6ICJyb3VuZCIsCiAgImxpbmVKb2luIjogInJvdW5kIiwKICAib3BhY2l0eSI6IDEuMCwKICAicmFkaXVzIjogNSwKICAic3Ryb2tlIjogdHJ1ZSwKICAid2VpZ2h0IjogMwp9CiAgICAgICAgICAgICAgICApCiAgICAgICAgICAgICAgICAuYWRkVG8obWFwXzVkYTllNzM4MzFhMTQxMmViMjliODI0NmYyMDYzMTJmKTsKICAgICAgICAgICAgCiAgICAKICAgICAgICAgICAgdmFyIHBvcHVwXzE1NzU1N2FhZmU0ZDQ0NTA5ZmM0YWQwNjZjNjIwNTJkID0gTC5wb3B1cCh7bWF4V2lkdGg6ICcxMDAlJwogICAgICAgICAgICAKICAgICAgICAgICAgfSk7CgogICAgICAgICAgICAKICAgICAgICAgICAgICAgIHZhciBodG1sXzYwYTkwZDc5MmMzNjQ2YTBiY2Y4YmJjN2IwYWEzYWE4ID0gJChgPGRpdiBpZD0iaHRtbF82MGE5MGQ3OTJjMzY0NmEwYmNmOGJiYzdiMGFhM2FhOCIgc3R5bGU9IndpZHRoOiAxMDAuMCU7IGhlaWdodDogMTAwLjAlOyI+TXVzZXVtPC9kaXY+YClbMF07CiAgICAgICAgICAgICAgICBwb3B1cF8xNTc1NTdhYWZlNGQ0NDUwOWZjNGFkMDY2YzYyMDUyZC5zZXRDb250ZW50KGh0bWxfNjBhOTBkNzkyYzM2NDZhMGJjZjhiYmM3YjBhYTNhYTgpOwogICAgICAgICAgICAKCiAgICAgICAgICAgIGNpcmNsZV9tYXJrZXJfMTQxODY0MjNkMDYwNGIwNTgwYTg1YWY3ZmE5ZTYwYzIuYmluZFBvcHVwKHBvcHVwXzE1NzU1N2FhZmU0ZDQ0NTA5ZmM0YWQwNjZjNjIwNTJkKQogICAgICAgICAgICA7CgogICAgICAgICAgICAKICAgICAgICAKICAgIAogICAgICAgICAgICB2YXIgY2lyY2xlX21hcmtlcl9iOTY0MjgxY2UzMjc0MWMzYjA1ODRlNzM2MzQwZDRmZSA9IEwuY2lyY2xlTWFya2VyKAogICAgICAgICAgICAgICAgWzQ1Ljc2MzAwMDcsIDQuODM3OTQ4M10sCiAgICAgICAgICAgICAgICB7CiAgImJ1YmJsaW5nTW91c2VFdmVudHMiOiB0cnVlLAogICJjb2xvciI6ICJibHVlIiwKICAiZGFzaEFycmF5IjogbnVsbCwKICAiZGFzaE9mZnNldCI6IG51bGwsCiAgImZpbGwiOiB0cnVlLAogICJmaWxsQ29sb3IiOiAiYmx1ZSIsCiAgImZpbGxPcGFjaXR5IjogMC42LAogICJmaWxsUnVsZSI6ICJldmVub2RkIiwKICAibGluZUNhcCI6ICJyb3VuZCIsCiAgImxpbmVKb2luIjogInJvdW5kIiwKICAib3BhY2l0eSI6IDEuMCwKICAicmFkaXVzIjogNSwKICAic3Ryb2tlIjogdHJ1ZSwKICAid2VpZ2h0IjogMwp9CiAgICAgICAgICAgICAgICApCiAgICAgICAgICAgICAgICAuYWRkVG8obWFwXzVkYTllNzM4MzFhMTQxMmViMjliODI0NmYyMDYzMTJmKTsKICAgICAgICAgICAgCiAgICAKICAgICAgICAgICAgdmFyIHBvcHVwX2IzOGJkOWQ0NzljYjQzNTk4Y2E3NTQ3M2U3MWE3YjJhID0gTC5wb3B1cCh7bWF4V2lkdGg6ICcxMDAlJwogICAgICAgICAgICAKICAgICAgICAgICAgfSk7CgogICAgICAgICAgICAKICAgICAgICAgICAgICAgIHZhciBodG1sXzZiZmYxMjI3NWQwNTQ1MzJiZjU2NzZiYzdiNGU2MDMxID0gJChgPGRpdiBpZD0iaHRtbF82YmZmMTIyNzVkMDU0NTMyYmY1Njc2YmM3YjRlNjAzMSIgc3R5bGU9IndpZHRoOiAxMDAuMCU7IGhlaWdodDogMTAwLjAlOyI+QW1lcmljYW4gUmVzdGF1cmFudDwvZGl2PmApWzBdOwogICAgICAgICAgICAgICAgcG9wdXBfYjM4YmQ5ZDQ3OWNiNDM1OThjYTc1NDczZTcxYTdiMmEuc2V0Q29udGVudChodG1sXzZiZmYxMjI3NWQwNTQ1MzJiZjU2NzZiYzdiNGU2MDMxKTsKICAgICAgICAgICAgCgogICAgICAgICAgICBjaXJjbGVfbWFya2VyX2I5NjQyODFjZTMyNzQxYzNiMDU4NGU3MzYzNDBkNGZlLmJpbmRQb3B1cChwb3B1cF9iMzhiZDlkNDc5Y2I0MzU5OGNhNzU0NzNlNzFhN2IyYSkKICAgICAgICAgICAgOwoKICAgICAgICAgICAgCiAgICAgICAgCiAgICAKICAgICAgICAgICAgdmFyIGNpcmNsZV9tYXJrZXJfNmI4YmZkNjUwZjM4NDJjNzhjMzJmMDE4MDI1ODAyM2MgPSBMLmNpcmNsZU1hcmtlcigKICAgICAgICAgICAgICAgIFs0NS43NTYyNTcwODM4NjU2NCwgNC44MzU1OTIyODIwNzE1NjddLAogICAgICAgICAgICAgICAgewogICJidWJibGluZ01vdXNlRXZlbnRzIjogdHJ1ZSwKICAiY29sb3IiOiAiYmx1ZSIsCiAgImRhc2hBcnJheSI6IG51bGwsCiAgImRhc2hPZmZzZXQiOiBudWxsLAogICJmaWxsIjogdHJ1ZSwKICAiZmlsbENvbG9yIjogImJsdWUiLAogICJmaWxsT3BhY2l0eSI6IDAuNiwKICAiZmlsbFJ1bGUiOiAiZXZlbm9kZCIsCiAgImxpbmVDYXAiOiAicm91bmQiLAogICJsaW5lSm9pbiI6ICJyb3VuZCIsCiAgIm9wYWNpdHkiOiAxLjAsCiAgInJhZGl1cyI6IDUsCiAgInN0cm9rZSI6IHRydWUsCiAgIndlaWdodCI6IDMKfQogICAgICAgICAgICAgICAgKQogICAgICAgICAgICAgICAgLmFkZFRvKG1hcF81ZGE5ZTczODMxYTE0MTJlYjI5YjgyNDZmMjA2MzEyZik7CiAgICAgICAgICAgIAogICAgCiAgICAgICAgICAgIHZhciBwb3B1cF8zYzk5MDU3MzhmZGM0OGFkYWI0Yjk3ZDU2MmI1YWNhMSA9IEwucG9wdXAoe21heFdpZHRoOiAnMTAwJScKICAgICAgICAgICAgCiAgICAgICAgICAgIH0pOwoKICAgICAgICAgICAgCiAgICAgICAgICAgICAgICB2YXIgaHRtbF81YTcxNDNiOTg5ZjM0YzMxYThjZGZlOGIxNmY1NTQ5ZiA9ICQoYDxkaXYgaWQ9Imh0bWxfNWE3MTQzYjk4OWYzNGMzMWE4Y2RmZThiMTZmNTU0OWYiIHN0eWxlPSJ3aWR0aDogMTAwLjAlOyBoZWlnaHQ6IDEwMC4wJTsiPkZyZW5jaCBSZXN0YXVyYW50PC9kaXY+YClbMF07CiAgICAgICAgICAgICAgICBwb3B1cF8zYzk5MDU3MzhmZGM0OGFkYWI0Yjk3ZDU2MmI1YWNhMS5zZXRDb250ZW50KGh0bWxfNWE3MTQzYjk4OWYzNGMzMWE4Y2RmZThiMTZmNTU0OWYpOwogICAgICAgICAgICAKCiAgICAgICAgICAgIGNpcmNsZV9tYXJrZXJfNmI4YmZkNjUwZjM4NDJjNzhjMzJmMDE4MDI1ODAyM2MuYmluZFBvcHVwKHBvcHVwXzNjOTkwNTczOGZkYzQ4YWRhYjRiOTdkNTYyYjVhY2ExKQogICAgICAgICAgICA7CgogICAgICAgICAgICAKICAgICAgICAKICAgIAogICAgICAgICAgICB2YXIgY2lyY2xlX21hcmtlcl82NmM4N2M2MTQ1NWQ0YTIyYWJkYWY1NGI0NmQyNmIyNiA9IEwuY2lyY2xlTWFya2VyKAogICAgICAgICAgICAgICAgWzQ1Ljc2MjAyOCwgNC44MzQ3MDddLAogICAgICAgICAgICAgICAgewogICJidWJibGluZ01vdXNlRXZlbnRzIjogdHJ1ZSwKICAiY29sb3IiOiAiYmx1ZSIsCiAgImRhc2hBcnJheSI6IG51bGwsCiAgImRhc2hPZmZzZXQiOiBudWxsLAogICJmaWxsIjogdHJ1ZSwKICAiZmlsbENvbG9yIjogImJsdWUiLAogICJmaWxsT3BhY2l0eSI6IDAuNiwKICAiZmlsbFJ1bGUiOiAiZXZlbm9kZCIsCiAgImxpbmVDYXAiOiAicm91bmQiLAogICJsaW5lSm9pbiI6ICJyb3VuZCIsCiAgIm9wYWNpdHkiOiAxLjAsCiAgInJhZGl1cyI6IDUsCiAgInN0cm9rZSI6IHRydWUsCiAgIndlaWdodCI6IDMKfQogICAgICAgICAgICAgICAgKQogICAgICAgICAgICAgICAgLmFkZFRvKG1hcF81ZGE5ZTczODMxYTE0MTJlYjI5YjgyNDZmMjA2MzEyZik7CiAgICAgICAgICAgIAogICAgCiAgICAgICAgICAgIHZhciBwb3B1cF8yMDU1Y2JlYmQxOWU0ZTRlYTI3N2JlYTIzNzkxYjY2NyA9IEwucG9wdXAoe21heFdpZHRoOiAnMTAwJScKICAgICAgICAgICAgCiAgICAgICAgICAgIH0pOwoKICAgICAgICAgICAgCiAgICAgICAgICAgICAgICB2YXIgaHRtbF81YzUwNjhmOWI4OTA0NWE5YTRhNjkwNmIzMzI4OGE5MSA9ICQoYDxkaXYgaWQ9Imh0bWxfNWM1MDY4ZjliODkwNDVhOWE0YTY5MDZiMzMyODhhOTEiIHN0eWxlPSJ3aWR0aDogMTAwLjAlOyBoZWlnaHQ6IDEwMC4wJTsiPlRlYSBSb29tPC9kaXY+YClbMF07CiAgICAgICAgICAgICAgICBwb3B1cF8yMDU1Y2JlYmQxOWU0ZTRlYTI3N2JlYTIzNzkxYjY2Ny5zZXRDb250ZW50KGh0bWxfNWM1MDY4ZjliODkwNDVhOWE0YTY5MDZiMzMyODhhOTEpOwogICAgICAgICAgICAKCiAgICAgICAgICAgIGNpcmNsZV9tYXJrZXJfNjZjODdjNjE0NTVkNGEyMmFiZGFmNTRiNDZkMjZiMjYuYmluZFBvcHVwKHBvcHVwXzIwNTVjYmViZDE5ZTRlNGVhMjc3YmVhMjM3OTFiNjY3KQogICAgICAgICAgICA7CgogICAgICAgICAgICAKICAgICAgICAKICAgIAogICAgICAgICAgICB2YXIgY2lyY2xlX21hcmtlcl8wMzQwYjlhYWI4ZWI0OTE3ODBhNGJiMWM0NWI1YzQ5MSA9IEwuY2lyY2xlTWFya2VyKAogICAgICAgICAgICAgICAgWzQ1Ljc2Mzg5MTcwMTA4ODk3LCA0LjgzNDU4NzQxNDAxMjIxOF0sCiAgICAgICAgICAgICAgICB7CiAgImJ1YmJsaW5nTW91c2VFdmVudHMiOiB0cnVlLAogICJjb2xvciI6ICJibHVlIiwKICAiZGFzaEFycmF5IjogbnVsbCwKICAiZGFzaE9mZnNldCI6IG51bGwsCiAgImZpbGwiOiB0cnVlLAogICJmaWxsQ29sb3IiOiAiYmx1ZSIsCiAgImZpbGxPcGFjaXR5IjogMC42LAogICJmaWxsUnVsZSI6ICJldmVub2RkIiwKICAibGluZUNhcCI6ICJyb3VuZCIsCiAgImxpbmVKb2luIjogInJvdW5kIiwKICAib3BhY2l0eSI6IDEuMCwKICAicmFkaXVzIjogNSwKICAic3Ryb2tlIjogdHJ1ZSwKICAid2VpZ2h0IjogMwp9CiAgICAgICAgICAgICAgICApCiAgICAgICAgICAgICAgICAuYWRkVG8obWFwXzVkYTllNzM4MzFhMTQxMmViMjliODI0NmYyMDYzMTJmKTsKICAgICAgICAgICAgCiAgICAKICAgICAgICAgICAgdmFyIHBvcHVwXzI3NmE4OWI3Mjc0NTRmYWViYWUwOTJlZDAzYjBkMmU4ID0gTC5wb3B1cCh7bWF4V2lkdGg6ICcxMDAlJwogICAgICAgICAgICAKICAgICAgICAgICAgfSk7CgogICAgICAgICAgICAKICAgICAgICAgICAgICAgIHZhciBodG1sXzNkN2Y0MjhmZmM2NjQ5MmQ5MmI4NGVlMjRiODFkZDgzID0gJChgPGRpdiBpZD0iaHRtbF8zZDdmNDI4ZmZjNjY0OTJkOTJiODRlZTI0YjgxZGQ4MyIgc3R5bGU9IndpZHRoOiAxMDAuMCU7IGhlaWdodDogMTAwLjAlOyI+SmFwYW5lc2UgUmVzdGF1cmFudDwvZGl2PmApWzBdOwogICAgICAgICAgICAgICAgcG9wdXBfMjc2YTg5YjcyNzQ1NGZhZWJhZTA5MmVkMDNiMGQyZTguc2V0Q29udGVudChodG1sXzNkN2Y0MjhmZmM2NjQ5MmQ5MmI4NGVlMjRiODFkZDgzKTsKICAgICAgICAgICAgCgogICAgICAgICAgICBjaXJjbGVfbWFya2VyXzAzNDBiOWFhYjhlYjQ5MTc4MGE0YmIxYzQ1YjVjNDkxLmJpbmRQb3B1cChwb3B1cF8yNzZhODliNzI3NDU0ZmFlYmFlMDkyZWQwM2IwZDJlOCkKICAgICAgICAgICAgOwoKICAgICAgICAgICAgCiAgICAgICAgCiAgICAKICAgICAgICAgICAgdmFyIGNpcmNsZV9tYXJrZXJfZGZhOWM5YjEyZTkxNGI2Mjg3NzFjNzUwNGMzYzZkNzcgPSBMLmNpcmNsZU1hcmtlcigKICAgICAgICAgICAgICAgIFs0NS43NjQwNDUsIDQuODMyNDA2XSwKICAgICAgICAgICAgICAgIHsKICAiYnViYmxpbmdNb3VzZUV2ZW50cyI6IHRydWUsCiAgImNvbG9yIjogImJsdWUiLAogICJkYXNoQXJyYXkiOiBudWxsLAogICJkYXNoT2Zmc2V0IjogbnVsbCwKICAiZmlsbCI6IHRydWUsCiAgImZpbGxDb2xvciI6ICJibHVlIiwKICAiZmlsbE9wYWNpdHkiOiAwLjYsCiAgImZpbGxSdWxlIjogImV2ZW5vZGQiLAogICJsaW5lQ2FwIjogInJvdW5kIiwKICAibGluZUpvaW4iOiAicm91bmQiLAogICJvcGFjaXR5IjogMS4wLAogICJyYWRpdXMiOiA1LAogICJzdHJva2UiOiB0cnVlLAogICJ3ZWlnaHQiOiAzCn0KICAgICAgICAgICAgICAgICkKICAgICAgICAgICAgICAgIC5hZGRUbyhtYXBfNWRhOWU3MzgzMWExNDEyZWIyOWI4MjQ2ZjIwNjMxMmYpOwogICAgICAgICAgICAKICAgIAogICAgICAgICAgICB2YXIgcG9wdXBfZTkyNzg5NjM5M2U2NGY4YmFjMjYyOWZiY2YxMjA3ZDMgPSBMLnBvcHVwKHttYXhXaWR0aDogJzEwMCUnCiAgICAgICAgICAgIAogICAgICAgICAgICB9KTsKCiAgICAgICAgICAgIAogICAgICAgICAgICAgICAgdmFyIGh0bWxfNGQ1MGNiOTZjOTNjNDBmYTk0NjJhOTY1YzU0ODk5NzYgPSAkKGA8ZGl2IGlkPSJodG1sXzRkNTBjYjk2YzkzYzQwZmE5NDYyYTk2NWM1NDg5OTc2IiBzdHlsZT0id2lkdGg6IDEwMC4wJTsgaGVpZ2h0OiAxMDAuMCU7Ij5UYWNvIFBsYWNlPC9kaXY+YClbMF07CiAgICAgICAgICAgICAgICBwb3B1cF9lOTI3ODk2MzkzZTY0ZjhiYWMyNjI5ZmJjZjEyMDdkMy5zZXRDb250ZW50KGh0bWxfNGQ1MGNiOTZjOTNjNDBmYTk0NjJhOTY1YzU0ODk5NzYpOwogICAgICAgICAgICAKCiAgICAgICAgICAgIGNpcmNsZV9tYXJrZXJfZGZhOWM5YjEyZTkxNGI2Mjg3NzFjNzUwNGMzYzZkNzcuYmluZFBvcHVwKHBvcHVwX2U5Mjc4OTYzOTNlNjRmOGJhYzI2MjlmYmNmMTIwN2QzKQogICAgICAgICAgICA7CgogICAgICAgICAgICAKICAgICAgICAKPC9zY3JpcHQ+\" style=\"position:absolute;width:100%;height:100%;left:0;top:0;border:none !important;\" allowfullscreen webkitallowfullscreen mozallowfullscreen></iframe></div></div>"
      ],
      "text/plain": [
       "<folium.folium.Map at 0x2773ca10f60>"
      ]
     },
     "execution_count": 204,
     "metadata": {},
     "output_type": "execute_result"
    }
   ],
   "source": [
    "\n",
    "qa_venues_map = folium.Map(location=[qa_lat, qa_lng], zoom_start=16, tiles=tileset, attr=attribution)\n",
    "\n",
    "\n",
    "folium.CircleMarker(\n",
    "    [qa_lat,qa_lng],\n",
    "    radius=10,\n",
    "    color='red',\n",
    "    popup='Rue Gasparin',\n",
    "    fill=True,\n",
    "    fill_color= 'red',\n",
    "    fill_opacity = 0.6\n",
    ").add_to(qa_venues_map)\n",
    "\n",
    "\n",
    "for lat, lng, label in zip(qa_nearby_venues.lat, qa_nearby_venues.lng, qa_nearby_venues.categories):\n",
    "    folium.CircleMarker(\n",
    "        [lat, lng],\n",
    "        radius = 5,\n",
    "        color='blue',\n",
    "        popup=label,\n",
    "        fill=True,\n",
    "        fill_color='blue',\n",
    "        fill_opacity=0.6\n",
    "    ).add_to(qa_venues_map)\n",
    "    \n",
    "qa_venues_map"
   ]
  },
  {
   "cell_type": "markdown",
   "metadata": {},
   "source": [
    "### Explorer le quartier"
   ]
  },
  {
   "cell_type": "code",
   "execution_count": 149,
   "metadata": {},
   "outputs": [
    {
     "data": {
      "text/plain": [
       "37"
      ]
     },
     "execution_count": 149,
     "metadata": {},
     "output_type": "execute_result"
    }
   ],
   "source": [
    "qa_unique = qa_nearby_venues['categories'].unique()\n",
    "qa_nearby_venues['categories'].nunique()"
   ]
  },
  {
   "cell_type": "markdown",
   "metadata": {},
   "source": [
    " Rue Gasparin dispose de 39 types de \"venues\" différents."
   ]
  },
  {
   "cell_type": "code",
   "execution_count": 150,
   "metadata": {},
   "outputs": [
    {
     "name": "stdout",
     "output_type": "stream",
     "text": [
      "Emplacement en Lyon et Emplacement en Paris:  \n",
      " ['Plaza', 'Café', 'Italian Restaurant', 'Hotel', 'Pub', 'French Restaurant', 'Bar', 'Coffee Shop', 'Seafood Restaurant', 'Ice Cream Shop', 'Historic Site', 'Cupcake Shop', 'Lebanese Restaurant', 'Bookstore', 'Museum', 'Japanese Restaurant', 'Taco Place']\n",
      "\n",
      "\n",
      "Emplacement en Lyon:  \n",
      " ['Farmers Market', 'Theater', 'Restaurant', 'Dessert Shop', 'Bagel Shop', 'Sushi Restaurant', 'Clothing Store', 'Resort', 'Gastropub', 'Donut Shop', 'Burger Joint', 'Theme Park', 'Department Store', 'Road', 'Chocolate Shop', 'Church', 'Beer Bar', 'Comedy Club', 'American Restaurant', 'Tea Room']\n",
      "\n",
      "\n",
      "Emplacement en Paris:  \n",
      " ['Indie Movie Theater', 'Wine Bar', 'Bakery', 'Mexican Restaurant', 'Miscellaneous Shop', 'Pastry Shop', 'Diner', 'Bistro', 'Cheese Shop', 'Trail', 'Pool', 'Basque Restaurant', 'Hobby Shop', 'Portuguese Restaurant', 'Ethiopian Restaurant', 'Liquor Store', 'Wine Shop', 'Tapas Restaurant', 'Park', 'Noodle House', 'Breakfast Spot', 'Creperie', 'Vegetarian / Vegan Restaurant', 'Vietnamese Restaurant', 'Spanish Restaurant', 'Syrian Restaurant', 'Middle Eastern Restaurant']\n"
     ]
    }
   ],
   "source": [
    "qa_wp_same = []\n",
    "qa_has = []\n",
    "for x in qa_unique:\n",
    "    if x in wp_unique:\n",
    "        qa_wp_same.append(x)\n",
    "    else:\n",
    "        qa_has.append(x)\n",
    "print('Emplacement en Lyon et Emplacement en Paris: ', '\\n', qa_wp_same)\n",
    "print('\\n')\n",
    "print('Emplacement en Lyon: ', '\\n', qa_has)\n",
    "\n",
    "wp_has = []\n",
    "for x in wp_unique:\n",
    "    if x in qa_unique:\n",
    "        continue\n",
    "    else:\n",
    "        wp_has.append(x)\n",
    "print('\\n')\n",
    "print('Emplacement en Paris: ', '\\n', wp_has)"
   ]
  },
  {
   "cell_type": "markdown",
   "metadata": {},
   "source": [
    "Ci-dessus, nous pouvons voir qu'il y a beaucoup plus de types de \"venues\" différents dans le quartier en Paris que dans Lyon. Cela suggère qu'il y a plus de variété à Paris qu'à Lyon."
   ]
  },
  {
   "cell_type": "code",
   "execution_count": 151,
   "metadata": {},
   "outputs": [
    {
     "data": {
      "text/plain": [
       "categories\n",
       "French Restaurant     7\n",
       "Plaza                 6\n",
       "Café                  5\n",
       "Hotel                 4\n",
       "Italian Restaurant    3\n",
       "Clothing Store        2\n",
       "Bar                   2\n",
       "Sushi Restaurant      2\n",
       "Burger Joint          2\n",
       "Resort                2\n",
       "Name: name, dtype: int64"
      ]
     },
     "execution_count": 151,
     "metadata": {},
     "output_type": "execute_result"
    }
   ],
   "source": [
    "qa_nearby_venues.groupby('categories').count()['name'].sort_values(ascending=False).head(10)"
   ]
  },
  {
   "cell_type": "markdown",
   "metadata": {},
   "source": [
    "Les catégories de \"venues\" sont énumérées la plus fréquente à la liste. Nous listons ici le top 10."
   ]
  },
  {
   "cell_type": "markdown",
   "metadata": {},
   "source": [
    "###  Rue Gasparin, 69002 Lyon, tarifs et likes"
   ]
  },
  {
   "cell_type": "markdown",
   "metadata": {},
   "source": [
    "Jetons un coup d'œil à 15 venues sites et à son prix et likes avoir pour une idée del quartier."
   ]
  },
  {
   "cell_type": "code",
   "execution_count": 152,
   "metadata": {},
   "outputs": [],
   "source": [
    "qa_venue_info = get_venue_info(qa_nearby_venues['id'])"
   ]
  },
  {
   "cell_type": "code",
   "execution_count": 153,
   "metadata": {},
   "outputs": [
    {
     "data": {
      "text/plain": [
       "[['Place des Jacobins', 'Not Available', 198],\n",
       " ['Place des Célestins', 'Not Available', 38],\n",
       " ['Place de la République', 'Not Available', 127],\n",
       " ['Slake Coffee House', {'tier': 1, 'message': 'Cheap', 'currency': '€'}, 148],\n",
       " ['Marché Saint-Antoine', 'Not Available', 77],\n",
       " ['Mozzato - Comptoir à Mozzarella',\n",
       "  {'tier': 2, 'message': 'Moderate', 'currency': '€'},\n",
       "  64],\n",
       " ['Place Bellecour', 'Not Available', 516],\n",
       " ['Théâtre des Célestins', 'Not Available', 26],\n",
       " [\"L'Épicerie - Bistrot à Tartines\",\n",
       "  {'tier': 2, 'message': 'Moderate', 'currency': '€'},\n",
       "  185],\n",
       " ['Pignol Patissier & Restaurant',\n",
       "  {'tier': 1, 'message': 'Cheap', 'currency': '€'},\n",
       "  23],\n",
       " ['Mercure Lyon Centre Beaux-Arts', 'Not Available', 44],\n",
       " ['Best Bagels Company',\n",
       "  {'tier': 2, 'message': 'Moderate', 'currency': '€'},\n",
       "  74],\n",
       " ['MOS - Maker of Stories',\n",
       "  {'tier': 1, 'message': 'Cheap', 'currency': '€'},\n",
       "  6],\n",
       " ['Gangnam', {'tier': 2, 'message': 'Moderate', 'currency': '€'}, 10],\n",
       " ['La Voûte Chez Léa',\n",
       "  {'tier': 3, 'message': 'Expensive', 'currency': '€'},\n",
       "  7]]"
      ]
     },
     "execution_count": 153,
     "metadata": {},
     "output_type": "execute_result"
    }
   ],
   "source": [
    "qa_venue_info"
   ]
  },
  {
   "cell_type": "code",
   "execution_count": 154,
   "metadata": {},
   "outputs": [
    {
     "data": {
      "text/html": [
       "<div>\n",
       "<style scoped>\n",
       "    .dataframe tbody tr th:only-of-type {\n",
       "        vertical-align: middle;\n",
       "    }\n",
       "\n",
       "    .dataframe tbody tr th {\n",
       "        vertical-align: top;\n",
       "    }\n",
       "\n",
       "    .dataframe thead th {\n",
       "        text-align: right;\n",
       "    }\n",
       "</style>\n",
       "<table border=\"1\" class=\"dataframe\">\n",
       "  <thead>\n",
       "    <tr style=\"text-align: right;\">\n",
       "      <th></th>\n",
       "      <th>name</th>\n",
       "      <th>price_tier</th>\n",
       "      <th>likes</th>\n",
       "    </tr>\n",
       "  </thead>\n",
       "  <tbody>\n",
       "    <tr>\n",
       "      <th>0</th>\n",
       "      <td>Place des Jacobins</td>\n",
       "      <td>Not Available</td>\n",
       "      <td>198</td>\n",
       "    </tr>\n",
       "    <tr>\n",
       "      <th>1</th>\n",
       "      <td>Place des Célestins</td>\n",
       "      <td>Not Available</td>\n",
       "      <td>38</td>\n",
       "    </tr>\n",
       "    <tr>\n",
       "      <th>2</th>\n",
       "      <td>Place de la République</td>\n",
       "      <td>Not Available</td>\n",
       "      <td>127</td>\n",
       "    </tr>\n",
       "    <tr>\n",
       "      <th>3</th>\n",
       "      <td>Slake Coffee House</td>\n",
       "      <td>{'tier': 1, 'message': 'Cheap', 'currency': '€'}</td>\n",
       "      <td>148</td>\n",
       "    </tr>\n",
       "    <tr>\n",
       "      <th>4</th>\n",
       "      <td>Marché Saint-Antoine</td>\n",
       "      <td>Not Available</td>\n",
       "      <td>77</td>\n",
       "    </tr>\n",
       "    <tr>\n",
       "      <th>5</th>\n",
       "      <td>Mozzato - Comptoir à Mozzarella</td>\n",
       "      <td>{'tier': 2, 'message': 'Moderate', 'currency':...</td>\n",
       "      <td>64</td>\n",
       "    </tr>\n",
       "    <tr>\n",
       "      <th>6</th>\n",
       "      <td>Place Bellecour</td>\n",
       "      <td>Not Available</td>\n",
       "      <td>516</td>\n",
       "    </tr>\n",
       "    <tr>\n",
       "      <th>7</th>\n",
       "      <td>Théâtre des Célestins</td>\n",
       "      <td>Not Available</td>\n",
       "      <td>26</td>\n",
       "    </tr>\n",
       "    <tr>\n",
       "      <th>8</th>\n",
       "      <td>L'Épicerie - Bistrot à Tartines</td>\n",
       "      <td>{'tier': 2, 'message': 'Moderate', 'currency':...</td>\n",
       "      <td>185</td>\n",
       "    </tr>\n",
       "    <tr>\n",
       "      <th>9</th>\n",
       "      <td>Pignol Patissier &amp; Restaurant</td>\n",
       "      <td>{'tier': 1, 'message': 'Cheap', 'currency': '€'}</td>\n",
       "      <td>23</td>\n",
       "    </tr>\n",
       "    <tr>\n",
       "      <th>10</th>\n",
       "      <td>Mercure Lyon Centre Beaux-Arts</td>\n",
       "      <td>Not Available</td>\n",
       "      <td>44</td>\n",
       "    </tr>\n",
       "    <tr>\n",
       "      <th>11</th>\n",
       "      <td>Best Bagels Company</td>\n",
       "      <td>{'tier': 2, 'message': 'Moderate', 'currency':...</td>\n",
       "      <td>74</td>\n",
       "    </tr>\n",
       "    <tr>\n",
       "      <th>12</th>\n",
       "      <td>MOS - Maker of Stories</td>\n",
       "      <td>{'tier': 1, 'message': 'Cheap', 'currency': '€'}</td>\n",
       "      <td>6</td>\n",
       "    </tr>\n",
       "    <tr>\n",
       "      <th>13</th>\n",
       "      <td>Gangnam</td>\n",
       "      <td>{'tier': 2, 'message': 'Moderate', 'currency':...</td>\n",
       "      <td>10</td>\n",
       "    </tr>\n",
       "    <tr>\n",
       "      <th>14</th>\n",
       "      <td>La Voûte Chez Léa</td>\n",
       "      <td>{'tier': 3, 'message': 'Expensive', 'currency'...</td>\n",
       "      <td>7</td>\n",
       "    </tr>\n",
       "  </tbody>\n",
       "</table>\n",
       "</div>"
      ],
      "text/plain": [
       "                               name  \\\n",
       "0                Place des Jacobins   \n",
       "1               Place des Célestins   \n",
       "2            Place de la République   \n",
       "3                Slake Coffee House   \n",
       "4              Marché Saint-Antoine   \n",
       "5   Mozzato - Comptoir à Mozzarella   \n",
       "6                   Place Bellecour   \n",
       "7             Théâtre des Célestins   \n",
       "8   L'Épicerie - Bistrot à Tartines   \n",
       "9     Pignol Patissier & Restaurant   \n",
       "10   Mercure Lyon Centre Beaux-Arts   \n",
       "11              Best Bagels Company   \n",
       "12           MOS - Maker of Stories   \n",
       "13                          Gangnam   \n",
       "14                La Voûte Chez Léa   \n",
       "\n",
       "                                           price_tier  likes  \n",
       "0                                       Not Available    198  \n",
       "1                                       Not Available     38  \n",
       "2                                       Not Available    127  \n",
       "3    {'tier': 1, 'message': 'Cheap', 'currency': '€'}    148  \n",
       "4                                       Not Available     77  \n",
       "5   {'tier': 2, 'message': 'Moderate', 'currency':...     64  \n",
       "6                                       Not Available    516  \n",
       "7                                       Not Available     26  \n",
       "8   {'tier': 2, 'message': 'Moderate', 'currency':...    185  \n",
       "9    {'tier': 1, 'message': 'Cheap', 'currency': '€'}     23  \n",
       "10                                      Not Available     44  \n",
       "11  {'tier': 2, 'message': 'Moderate', 'currency':...     74  \n",
       "12   {'tier': 1, 'message': 'Cheap', 'currency': '€'}      6  \n",
       "13  {'tier': 2, 'message': 'Moderate', 'currency':...     10  \n",
       "14  {'tier': 3, 'message': 'Expensive', 'currency'...      7  "
      ]
     },
     "execution_count": 154,
     "metadata": {},
     "output_type": "execute_result"
    }
   ],
   "source": [
    "qa_df = pd.DataFrame(qa_venue_info, columns=['name', 'price_tier', 'likes'])\n",
    "qa_df    "
   ]
  },
  {
   "cell_type": "code",
   "execution_count": 155,
   "metadata": {},
   "outputs": [
    {
     "data": {
      "text/html": [
       "<div>\n",
       "<style scoped>\n",
       "    .dataframe tbody tr th:only-of-type {\n",
       "        vertical-align: middle;\n",
       "    }\n",
       "\n",
       "    .dataframe tbody tr th {\n",
       "        vertical-align: top;\n",
       "    }\n",
       "\n",
       "    .dataframe thead th {\n",
       "        text-align: right;\n",
       "    }\n",
       "</style>\n",
       "<table border=\"1\" class=\"dataframe\">\n",
       "  <thead>\n",
       "    <tr style=\"text-align: right;\">\n",
       "      <th></th>\n",
       "      <th>name</th>\n",
       "      <th>price_tier</th>\n",
       "      <th>likes</th>\n",
       "    </tr>\n",
       "  </thead>\n",
       "  <tbody>\n",
       "    <tr>\n",
       "      <th>6</th>\n",
       "      <td>Place Bellecour</td>\n",
       "      <td>None</td>\n",
       "      <td>516</td>\n",
       "    </tr>\n",
       "    <tr>\n",
       "      <th>0</th>\n",
       "      <td>Place des Jacobins</td>\n",
       "      <td>None</td>\n",
       "      <td>198</td>\n",
       "    </tr>\n",
       "    <tr>\n",
       "      <th>8</th>\n",
       "      <td>L'Épicerie - Bistrot à Tartines</td>\n",
       "      <td>Moderate</td>\n",
       "      <td>185</td>\n",
       "    </tr>\n",
       "    <tr>\n",
       "      <th>3</th>\n",
       "      <td>Slake Coffee House</td>\n",
       "      <td>Cheap</td>\n",
       "      <td>148</td>\n",
       "    </tr>\n",
       "    <tr>\n",
       "      <th>2</th>\n",
       "      <td>Place de la République</td>\n",
       "      <td>None</td>\n",
       "      <td>127</td>\n",
       "    </tr>\n",
       "    <tr>\n",
       "      <th>4</th>\n",
       "      <td>Marché Saint-Antoine</td>\n",
       "      <td>None</td>\n",
       "      <td>77</td>\n",
       "    </tr>\n",
       "    <tr>\n",
       "      <th>11</th>\n",
       "      <td>Best Bagels Company</td>\n",
       "      <td>Moderate</td>\n",
       "      <td>74</td>\n",
       "    </tr>\n",
       "    <tr>\n",
       "      <th>5</th>\n",
       "      <td>Mozzato - Comptoir à Mozzarella</td>\n",
       "      <td>Moderate</td>\n",
       "      <td>64</td>\n",
       "    </tr>\n",
       "    <tr>\n",
       "      <th>10</th>\n",
       "      <td>Mercure Lyon Centre Beaux-Arts</td>\n",
       "      <td>None</td>\n",
       "      <td>44</td>\n",
       "    </tr>\n",
       "    <tr>\n",
       "      <th>1</th>\n",
       "      <td>Place des Célestins</td>\n",
       "      <td>None</td>\n",
       "      <td>38</td>\n",
       "    </tr>\n",
       "    <tr>\n",
       "      <th>7</th>\n",
       "      <td>Théâtre des Célestins</td>\n",
       "      <td>None</td>\n",
       "      <td>26</td>\n",
       "    </tr>\n",
       "    <tr>\n",
       "      <th>9</th>\n",
       "      <td>Pignol Patissier &amp; Restaurant</td>\n",
       "      <td>Cheap</td>\n",
       "      <td>23</td>\n",
       "    </tr>\n",
       "    <tr>\n",
       "      <th>13</th>\n",
       "      <td>Gangnam</td>\n",
       "      <td>Moderate</td>\n",
       "      <td>10</td>\n",
       "    </tr>\n",
       "    <tr>\n",
       "      <th>14</th>\n",
       "      <td>La Voûte Chez Léa</td>\n",
       "      <td>Expensive</td>\n",
       "      <td>7</td>\n",
       "    </tr>\n",
       "    <tr>\n",
       "      <th>12</th>\n",
       "      <td>MOS - Maker of Stories</td>\n",
       "      <td>Cheap</td>\n",
       "      <td>6</td>\n",
       "    </tr>\n",
       "  </tbody>\n",
       "</table>\n",
       "</div>"
      ],
      "text/plain": [
       "                               name price_tier  likes\n",
       "6                   Place Bellecour       None    516\n",
       "0                Place des Jacobins       None    198\n",
       "8   L'Épicerie - Bistrot à Tartines   Moderate    185\n",
       "3                Slake Coffee House      Cheap    148\n",
       "2            Place de la République       None    127\n",
       "4              Marché Saint-Antoine       None     77\n",
       "11              Best Bagels Company   Moderate     74\n",
       "5   Mozzato - Comptoir à Mozzarella   Moderate     64\n",
       "10   Mercure Lyon Centre Beaux-Arts       None     44\n",
       "1               Place des Célestins       None     38\n",
       "7             Théâtre des Célestins       None     26\n",
       "9     Pignol Patissier & Restaurant      Cheap     23\n",
       "13                          Gangnam   Moderate     10\n",
       "14                La Voûte Chez Léa  Expensive      7\n",
       "12           MOS - Maker of Stories      Cheap      6"
      ]
     },
     "execution_count": 155,
     "metadata": {},
     "output_type": "execute_result"
    }
   ],
   "source": [
    "qa_df['price_tier'] = qa_df.apply(get_price_tier, axis=1)\n",
    "qa_df.sort_values('likes', ascending=False)"
   ]
  },
  {
   "cell_type": "markdown",
   "metadata": {},
   "source": [
    "Il semble que ce quartier de Lyon soit plus attractif pour les touristes, cependant il a des locaux plus chers par rapport à Paris"
   ]
  },
  {
   "cell_type": "markdown",
   "metadata": {},
   "source": [
    "### Importer les données de localisation de Marseille depuis l'API Foursquare"
   ]
  },
  {
   "cell_type": "code",
   "execution_count": 11,
   "metadata": {},
   "outputs": [
    {
     "name": "stdout",
     "output_type": "stream",
     "text": [
      "2 Rue du Chevalier Roze 13002 Marseille, France:  43.2973801 5.3724761\n"
     ]
    }
   ],
   "source": [
    "address = '2 Rue du Chevalier Roze 13002 Marseille, France'\n",
    "\n",
    "ch_geolocator = Nominatim(user_agent='foursquare_agent')\n",
    "ch_location = ch_geolocator.geocode(address)\n",
    "ch_lat = ch_location.latitude\n",
    "ch_lng = ch_location.longitude\n",
    "\n",
    "print('2 Rue du Chevalier Roze 13002 Marseille, France: ', ch_lat, ch_lng)"
   ]
  },
  {
   "cell_type": "code",
   "execution_count": 12,
   "metadata": {},
   "outputs": [
    {
     "name": "stdout",
     "output_type": "stream",
     "text": [
      "xxxxxx\n"
     ]
    }
   ],
   "source": [
    "ch_url = 'xxxxxx'.format(\n",
    "        CLIENT_ID,\n",
    "        CLIENT_SECRET,\n",
    "        ch_lat,\n",
    "        ch_lng,\n",
    "        VERSION,\n",
    "        radius,\n",
    "        LIMIT\n",
    "        )\n",
    "\n",
    "print(ch_url)"
   ]
  },
  {
   "cell_type": "code",
   "execution_count": 192,
   "metadata": {},
   "outputs": [],
   "source": [
    "ch_results = requests.get(ch_url).json()"
   ]
  },
  {
   "cell_type": "code",
   "execution_count": 193,
   "metadata": {},
   "outputs": [
    {
     "data": {
      "text/html": [
       "<div>\n",
       "<style scoped>\n",
       "    .dataframe tbody tr th:only-of-type {\n",
       "        vertical-align: middle;\n",
       "    }\n",
       "\n",
       "    .dataframe tbody tr th {\n",
       "        vertical-align: top;\n",
       "    }\n",
       "\n",
       "    .dataframe thead th {\n",
       "        text-align: right;\n",
       "    }\n",
       "</style>\n",
       "<table border=\"1\" class=\"dataframe\">\n",
       "  <thead>\n",
       "    <tr style=\"text-align: right;\">\n",
       "      <th></th>\n",
       "      <th>venue.name</th>\n",
       "      <th>venue.id</th>\n",
       "      <th>venue.categories</th>\n",
       "      <th>venue.location.lat</th>\n",
       "      <th>venue.location.lng</th>\n",
       "    </tr>\n",
       "  </thead>\n",
       "  <tbody>\n",
       "    <tr>\n",
       "      <th>0</th>\n",
       "      <td>La Caravelle</td>\n",
       "      <td>4b5b300ef964a520b1e928e3</td>\n",
       "      <td>[{'id': '4bf58dd8d48988d116941735', 'name': 'B...</td>\n",
       "      <td>43.296535</td>\n",
       "      <td>5.372060</td>\n",
       "    </tr>\n",
       "    <tr>\n",
       "      <th>1</th>\n",
       "      <td>Starbucks (Starbucks Coffee)</td>\n",
       "      <td>4bea370a61aca593e7908300</td>\n",
       "      <td>[{'id': '4bf58dd8d48988d1e0931735', 'name': 'C...</td>\n",
       "      <td>43.297847</td>\n",
       "      <td>5.372830</td>\n",
       "    </tr>\n",
       "    <tr>\n",
       "      <th>2</th>\n",
       "      <td>InterContinental Marseille Hôtel-Dieu</td>\n",
       "      <td>50d1943ae4b0fff6c391682b</td>\n",
       "      <td>[{'id': '4bf58dd8d48988d1fa931735', 'name': 'H...</td>\n",
       "      <td>43.298661</td>\n",
       "      <td>5.369779</td>\n",
       "    </tr>\n",
       "    <tr>\n",
       "      <th>3</th>\n",
       "      <td>Les Buvards</td>\n",
       "      <td>4bc57ecfccbcef3b1399e6d2</td>\n",
       "      <td>[{'id': '4bf58dd8d48988d123941735', 'name': 'W...</td>\n",
       "      <td>43.297783</td>\n",
       "      <td>5.371368</td>\n",
       "    </tr>\n",
       "    <tr>\n",
       "      <th>4</th>\n",
       "      <td>Galeries Lafayette</td>\n",
       "      <td>4bbdf9ce078095218635db91</td>\n",
       "      <td>[{'id': '4bf58dd8d48988d1f6941735', 'name': 'D...</td>\n",
       "      <td>43.296544</td>\n",
       "      <td>5.374758</td>\n",
       "    </tr>\n",
       "  </tbody>\n",
       "</table>\n",
       "</div>"
      ],
      "text/plain": [
       "                              venue.name                  venue.id  \\\n",
       "0                           La Caravelle  4b5b300ef964a520b1e928e3   \n",
       "1           Starbucks (Starbucks Coffee)  4bea370a61aca593e7908300   \n",
       "2  InterContinental Marseille Hôtel-Dieu  50d1943ae4b0fff6c391682b   \n",
       "3                            Les Buvards  4bc57ecfccbcef3b1399e6d2   \n",
       "4                     Galeries Lafayette  4bbdf9ce078095218635db91   \n",
       "\n",
       "                                    venue.categories  venue.location.lat  \\\n",
       "0  [{'id': '4bf58dd8d48988d116941735', 'name': 'B...           43.296535   \n",
       "1  [{'id': '4bf58dd8d48988d1e0931735', 'name': 'C...           43.297847   \n",
       "2  [{'id': '4bf58dd8d48988d1fa931735', 'name': 'H...           43.298661   \n",
       "3  [{'id': '4bf58dd8d48988d123941735', 'name': 'W...           43.297783   \n",
       "4  [{'id': '4bf58dd8d48988d1f6941735', 'name': 'D...           43.296544   \n",
       "\n",
       "   venue.location.lng  \n",
       "0            5.372060  \n",
       "1            5.372830  \n",
       "2            5.369779  \n",
       "3            5.371368  \n",
       "4            5.374758  "
      ]
     },
     "execution_count": 193,
     "metadata": {},
     "output_type": "execute_result"
    }
   ],
   "source": [
    "ch_venues = ch_results['response']['groups'][0]['items']\n",
    "\n",
    "ch_nearby_venues = json_normalize(ch_venues)\n",
    "\n",
    "ch_nearby_venues = ch_nearby_venues.loc[:,filtered_columns]\n",
    "\n",
    "ch_nearby_venues.head()"
   ]
  },
  {
   "cell_type": "code",
   "execution_count": 194,
   "metadata": {},
   "outputs": [
    {
     "data": {
      "text/html": [
       "<div>\n",
       "<style scoped>\n",
       "    .dataframe tbody tr th:only-of-type {\n",
       "        vertical-align: middle;\n",
       "    }\n",
       "\n",
       "    .dataframe tbody tr th {\n",
       "        vertical-align: top;\n",
       "    }\n",
       "\n",
       "    .dataframe thead th {\n",
       "        text-align: right;\n",
       "    }\n",
       "</style>\n",
       "<table border=\"1\" class=\"dataframe\">\n",
       "  <thead>\n",
       "    <tr style=\"text-align: right;\">\n",
       "      <th></th>\n",
       "      <th>name</th>\n",
       "      <th>id</th>\n",
       "      <th>categories</th>\n",
       "      <th>lat</th>\n",
       "      <th>lng</th>\n",
       "    </tr>\n",
       "  </thead>\n",
       "  <tbody>\n",
       "    <tr>\n",
       "      <th>0</th>\n",
       "      <td>La Caravelle</td>\n",
       "      <td>4b5b300ef964a520b1e928e3</td>\n",
       "      <td>Bar</td>\n",
       "      <td>43.296535</td>\n",
       "      <td>5.372060</td>\n",
       "    </tr>\n",
       "    <tr>\n",
       "      <th>1</th>\n",
       "      <td>Starbucks (Starbucks Coffee)</td>\n",
       "      <td>4bea370a61aca593e7908300</td>\n",
       "      <td>Coffee Shop</td>\n",
       "      <td>43.297847</td>\n",
       "      <td>5.372830</td>\n",
       "    </tr>\n",
       "    <tr>\n",
       "      <th>2</th>\n",
       "      <td>InterContinental Marseille Hôtel-Dieu</td>\n",
       "      <td>50d1943ae4b0fff6c391682b</td>\n",
       "      <td>Hotel</td>\n",
       "      <td>43.298661</td>\n",
       "      <td>5.369779</td>\n",
       "    </tr>\n",
       "    <tr>\n",
       "      <th>3</th>\n",
       "      <td>Les Buvards</td>\n",
       "      <td>4bc57ecfccbcef3b1399e6d2</td>\n",
       "      <td>Wine Bar</td>\n",
       "      <td>43.297783</td>\n",
       "      <td>5.371368</td>\n",
       "    </tr>\n",
       "    <tr>\n",
       "      <th>4</th>\n",
       "      <td>Galeries Lafayette</td>\n",
       "      <td>4bbdf9ce078095218635db91</td>\n",
       "      <td>Department Store</td>\n",
       "      <td>43.296544</td>\n",
       "      <td>5.374758</td>\n",
       "    </tr>\n",
       "    <tr>\n",
       "      <th>5</th>\n",
       "      <td>Terrasse de l'InterContinental Marseille Hôtel...</td>\n",
       "      <td>51bc60145019f457c9e71423</td>\n",
       "      <td>Roof Deck</td>\n",
       "      <td>43.298463</td>\n",
       "      <td>5.369761</td>\n",
       "    </tr>\n",
       "    <tr>\n",
       "      <th>6</th>\n",
       "      <td>Capian Bar</td>\n",
       "      <td>51ad0479498eafba19f59d33</td>\n",
       "      <td>Cocktail Bar</td>\n",
       "      <td>43.298360</td>\n",
       "      <td>5.369721</td>\n",
       "    </tr>\n",
       "    <tr>\n",
       "      <th>7</th>\n",
       "      <td>Spa de l'InterContinental Marseille Hôtel-Dieu</td>\n",
       "      <td>51bc5f505019f457c9e67182</td>\n",
       "      <td>Spa</td>\n",
       "      <td>43.298510</td>\n",
       "      <td>5.369782</td>\n",
       "    </tr>\n",
       "    <tr>\n",
       "      <th>8</th>\n",
       "      <td>Hôtel la Résidence du Vieux-Port</td>\n",
       "      <td>4bd0b48ba8b3a593b770645f</td>\n",
       "      <td>Hotel</td>\n",
       "      <td>43.296483</td>\n",
       "      <td>5.372727</td>\n",
       "    </tr>\n",
       "    <tr>\n",
       "      <th>9</th>\n",
       "      <td>Vanille Noire</td>\n",
       "      <td>53f87ce2498ecc0a79b29359</td>\n",
       "      <td>Ice Cream Shop</td>\n",
       "      <td>43.297199</td>\n",
       "      <td>5.368588</td>\n",
       "    </tr>\n",
       "  </tbody>\n",
       "</table>\n",
       "</div>"
      ],
      "text/plain": [
       "                                                name  \\\n",
       "0                                       La Caravelle   \n",
       "1                       Starbucks (Starbucks Coffee)   \n",
       "2              InterContinental Marseille Hôtel-Dieu   \n",
       "3                                        Les Buvards   \n",
       "4                                 Galeries Lafayette   \n",
       "5  Terrasse de l'InterContinental Marseille Hôtel...   \n",
       "6                                         Capian Bar   \n",
       "7     Spa de l'InterContinental Marseille Hôtel-Dieu   \n",
       "8                   Hôtel la Résidence du Vieux-Port   \n",
       "9                                      Vanille Noire   \n",
       "\n",
       "                         id        categories        lat       lng  \n",
       "0  4b5b300ef964a520b1e928e3               Bar  43.296535  5.372060  \n",
       "1  4bea370a61aca593e7908300       Coffee Shop  43.297847  5.372830  \n",
       "2  50d1943ae4b0fff6c391682b             Hotel  43.298661  5.369779  \n",
       "3  4bc57ecfccbcef3b1399e6d2          Wine Bar  43.297783  5.371368  \n",
       "4  4bbdf9ce078095218635db91  Department Store  43.296544  5.374758  \n",
       "5  51bc60145019f457c9e71423         Roof Deck  43.298463  5.369761  \n",
       "6  51ad0479498eafba19f59d33      Cocktail Bar  43.298360  5.369721  \n",
       "7  51bc5f505019f457c9e67182               Spa  43.298510  5.369782  \n",
       "8  4bd0b48ba8b3a593b770645f             Hotel  43.296483  5.372727  \n",
       "9  53f87ce2498ecc0a79b29359    Ice Cream Shop  43.297199  5.368588  "
      ]
     },
     "execution_count": 194,
     "metadata": {},
     "output_type": "execute_result"
    }
   ],
   "source": [
    "ch_nearby_venues['venue.categories'] = ch_nearby_venues.apply(get_category_type,axis = 1)\n",
    "ch_nearby_venues.columns = [col.split('.')[-1] for col in ch_nearby_venues.columns]\n",
    "ch_nearby_venues.head(10)"
   ]
  },
  {
   "cell_type": "code",
   "execution_count": 195,
   "metadata": {
    "scrolled": true
   },
   "outputs": [
    {
     "name": "stdout",
     "output_type": "stream",
     "text": [
      "<class 'pandas.core.frame.DataFrame'>\n",
      "RangeIndex: 83 entries, 0 to 82\n",
      "Data columns (total 5 columns):\n",
      "name          83 non-null object\n",
      "id            83 non-null object\n",
      "categories    83 non-null object\n",
      "lat           83 non-null float64\n",
      "lng           83 non-null float64\n",
      "dtypes: float64(2), object(3)\n",
      "memory usage: 3.3+ KB\n"
     ]
    }
   ],
   "source": [
    "ch_nearby_venues.info()"
   ]
  },
  {
   "cell_type": "markdown",
   "metadata": {},
   "source": [
    "83 \"venues\" sont revenus dans les résultats du 2 Rue du Chevalier Roze 13002 Marseille."
   ]
  },
  {
   "cell_type": "code",
   "execution_count": 196,
   "metadata": {},
   "outputs": [],
   "source": [
    "ch_nearby_venues_map = ch_nearby_venues[0:10]"
   ]
  },
  {
   "cell_type": "code",
   "execution_count": 205,
   "metadata": {},
   "outputs": [
    {
     "data": {
      "text/html": [
       "<div style=\"width:100%;\"><div style=\"position:relative;width:100%;height:0;padding-bottom:60%;\"><iframe src=\"data:text/html;charset=utf-8;base64,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\" style=\"position:absolute;width:100%;height:100%;left:0;top:0;border:none !important;\" allowfullscreen webkitallowfullscreen mozallowfullscreen></iframe></div></div>"
      ],
      "text/plain": [
       "<folium.folium.Map at 0x2773ca98320>"
      ]
     },
     "execution_count": 205,
     "metadata": {},
     "output_type": "execute_result"
    }
   ],
   "source": [
    "ch_venues_map = folium.Map(location=[ch_lat, ch_lng], zoom_start=17, tiles=tileset, attr=attribution)\n",
    "\n",
    "#red marker added for main location\n",
    "folium.CircleMarker(\n",
    "    [ch_lat,ch_lng],\n",
    "    radius=10,\n",
    "    color='red',\n",
    "    popup='2 Rue du Chevalier Roze 13002 Marseille, France',\n",
    "    fill=True,\n",
    "    fill_color= 'red',\n",
    "    fill_opacity = 0.6\n",
    ").add_to(ch_venues_map)\n",
    "\n",
    "#blue markers for search results\n",
    "for lat, lng, label in zip(ch_nearby_venues_map.lat, ch_nearby_venues_map.lng, ch_nearby_venues_map.categories):\n",
    "    folium.CircleMarker(\n",
    "        [lat, lng],\n",
    "        radius = 5,\n",
    "        color='blue',\n",
    "        popup=label,\n",
    "        fill=True,\n",
    "        fill_color='blue',\n",
    "        fill_opacity=0.6\n",
    "    ).add_to(ch_venues_map)\n",
    "    \n",
    "ch_venues_map"
   ]
  },
  {
   "cell_type": "markdown",
   "metadata": {},
   "source": [
    "### Explorer le quartier"
   ]
  },
  {
   "cell_type": "code",
   "execution_count": 199,
   "metadata": {},
   "outputs": [
    {
     "data": {
      "text/plain": [
       "46"
      ]
     },
     "execution_count": 199,
     "metadata": {},
     "output_type": "execute_result"
    }
   ],
   "source": [
    "ch_unique = ch_nearby_venues['categories'].unique()\n",
    "ch_nearby_venues['categories'].nunique()"
   ]
  },
  {
   "cell_type": "markdown",
   "metadata": {},
   "source": [
    "Il y a 46 types uniques de lieux autour du Rue Lulli 13001 Marseille."
   ]
  },
  {
   "cell_type": "code",
   "execution_count": 200,
   "metadata": {},
   "outputs": [
    {
     "name": "stdout",
     "output_type": "stream",
     "text": [
      "Emplacement en Marseille et Emplacement en Paris:  \n",
      " ['Bar', 'Coffee Shop', 'Hotel', 'Wine Bar', 'Ice Cream Shop', 'French Restaurant', 'Café', 'Plaza', 'Museum', 'Pub', 'Seafood Restaurant', 'Bistro', 'Italian Restaurant', 'Vegetarian / Vegan Restaurant', 'Bookstore', 'Trail', 'Diner']\n",
      "\n",
      "\n",
      "Emplacement en Marseille:  \n",
      " ['Department Store', 'Roof Deck', 'Cocktail Bar', 'Spa', 'Tea Room', 'Provençal Restaurant', 'Food', 'Lounge', 'Public Art', 'Pizza Place', 'Moroccan Restaurant', 'Garden', 'Candy Store', 'Burger Joint', 'Fish Market', 'History Museum', 'Electronics Store', 'Cosmetics Shop', 'Sandwich Place', 'Sporting Goods Shop', 'Steakhouse', 'Tourist Information Center', 'Fast Food Restaurant', 'Shopping Mall', 'Supermarket', 'Speakeasy', 'Watch Shop', 'Metro Station', 'Convenience Store']\n",
      "\n",
      "\n",
      "Emplacement en Paris:  \n",
      " ['Japanese Restaurant', 'Indie Movie Theater', 'Bakery', 'Mexican Restaurant', 'Miscellaneous Shop', 'Pastry Shop', 'Historic Site', 'Cheese Shop', 'Pool', 'Basque Restaurant', 'Hobby Shop', 'Portuguese Restaurant', 'Ethiopian Restaurant', 'Liquor Store', 'Wine Shop', 'Tapas Restaurant', 'Park', 'Lebanese Restaurant', 'Noodle House', 'Breakfast Spot', 'Creperie', 'Cupcake Shop', 'Vietnamese Restaurant', 'Spanish Restaurant', 'Syrian Restaurant', 'Middle Eastern Restaurant', 'Taco Place']\n"
     ]
    }
   ],
   "source": [
    "ch_wp_same = []\n",
    "ch_has = []\n",
    "for x in ch_unique:\n",
    "    if x in wp_unique:\n",
    "        ch_wp_same.append(x)\n",
    "    else:\n",
    "        ch_has.append(x)\n",
    "print('Emplacement en Marseille et Emplacement en Paris: ', '\\n', ch_wp_same)\n",
    "print('\\n')\n",
    "print('Emplacement en Marseille: ', '\\n', ch_has)\n",
    "\n",
    "wp_has = []\n",
    "for x in wp_unique:\n",
    "    if x in ch_unique:\n",
    "        continue\n",
    "    else:\n",
    "        wp_has.append(x)\n",
    "print('\\n')\n",
    "print('Emplacement en Paris: ', '\\n', wp_has)"
   ]
  },
  {
   "cell_type": "markdown",
   "metadata": {},
   "source": [
    "Marseille a similar variété de \"venues\" que Paris."
   ]
  },
  {
   "cell_type": "code",
   "execution_count": 206,
   "metadata": {},
   "outputs": [
    {
     "data": {
      "text/plain": [
       "categories\n",
       "Hotel                  10\n",
       "French Restaurant       7\n",
       "Bar                     3\n",
       "Ice Cream Shop          3\n",
       "Italian Restaurant      3\n",
       "Moroccan Restaurant     3\n",
       "Plaza                   3\n",
       "Electronics Store       3\n",
       "Coffee Shop             3\n",
       "Seafood Restaurant      3\n",
       "Name: name, dtype: int64"
      ]
     },
     "execution_count": 206,
     "metadata": {},
     "output_type": "execute_result"
    }
   ],
   "source": [
    "ch_nearby_venues.groupby('categories').count()['name'].sort_values(ascending=False).head(10)"
   ]
  },
  {
   "cell_type": "markdown",
   "metadata": {},
   "source": [
    "### 2 Rue du Chevalier Roze 13002 Marseille, tarifs et likes"
   ]
  },
  {
   "cell_type": "markdown",
   "metadata": {},
   "source": [
    "Jetons un coup d'œil aux informations sur du quartier"
   ]
  },
  {
   "cell_type": "code",
   "execution_count": 201,
   "metadata": {},
   "outputs": [],
   "source": [
    "ch_venue_info = get_venue_info(ch_nearby_venues['id'])"
   ]
  },
  {
   "cell_type": "code",
   "execution_count": 202,
   "metadata": {},
   "outputs": [
    {
     "data": {
      "text/plain": [
       "[['La Caravelle', {'tier': 2, 'message': 'Moderate', 'currency': '€'}, 96],\n",
       " ['Starbucks (Starbucks Coffee)',\n",
       "  {'tier': 3, 'message': 'Expensive', 'currency': '€'},\n",
       "  147],\n",
       " ['InterContinental Marseille Hôtel-Dieu', 'Not Available', 126],\n",
       " ['Les Buvards', {'tier': 2, 'message': 'Moderate', 'currency': '€'}, 17],\n",
       " ['Galeries Lafayette', 'Not Available', 101],\n",
       " [\"Terrasse de l'InterContinental Marseille Hôtel-Dieu\", 'Not Available', 27],\n",
       " ['Capian Bar', {'tier': 3, 'message': 'Expensive', 'currency': '€'}, 12],\n",
       " [\"Spa de l'InterContinental Marseille Hôtel-Dieu\", 'Not Available', 12],\n",
       " ['Hôtel la Résidence du Vieux-Port', 'Not Available', 14],\n",
       " ['Vanille Noire', {'tier': 1, 'message': 'Cheap', 'currency': '€'}, 21],\n",
       " ['La Fabrique', {'tier': 3, 'message': 'Expensive', 'currency': '€'}, 20],\n",
       " ['Cup of Tea', {'tier': 2, 'message': 'Moderate', 'currency': '€'}, 19],\n",
       " ['Au Cœur du Panier', 'Not Available', 51],\n",
       " ['Amorino', {'tier': 1, 'message': 'Cheap', 'currency': '€'}, 69],\n",
       " ['Une Table Au Sud', 'Not Available', 19]]"
      ]
     },
     "execution_count": 202,
     "metadata": {},
     "output_type": "execute_result"
    }
   ],
   "source": [
    "ch_venue_info"
   ]
  },
  {
   "cell_type": "code",
   "execution_count": 203,
   "metadata": {},
   "outputs": [
    {
     "data": {
      "text/html": [
       "<div>\n",
       "<style scoped>\n",
       "    .dataframe tbody tr th:only-of-type {\n",
       "        vertical-align: middle;\n",
       "    }\n",
       "\n",
       "    .dataframe tbody tr th {\n",
       "        vertical-align: top;\n",
       "    }\n",
       "\n",
       "    .dataframe thead th {\n",
       "        text-align: right;\n",
       "    }\n",
       "</style>\n",
       "<table border=\"1\" class=\"dataframe\">\n",
       "  <thead>\n",
       "    <tr style=\"text-align: right;\">\n",
       "      <th></th>\n",
       "      <th>name</th>\n",
       "      <th>price_tier</th>\n",
       "      <th>likes</th>\n",
       "    </tr>\n",
       "  </thead>\n",
       "  <tbody>\n",
       "    <tr>\n",
       "      <th>1</th>\n",
       "      <td>Starbucks (Starbucks Coffee)</td>\n",
       "      <td>Expensive</td>\n",
       "      <td>147</td>\n",
       "    </tr>\n",
       "    <tr>\n",
       "      <th>2</th>\n",
       "      <td>InterContinental Marseille Hôtel-Dieu</td>\n",
       "      <td>None</td>\n",
       "      <td>126</td>\n",
       "    </tr>\n",
       "    <tr>\n",
       "      <th>4</th>\n",
       "      <td>Galeries Lafayette</td>\n",
       "      <td>None</td>\n",
       "      <td>101</td>\n",
       "    </tr>\n",
       "    <tr>\n",
       "      <th>0</th>\n",
       "      <td>La Caravelle</td>\n",
       "      <td>Moderate</td>\n",
       "      <td>96</td>\n",
       "    </tr>\n",
       "    <tr>\n",
       "      <th>13</th>\n",
       "      <td>Amorino</td>\n",
       "      <td>Cheap</td>\n",
       "      <td>69</td>\n",
       "    </tr>\n",
       "    <tr>\n",
       "      <th>12</th>\n",
       "      <td>Au Cœur du Panier</td>\n",
       "      <td>None</td>\n",
       "      <td>51</td>\n",
       "    </tr>\n",
       "    <tr>\n",
       "      <th>5</th>\n",
       "      <td>Terrasse de l'InterContinental Marseille Hôtel...</td>\n",
       "      <td>None</td>\n",
       "      <td>27</td>\n",
       "    </tr>\n",
       "    <tr>\n",
       "      <th>9</th>\n",
       "      <td>Vanille Noire</td>\n",
       "      <td>Cheap</td>\n",
       "      <td>21</td>\n",
       "    </tr>\n",
       "    <tr>\n",
       "      <th>10</th>\n",
       "      <td>La Fabrique</td>\n",
       "      <td>Expensive</td>\n",
       "      <td>20</td>\n",
       "    </tr>\n",
       "    <tr>\n",
       "      <th>11</th>\n",
       "      <td>Cup of Tea</td>\n",
       "      <td>Moderate</td>\n",
       "      <td>19</td>\n",
       "    </tr>\n",
       "    <tr>\n",
       "      <th>14</th>\n",
       "      <td>Une Table Au Sud</td>\n",
       "      <td>None</td>\n",
       "      <td>19</td>\n",
       "    </tr>\n",
       "    <tr>\n",
       "      <th>3</th>\n",
       "      <td>Les Buvards</td>\n",
       "      <td>Moderate</td>\n",
       "      <td>17</td>\n",
       "    </tr>\n",
       "    <tr>\n",
       "      <th>8</th>\n",
       "      <td>Hôtel la Résidence du Vieux-Port</td>\n",
       "      <td>None</td>\n",
       "      <td>14</td>\n",
       "    </tr>\n",
       "    <tr>\n",
       "      <th>6</th>\n",
       "      <td>Capian Bar</td>\n",
       "      <td>Expensive</td>\n",
       "      <td>12</td>\n",
       "    </tr>\n",
       "    <tr>\n",
       "      <th>7</th>\n",
       "      <td>Spa de l'InterContinental Marseille Hôtel-Dieu</td>\n",
       "      <td>None</td>\n",
       "      <td>12</td>\n",
       "    </tr>\n",
       "  </tbody>\n",
       "</table>\n",
       "</div>"
      ],
      "text/plain": [
       "                                                 name price_tier  likes\n",
       "1                        Starbucks (Starbucks Coffee)  Expensive    147\n",
       "2               InterContinental Marseille Hôtel-Dieu       None    126\n",
       "4                                  Galeries Lafayette       None    101\n",
       "0                                        La Caravelle   Moderate     96\n",
       "13                                            Amorino      Cheap     69\n",
       "12                                  Au Cœur du Panier       None     51\n",
       "5   Terrasse de l'InterContinental Marseille Hôtel...       None     27\n",
       "9                                       Vanille Noire      Cheap     21\n",
       "10                                        La Fabrique  Expensive     20\n",
       "11                                         Cup of Tea   Moderate     19\n",
       "14                                   Une Table Au Sud       None     19\n",
       "3                                         Les Buvards   Moderate     17\n",
       "8                    Hôtel la Résidence du Vieux-Port       None     14\n",
       "6                                          Capian Bar  Expensive     12\n",
       "7      Spa de l'InterContinental Marseille Hôtel-Dieu       None     12"
      ]
     },
     "execution_count": 203,
     "metadata": {},
     "output_type": "execute_result"
    }
   ],
   "source": [
    "ch_df = pd.DataFrame(ch_venue_info, columns=['name', 'price_tier', 'likes'])\n",
    "ch_df['price_tier'] = ch_df.apply(get_price_tier, axis=1)\n",
    "ch_df.sort_values('likes', ascending=False)"
   ]
  },
  {
   "cell_type": "markdown",
   "metadata": {},
   "source": [
    "On dirait que Lyon a des restaurants beaucoup plus chers."
   ]
  },
  {
   "cell_type": "markdown",
   "metadata": {},
   "source": [
    "# Résultats"
   ]
  },
  {
   "cell_type": "markdown",
   "metadata": {},
   "source": [
    "##### Échelle des prix\n",
    "\n",
    "Sur la base de l'analyse, il semblerait que Marseille ait une gamme de prix plus proche de Paris que de Lyon. Cependant, en raison du nombre limité d'appels premium par jour, il est possible que les restaurants chers à Lyon aient simplement été manqués. Lyon avait également plus de sites qui n'ont pas de niveau de prix étiqueté, ce qui rend également la comparaison plus difficile. aussi les nouveaux sites (lyon et marseille) ont moins de restaurants que Paris."
   ]
  },
  {
   "cell_type": "markdown",
   "metadata": {},
   "source": [
    "##### Popularity\n",
    "\n",
    "Les lieux de Lyon ont beaucoup plus de likes que Paris ou Marseille. Cela signifie que Lyon pourrait être une zone plus fréquentée avec plus de trafic piétonnier. Ou les gens sont très enthousiaste dans ce domaine."
   ]
  },
  {
   "cell_type": "markdown",
   "metadata": {},
   "source": [
    "# Discussion"
   ]
  },
  {
   "cell_type": "markdown",
   "metadata": {},
   "source": [
    "Après l'anaylsis, il semblerait que Lyon soit le meilleur choix pour quelqu'un qui cherche une expérience plus similaire à Paris. C'est un peu plus cher, mais cela fournira également un style de vie divertissant.\n",
    "\n",
    "Marseille semble plus calme et tranquille. Ce serait un bon choix pour quelqu'un qui voudrait changer ce qu'il a obtenu à Paris."
   ]
  },
  {
   "cell_type": "markdown",
   "metadata": {},
   "source": [
    "# Références"
   ]
  },
  {
   "cell_type": "markdown",
   "metadata": {},
   "source": [
    "<a href=\"https://es.coursera.org/learn/applied-data-science-capstone\"> The Battle of Neighborhoods: Coursera Capstone Project</a>\n",
    "\n",
    "<a href=\"https://pypi.org/project/geopy/\"> Geopy Geocoders</a>\n",
    "\n",
    "<a href=\"https://developer.foursquare.com/\"> Foursquare API</a>\n",
    "\n",
    "<a href=\"https://github.com/mapbox/mapboxgl-jupyter\"> MapBox Location Data Visualization library for Jupyter Notebooks</a>"
   ]
  },
  {
   "cell_type": "markdown",
   "metadata": {},
   "source": [
    "## 👍👍 <center> <a href=\"https://www.linkedin.com/in/lealrlx/\">Partagez vos idées et vos commentaires, écrivez-moi 🌍 </a> </center>##"
   ]
  }
 ],
 "metadata": {
  "kernelspec": {
   "display_name": "Python 3",
   "language": "python",
   "name": "python3"
  },
  "language_info": {
   "codemirror_mode": {
    "name": "ipython",
    "version": 3
   },
   "file_extension": ".py",
   "mimetype": "text/x-python",
   "name": "python",
   "nbconvert_exporter": "python",
   "pygments_lexer": "ipython3",
   "version": "3.6.5"
  }
 },
 "nbformat": 4,
 "nbformat_minor": 2
}
